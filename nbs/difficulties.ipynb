{
 "cells": [
  {
   "cell_type": "code",
   "execution_count": 49,
   "id": "initial_id",
   "metadata": {
    "collapsed": true,
    "ExecuteTime": {
     "end_time": "2025-01-31T07:30:01.066908Z",
     "start_time": "2025-01-31T07:29:59.802112Z"
    }
   },
   "outputs": [
    {
     "data": {
      "text/plain": "<Figure size 325x241.033 with 1 Axes>",
      "image/png": "[encoded data removed]"
     },
     "metadata": {},
     "output_type": "display_data"
    }
   ],
   "source": [
    "import pickle\n",
    "import numpy as np\n",
    "import pandas as pd\n",
    "from matplotlib import pyplot as plt\n",
    "from scipy.constants import golden\n",
    "\n",
    "def plot_difficulty_vs_mean_scores(human_file, filtered_file, trace_file):\n",
    "    # Load files\n",
    "    with open(human_file, 'rb') as f:\n",
    "        human_data = pickle.load(f)\n",
    "    \n",
    "    with open(filtered_file, 'rb') as f:\n",
    "        filtered_data = pickle.load(f)\n",
    "    \n",
    "    with open(trace_file, 'rb') as f:\n",
    "        trace_data = pickle.load(f)\n",
    "\n",
    "    # Get scores for each human\n",
    "    all_scores = []\n",
    "    for human_id in human_data['raw_scores'].keys():\n",
    "        human_df = human_data['raw_scores'][human_id]\n",
    "        scores = pd.DataFrame(index=human_df.index)\n",
    "        scores['all_correct'] = human_df['all_correct_'].astype(int)\n",
    "        all_scores.append(scores)\n",
    "    \n",
    "    combined_scores = pd.concat(all_scores, axis=1)\n",
    "    mean_scores = combined_scores.mean(axis=1)\n",
    "    \n",
    "    # Get Mistral data and find matching indices\n",
    "    mistral_df = pd.DataFrame(filtered_data['overall']['Mistral-Large-2'])\n",
    "    human_indices = mean_scores.index\n",
    "    mistral_indices = mistral_df['Unnamed: 0'].values\n",
    "    matching_indices = [idx for idx, val in enumerate(human_indices) if val in mistral_indices]\n",
    "    \n",
    "    # Get difficulty values and corresponding scores\n",
    "    difficulty_vector = trace_data.posterior['difficulties'].mean(dim=['chain', 'draw']).values\n",
    "    matched_difficulties = difficulty_vector[matching_indices]\n",
    "    matched_scores = mean_scores.iloc[matching_indices]\n",
    "    \n",
    "    # Plot settings\n",
    "    ONE_COL_WIDTH_INCH = 3.25\n",
    "    ONE_COL_GOLDEN_RATIO_HEIGHT_INCH = ONE_COL_WIDTH_INCH / golden\n",
    "    plt.style.use('../nbs/lamalab.mplstyle')\n",
    "    \n",
    "    # Create figure with white background\n",
    "    fig, ax = plt.subplots(figsize=(ONE_COL_WIDTH_INCH, 1.2 * ONE_COL_GOLDEN_RATIO_HEIGHT_INCH))\n",
    "    fig.patch.set_facecolor('white')\n",
    "    ax.set_facecolor('white')\n",
    "    \n",
    "    # Remove grid\n",
    "    ax.grid(False)\n",
    "    \n",
    "    # Create scatter plot with improved styling\n",
    "    scatter = ax.scatter(matched_difficulties, matched_scores, alpha=0.5, color='#6A040F')\n",
    "    \n",
    "    # Add trend line\n",
    "    #z = np.polyfit(matched_difficulties, matched_scores, 1)\n",
    "    #p = np.poly1d(z)\n",
    "    #ax.plot(matched_difficulties, p(matched_difficulties), \"--\", color='#6A040F', alpha=0.8)\n",
    "    \n",
    "    # Calculate and add correlation\n",
    "    #correlation = np.corrcoef(matched_difficulties, matched_scores)[0,1]\n",
    "    #ax.text(0.05, 0.95, f'Correlation: {correlation:.3f}', \n",
    "            #transform=ax.transAxes,\n",
    "            #bbox=dict(facecolor='white', alpha=0.8, edgecolor='none'))\n",
    "    \n",
    "    # Add margins to create space between points and axes\n",
    "    ax.margins(x=0.1, y=0.1)\n",
    "    \n",
    "    # Customize labels and title\n",
    "    ax.set_xlabel('Question Difficulty (IRT)')\n",
    "    ax.set_ylabel('Average Human Score')\n",
    "    \n",
    "    # Adjust layout\n",
    "    plt.tight_layout()\n",
    "    \n",
    "    # Save figure\n",
    "    plt.savefig('difficulty_human_scores.pdf', bbox_inches='tight', dpi=300)\n",
    "    \n",
    "    return fig\n",
    "\n",
    "# Create plot\n",
    "fig = plot_difficulty_vs_mean_scores(\n",
    "    '../data/humans_as_models_scores_combined.pkl',\n",
    "    '../data/filtered_model_score_dict.pkl',\n",
    "    '../data/trace_all_correct_filtered.pkl'\n",
    ")\n",
    "plt.show()"
   ]
  },
  {
   "cell_type": "code",
   "execution_count": null,
   "outputs": [],
   "source": [],
   "metadata": {
    "collapsed": false
   },
   "id": "51466c20fd899f7b"
  }
 ],
 "metadata": {
  "kernelspec": {
   "display_name": "Python 3",
   "language": "python",
   "name": "python3"
  },
  "language_info": {
   "codemirror_mode": {
    "name": "ipython",
    "version": 2
   },
   "file_extension": ".py",
   "mimetype": "text/x-python",
   "name": "python",
   "nbconvert_exporter": "python",
   "pygments_lexer": "ipython2",
   "version": "2.7.6"
  }
 },
 "nbformat": 4,
 "nbformat_minor": 5
}
