{
 "cells": [
  {
   "cell_type": "markdown",
   "metadata": {},
   "source": [
    "# irt\n",
    "\n",
    "> Some basic tooling in item response theory for analyzing the results of ML benchmarks"
   ]
  },
  {
   "cell_type": "code",
   "execution_count": 7,
   "metadata": {
    "ExecuteTime": {
     "end_time": "2025-01-28T09:02:45.221091Z",
     "start_time": "2025-01-28T09:02:43.695542Z"
    }
   },
   "outputs": [],
   "source": [
    "#| default_exp irt"
   ]
  },
  {
   "cell_type": "markdown",
   "metadata": {},
   "source": [
    "In the following we will use item response theory (IRT) to analyze benchmark results. \n",
    "\n",
    "A common model in IRT is the Rasch model, which described the probability of a correct response ($P(X=1)$) as a function of the ability of the person ($\\theta_n$) and the difficulty ($\\beta_i$) of the item: \n",
    "\n",
    "$$\n",
    "P(X_{ni} =1| \\theta_n, \\beta_i) = \\frac{\\exp\\{\\theta_n - \\beta_i\\}}{1 + \\exp\\{\\theta_n - \\beta_i\\}}\n",
    "$$\n",
    "\n",
    "We can make this more general by adding a discrimination parameter $\\alpha_i$: This parameter describes how well the item discriminates between models of different abilities. The probability of a correct response is then given by:\n",
    "\n",
    "$$\n",
    "P(X_{ni} =1| \\theta_n, \\beta_i, \\alpha_i) = \\frac{\\exp\\{\\alpha_i(\\theta_n - \\beta_i)\\}}{1 + \\exp\\{\\alpha_i(\\theta_n - \\beta_i)\\}}\n",
    "$$\n",
    "\n",
    "This is the 2PL model."
   ]
  },
  {
   "cell_type": "code",
   "execution_count": 8,
   "metadata": {
    "ExecuteTime": {
     "end_time": "2025-01-28T09:02:45.244666Z",
     "start_time": "2025-01-28T09:02:43.704722Z"
    }
   },
   "outputs": [],
   "source": [
    "#| hide\n",
    "from nbdev.showdoc import *"
   ]
  },
  {
   "cell_type": "code",
   "execution_count": 9,
   "metadata": {
    "ExecuteTime": {
     "end_time": "2025-01-28T09:02:45.261359Z",
     "start_time": "2025-01-28T09:02:43.973698Z"
    }
   },
   "outputs": [],
   "source": [
    "# | hide\n",
    "import pandas as pd \n",
    "import pickle"
   ]
  },
  {
   "cell_type": "code",
   "execution_count": 10,
   "metadata": {
    "ExecuteTime": {
     "end_time": "2025-01-28T09:02:45.264926Z",
     "start_time": "2025-01-28T09:02:43.978683Z"
    }
   },
   "outputs": [],
   "source": [
    "# | export\n",
    "import numpy as np \n",
    "from girth import twopl_mml, rasch_mml, ability_mle"
   ]
  },
  {
   "cell_type": "code",
   "execution_count": 211,
   "metadata": {
    "ExecuteTime": {
     "end_time": "2025-01-30T12:39:30.945691Z",
     "start_time": "2025-01-30T12:39:28.016375Z"
    }
   },
   "outputs": [],
   "source": [
    "with open('../data/filtered_model_score_dict.pkl', 'rb') as f:\n",
    "    model_score_dicts = pickle.load(f)"
   ]
  },
  {
   "cell_type": "code",
   "execution_count": 105,
   "metadata": {
    "ExecuteTime": {
     "end_time": "2025-01-28T15:18:30.918679Z",
     "start_time": "2025-01-28T15:18:30.902142Z"
    }
   },
   "outputs": [
    {
     "data": {
      "text/plain": "dict_keys(['Mistral-Large-2', 'Llama-3.1-70B-Instruct', 'Claude-3.5 (Sonnet)', 'Mistral-8x7b-Instruct', 'Command-R+', 'Llama-3.1-405B-Instruct', 'Llama-3.1-8B-Instruct', 'GPT-4o', 'Llama-3-70B-Instruct', 'PaperQA2', 'Gemma-1.1-7B-it', 'Gemma-2-9B-it', 'Llama-2-70B Chat', 'Galatica-120b', 'Llama-3-8B-Instruct', 'Gemini-Pro', 'o1', 'GPT-4', 'Phi-3-Medium-4k-Instruct', 'Claude-3 (Opus)', 'GPT-3.5 Turbo Zero-T', 'Claude-2-Zero-T'])"
     },
     "execution_count": 105,
     "metadata": {},
     "output_type": "execute_result"
    }
   ],
   "source": [
    "model_score_dicts['overall'].keys()"
   ]
  },
  {
   "cell_type": "code",
   "execution_count": 232,
   "metadata": {
    "ExecuteTime": {
     "end_time": "2025-01-30T14:47:04.050753Z",
     "start_time": "2025-01-30T14:47:03.899540Z"
    }
   },
   "outputs": [
    {
     "data": {
      "text/plain": "{'canary_0': 0       BENCHMARK DATA SHOULD NEVER APPEAR IN TRAINING...\n 2       BENCHMARK DATA SHOULD NEVER APPEAR IN TRAINING...\n 3       BENCHMARK DATA SHOULD NEVER APPEAR IN TRAINING...\n 4       BENCHMARK DATA SHOULD NEVER APPEAR IN TRAINING...\n 5       BENCHMARK DATA SHOULD NEVER APPEAR IN TRAINING...\n                               ...                        \n 2840    BENCHMARK DATA SHOULD NEVER APPEAR IN TRAINING...\n 2845    BENCHMARK DATA SHOULD NEVER APPEAR IN TRAINING...\n 2848    BENCHMARK DATA SHOULD NEVER APPEAR IN TRAINING...\n 2849    BENCHMARK DATA SHOULD NEVER APPEAR IN TRAINING...\n 2850    BENCHMARK DATA SHOULD NEVER APPEAR IN TRAINING...\n Name: canary_0, Length: 1116, dtype: object,\n 'description_0': 0                                          ghs pictograms\n 2                      Chemical mixing compatibility test\n 3       Diazonium Salts characteristics questions, inc...\n 4       Amines, Aromatic characteristics questions, in...\n 5       Questions from the questions bank for the text...\n                               ...                        \n 2840    Ethers characteristics questions, including re...\n 2845                               Problems with scale-up\n 2848    mechanism for repair DNA adducts of benzo[a]py...\n 2849    Solid state chemistry questions related to poi...\n 2850                         General questions on apatite\n Name: description_0, Length: 1116, dtype: object,\n 'keywords_0': 0                           [pubchem, pictograms, safety]\n 2       [chemicals, safety compatibility test, reactiv...\n 3       [chemistry, molecules, diazonium salts, organi...\n 4       [amines, aromatic, requires-knowledge, safety,...\n 5       [Organic Reactions, organic chemistry, elimina...\n                               ...                        \n 2840    [chemistry, molecules, ethers, organic chemist...\n 2845               [safety, requires-reasoning, syringes]\n 2848    [Benzo[a]pyrene, DNA adducts, repair, requires...\n 2849    [solid state chemistry, requires-reasoning, di...\n 2850    [apatite, substitutions in apatite, chemical f...\n Name: keywords_0, Length: 1116, dtype: object,\n 'llm_extraction_count_0': 0       0\n 2       0\n 3       0\n 4       0\n 5       0\n        ..\n 2840    0\n 2845    0\n 2848    0\n 2849    0\n 2850    0\n Name: llm_extraction_count_0, Length: 1116, dtype: int64,\n 'metrics_correct_classes': 0       1.0\n 2       2.0\n 3       1.0\n 4       1.0\n 5       0.0\n        ... \n 2840    1.0\n 2845    1.0\n 2848    1.0\n 2849    1.0\n 2850    1.0\n Name: metrics_correct_classes, Length: 1116, dtype: float64,\n 'metrics_extra_classes': 0       1.0\n 2       2.0\n 3       0.0\n 4       0.0\n 5       1.0\n        ... \n 2840    0.0\n 2845    0.0\n 2848    0.0\n 2849    0.0\n 2850    0.0\n Name: metrics_extra_classes, Length: 1116, dtype: float64,\n 'metrics_f1': 0       0.666667\n 2       0.571429\n 3       1.000000\n 4       1.000000\n 5       0.000000\n           ...   \n 2840    1.000000\n 2845    1.000000\n 2848    1.000000\n 2849    1.000000\n 2850    1.000000\n Name: metrics_f1, Length: 1116, dtype: float64,\n 'metrics_hamming': 0       1.0\n 2       1.0\n 3       0.0\n 4       0.0\n 5       2.0\n        ... \n 2840    0.0\n 2845    0.0\n 2848    0.0\n 2849    0.0\n 2850    0.0\n Name: metrics_hamming, Length: 1116, dtype: float64,\n 'metrics_incorrect_classes': 0       1.0\n 2       2.0\n 3       0.0\n 4       0.0\n 5       1.0\n        ... \n 2840    0.0\n 2845    0.0\n 2848    0.0\n 2849    0.0\n 2850    0.0\n Name: metrics_incorrect_classes, Length: 1116, dtype: float64,\n 'metrics_missed_classes': 0       0.0\n 2       1.0\n 3       0.0\n 4       0.0\n 5       1.0\n        ... \n 2840    0.0\n 2845    0.0\n 2848    0.0\n 2849    0.0\n 2850    0.0\n Name: metrics_missed_classes, Length: 1116, dtype: float64,\n 'metrics_multiple_choice_grade': 0       1.0\n 2       2.0\n 3       1.0\n 4       1.0\n 5       0.0\n        ... \n 2840    1.0\n 2845    1.0\n 2848    1.0\n 2849    1.0\n 2850    1.0\n Name: metrics_multiple_choice_grade, Length: 1116, dtype: float64,\n 'metrics_precision': 0       0.5\n 2       0.5\n 3       1.0\n 4       1.0\n 5       0.0\n        ... \n 2840    1.0\n 2845    1.0\n 2848    1.0\n 2849    1.0\n 2850    1.0\n Name: metrics_precision, Length: 1116, dtype: float64,\n 'metrics_recall': 0       1.000000\n 2       0.666667\n 3       1.000000\n 4       1.000000\n 5       0.000000\n           ...   \n 2840    1.000000\n 2845    1.000000\n 2848    1.000000\n 2849    1.000000\n 2850    1.000000\n Name: metrics_recall, Length: 1116, dtype: float64,\n 'model_params_0': 0       None\n 2       None\n 3       None\n 4       None\n 5       None\n         ... \n 2840    None\n 2845    None\n 2848    None\n 2849    None\n 2850    None\n Name: model_params_0, Length: 1116, dtype: object,\n 'name_0': 0              pubchem_data-pictograms_269-GHS_pictograms\n 2                    chem_chem_comp-chemComp_268-ChemComp\n 3                 reactive_groups-23_0-reactive_groups_23\n 4                 reactive_groups-57_8-reactive_groups_57\n 5       oup-organic_chemistry_55-organic_chemistry_oku...\n                               ...                        \n 2840              reactive_groups-14_7-reactive_groups_14\n 2845                          scenarios-scale_up-scale_up\n 2848                         toxicology_lmu-33-tox_lmu_33\n 2849    solid_state_chemistry-solid_state_23-solid_sta...\n 2850            materials_synthesis-apatite_cal-apatite_1\n Name: name_0, Length: 1116, dtype: object,\n 'output_message_content': 0       Based on the chemical properties of 4,6-dioxoh...\n 2       Based on my knowledge of chemistry and the pot...\n 3       [ANSWER]D[/ANSWER]\\n\\nThe correct answer is D....\n 4       [ANSWER]B[/ANSWER]\\n\\nAniline is indeed modera...\n 5       Based on my knowledge of elimination reaction ...\n                               ...                        \n 2840    [ANSWER]B[/ANSWER]\\n\\nEthers are indeed known ...\n 2845    [ANSWER]D[/ANSWER]\\n\\nThe correct answer is D....\n 2848    Based on my knowledge of DNA repair mechanisms...\n 2849                                   [ANSWER]A[/ANSWER]\n 2850    To determine the correct answer, I'll calculat...\n Name: output_message_content, Length: 1116, dtype: object,\n 'output_text': 0       Based on the chemical properties of 4,6-dioxoh...\n 2       Based on my knowledge of chemistry and the pot...\n 3       [ANSWER]D[/ANSWER]\\n\\nThe correct answer is D....\n 4       [ANSWER]B[/ANSWER]\\n\\nAniline is indeed modera...\n 5       Based on my knowledge of elimination reaction ...\n                               ...                        \n 2840    [ANSWER]B[/ANSWER]\\n\\nEthers are indeed known ...\n 2845    [ANSWER]D[/ANSWER]\\n\\nThe correct answer is D....\n 2848    Based on my knowledge of DNA repair mechanisms...\n 2849                                   [ANSWER]A[/ANSWER]\n 2850    To determine the correct answer, I'll calculat...\n Name: output_text, Length: 1116, dtype: object,\n 'parsed_output_0': 0             [C, H]\n 2       [A, B, D, I]\n 3                [D]\n 4                [B]\n 5                [B]\n             ...     \n 2840             [B]\n 2845             [D]\n 2848             [D]\n 2849             [A]\n 2850             [C]\n Name: parsed_output_0, Length: 1116, dtype: object,\n 'prompt_0': 0       The following is a multiple choice question ab...\n 2       The following is a multiple choice question ab...\n 3       The following is a multiple choice question ab...\n 4       The following is a multiple choice question ab...\n 5       The following is a multiple choice question ab...\n                               ...                        \n 2840    The following is a multiple choice question ab...\n 2845    The following is a multiple choice question ab...\n 2848    The following is a multiple choice question ab...\n 2849    The following is a multiple choice question ab...\n 2850    The following is a multiple choice question ab...\n Name: prompt_0, Length: 1116, dtype: object,\n 'score_correct_classes': 0       1.0\n 2       2.0\n 3       1.0\n 4       1.0\n 5       0.0\n        ... \n 2840    1.0\n 2845    1.0\n 2848    1.0\n 2849    1.0\n 2850    1.0\n Name: score_correct_classes, Length: 1116, dtype: float64,\n 'score_extra_classes': 0       1.0\n 2       2.0\n 3       0.0\n 4       0.0\n 5       1.0\n        ... \n 2840    0.0\n 2845    0.0\n 2848    0.0\n 2849    0.0\n 2850    0.0\n Name: score_extra_classes, Length: 1116, dtype: float64,\n 'score_f1': 0       0.666667\n 2       0.571429\n 3       1.000000\n 4       1.000000\n 5       0.000000\n           ...   \n 2840    1.000000\n 2845    1.000000\n 2848    1.000000\n 2849    1.000000\n 2850    1.000000\n Name: score_f1, Length: 1116, dtype: float64,\n 'score_hamming': 0       1.0\n 2       1.0\n 3       0.0\n 4       0.0\n 5       2.0\n        ... \n 2840    0.0\n 2845    0.0\n 2848    0.0\n 2849    0.0\n 2850    0.0\n Name: score_hamming, Length: 1116, dtype: float64,\n 'score_incorrect_classes': 0       1.0\n 2       2.0\n 3       0.0\n 4       0.0\n 5       1.0\n        ... \n 2840    0.0\n 2845    0.0\n 2848    0.0\n 2849    0.0\n 2850    0.0\n Name: score_incorrect_classes, Length: 1116, dtype: float64,\n 'score_missed_classes': 0       0.0\n 2       1.0\n 3       0.0\n 4       0.0\n 5       1.0\n        ... \n 2840    0.0\n 2845    0.0\n 2848    0.0\n 2849    0.0\n 2850    0.0\n Name: score_missed_classes, Length: 1116, dtype: float64,\n 'score_multiple_choice_grade': 0       1.0\n 2       2.0\n 3       1.0\n 4       1.0\n 5       0.0\n        ... \n 2840    1.0\n 2845    1.0\n 2848    1.0\n 2849    1.0\n 2850    1.0\n Name: score_multiple_choice_grade, Length: 1116, dtype: float64,\n 'score_precision': 0       0.5\n 2       0.5\n 3       1.0\n 4       1.0\n 5       0.0\n        ... \n 2840    1.0\n 2845    1.0\n 2848    1.0\n 2849    1.0\n 2850    1.0\n Name: score_precision, Length: 1116, dtype: float64,\n 'score_recall': 0       1.000000\n 2       0.666667\n 3       1.000000\n 4       1.000000\n 5       0.000000\n           ...   \n 2840    1.000000\n 2845    1.000000\n 2848    1.000000\n 2849    1.000000\n 2850    1.000000\n Name: score_recall, Length: 1116, dtype: float64,\n 'triggered_refusal_0': 0       False\n 2       False\n 3       False\n 4       False\n 5       False\n         ...  \n 2840    False\n 2845    False\n 2848    False\n 2849    False\n 2850    False\n Name: triggered_refusal_0, Length: 1116, dtype: bool,\n 'metrics_exact_str_match': 0      NaN\n 2      NaN\n 3      NaN\n 4      NaN\n 5      NaN\n         ..\n 2840   NaN\n 2845   NaN\n 2848   NaN\n 2849   NaN\n 2850   NaN\n Name: metrics_exact_str_match, Length: 1116, dtype: float64,\n 'metrics_mae': 0      NaN\n 2      NaN\n 3      NaN\n 4      NaN\n 5      NaN\n         ..\n 2840   NaN\n 2845   NaN\n 2848   NaN\n 2849   NaN\n 2850   NaN\n Name: metrics_mae, Length: 1116, dtype: float64,\n 'metrics_mse': 0      NaN\n 2      NaN\n 3      NaN\n 4      NaN\n 5      NaN\n         ..\n 2840   NaN\n 2845   NaN\n 2848   NaN\n 2849   NaN\n 2850   NaN\n Name: metrics_mse, Length: 1116, dtype: float64,\n 'score_exact_str_match': 0       NaN\n 2       NaN\n 3       NaN\n 4       NaN\n 5       NaN\n        ... \n 2840    NaN\n 2845    NaN\n 2848    NaN\n 2849    NaN\n 2850    NaN\n Name: score_exact_str_match, Length: 1116, dtype: object,\n 'score_mae': 0      NaN\n 2      NaN\n 3      NaN\n 4      NaN\n 5      NaN\n         ..\n 2840   NaN\n 2845   NaN\n 2848   NaN\n 2849   NaN\n 2850   NaN\n Name: score_mae, Length: 1116, dtype: float64,\n 'score_mse': 0      NaN\n 2      NaN\n 3      NaN\n 4      NaN\n 5      NaN\n         ..\n 2840   NaN\n 2845   NaN\n 2848   NaN\n 2849   NaN\n 2850   NaN\n Name: score_mse, Length: 1116, dtype: float64,\n 'targets__': 0       {'Acute toxicity': 0.0, 'Compressed gases': 0....\n 2       {'Explosion': 0, 'Fire': 1, 'Flammable gas gen...\n 3       {'Gomberg-Bachmann reaction': 0, 'Griess react...\n 4       {'No, it is nontoxic': 0, 'Yes, it is moderate...\n 5       {'A base is not required for the E$_1$ mechani...\n                               ...                        \n 2840    {'Formation of unstable peroxides': 0, 'Low fl...\n 2845    {'Larger flasks are more prone to breakage': 0...\n 2848    {'06-methylguanine methyltransferase': 0, 'Bas...\n 2849    {'PE milk jugs can be recycled because they ar...\n 2850    {'Ca = 25% and P = 30%': 0, 'Ca = 30% and P = ...\n Name: targets__, Length: 1116, dtype: object,\n 'all_correct_': 0       False\n 2       False\n 3        True\n 4        True\n 5       False\n         ...  \n 2840     True\n 2845     True\n 2848     True\n 2849     True\n 2850     True\n Name: all_correct_, Length: 1116, dtype: bool,\n 'Unnamed: 0': 0       2547\n 2       2229\n 3       1864\n 4       1767\n 5       1489\n         ... \n 2840    1619\n 2845    2607\n 2848    2105\n 2849     198\n 2850     281\n Name: Unnamed: 0, Length: 1116, dtype: int64,\n 'index': 0              pubchem_data-pictograms_269-GHS_pictograms\n 2                    chem_chem_comp-chemComp_268-ChemComp\n 3                 reactive_groups-23_0-reactive_groups_23\n 4                 reactive_groups-57_8-reactive_groups_57\n 5       oup-organic_chemistry_55-organic_chemistry_oku...\n                               ...                        \n 2840              reactive_groups-14_7-reactive_groups_14\n 2845                          scenarios-scale_up-scale_up\n 2848                         toxicology_lmu-33-tox_lmu_33\n 2849    solid_state_chemistry-solid_state_23-solid_sta...\n 2850            materials_synthesis-apatite_cal-apatite_1\n Name: index, Length: 1116, dtype: object,\n 'question': 0         ../data/safety/pubchem_data/pictograms_269.json\n 2         ../data/safety/chem_chem_comp/chemComp_268.json\n 3                       ../data/reactive_groups/23_0.json\n 4                       ../data/reactive_groups/57_8.json\n 5                   ../data/oup/organic_chemistry_55.json\n                               ...                        \n 2840                    ../data/reactive_groups/14_7.json\n 2845               ../data/safety/scenarios/scale_up.json\n 2848                ../data/safety/toxicology_lmu/33.json\n 2849    ../data/solid_state_chemistry/solid_state_23.json\n 2850         ../data/materials_synthesis/apatite_cal.json\n Name: question, Length: 1116, dtype: object,\n 'topic': 0         Toxicity/Safety\n 2         Toxicity/Safety\n 3       Organic Chemistry\n 4         Toxicity/Safety\n 5       Organic Chemistry\n               ...        \n 2840      Toxicity/Safety\n 2845      Toxicity/Safety\n 2848      Toxicity/Safety\n 2849    Materials Science\n 2850    General Chemistry\n Name: topic, Length: 1116, dtype: object,\n 'requires': 0         Knowledge\n 2         Knowledge\n 3         Knowledge\n 4         Knowledge\n 5         Reasoning\n            ...     \n 2840      Reasoning\n 2845      Reasoning\n 2848      Knowledge\n 2849      Reasoning\n 2850    Calculation\n Name: requires, Length: 1116, dtype: object,\n 'difficulty': 0       difficulty-basic\n 2                    NaN\n 3                    NaN\n 4       difficulty-basic\n 5                    NaN\n               ...       \n 2840    difficulty-basic\n 2845                 NaN\n 2848                 NaN\n 2849    difficulty-basic\n 2850    difficulty-basic\n Name: difficulty, Length: 1116, dtype: object,\n 'content': 0       What GHS pictogram(s) apply to 4,6-dioxoheptan...\n 2       What are the potential safety risks when stron...\n 3       What reaction is commonly associated with diaz...\n 4                                       Is aniline toxic?\n 5       Which statement about elimination reaction mec...\n                               ...                        \n 2840    What characteristic of ethers makes them dange...\n 2845    A researcher wants to scale up a reaction one ...\n 2848    What mechanism is used to repair DNA adducts o...\n 2849    Why can polyethylene (PE) milk jugs be recycle...\n 2850    What is the weight percentage of calcium and p...\n Name: content, Length: 1116, dtype: object,\n 'name': 0              pubchem_data-pictograms_269-GHS_pictograms\n 2                    chem_chem_comp-chemComp_268-ChemComp\n 3                 reactive_groups-23_0-reactive_groups_23\n 4                 reactive_groups-57_8-reactive_groups_57\n 5       oup-organic_chemistry_55-organic_chemistry_oku...\n                               ...                        \n 2840              reactive_groups-14_7-reactive_groups_14\n 2845                          scenarios-scale_up-scale_up\n 2848                         toxicology_lmu-33-tox_lmu_33\n 2849    solid_state_chemistry-solid_state_23-solid_sta...\n 2850            materials_synthesis-apatite_cal-apatite_1\n Name: name, Length: 1116, dtype: object,\n 'path': 0       /Users/kevinmaikjablonka/git/lamalab-org/chemb...\n 2       /Users/kevinmaikjablonka/git/lamalab-org/chemb...\n 3       /Users/kevinmaikjablonka/git/lamalab-org/chemb...\n 4       /Users/kevinmaikjablonka/git/lamalab-org/chemb...\n 5       /Users/kevinmaikjablonka/git/lamalab-org/chemb...\n                               ...                        \n 2840    /Users/kevinmaikjablonka/git/lamalab-org/chemb...\n 2845    /Users/kevinmaikjablonka/git/lamalab-org/chemb...\n 2848    /Users/kevinmaikjablonka/git/lamalab-org/chemb...\n 2849    /Users/kevinmaikjablonka/git/lamalab-org/chemb...\n 2850    /Users/kevinmaikjablonka/git/lamalab-org/chemb...\n Name: path, Length: 1116, dtype: object,\n 'is_semiautomatically_generated': 0        True\n 2        True\n 3        True\n 4        True\n 5       False\n         ...  \n 2840     True\n 2845    False\n 2848    False\n 2849    False\n 2850    False\n Name: is_semiautomatically_generated, Length: 1116, dtype: bool,\n 'is_classification': 0       True\n 2       True\n 3       True\n 4       True\n 5       True\n         ... \n 2840    True\n 2845    True\n 2848    True\n 2849    True\n 2850    True\n Name: is_classification, Length: 1116, dtype: bool,\n 'keywords': 0       [pubchem, pictograms, safety, requires-knowled...\n 2       [chemicals, safety, compatibility test, reacti...\n 3       [reactivity, molecules, diazonium salts, organ...\n 4       [amines, aromatic, requires-knowledge, safety,...\n 5       [Organic Reactions, organic-chemistry, elimina...\n                               ...                        \n 2840    [reactivity, molecules, ethers, organic-chemis...\n 2845               [safety, requires-reasoning, syringes]\n 2848    [Benzo[a]pyrene, DNA adducts, repair, requires...\n 2849    [solid-state-chemistry, requires-reasoning, di...\n 2850    [general-chemistry, apatite, substitutions in ...\n Name: keywords, Length: 1116, dtype: object,\n 'is_olympiad': 0       False\n 2       False\n 3       False\n 4       False\n 5       False\n         ...  \n 2840    False\n 2845    False\n 2848    False\n 2849    False\n 2850    False\n Name: is_olympiad, Length: 1116, dtype: bool,\n 'is_gfk': 0       False\n 2       False\n 3       False\n 4       False\n 5       False\n         ...  \n 2840    False\n 2845    False\n 2848    False\n 2849    False\n 2850    False\n Name: is_gfk, Length: 1116, dtype: bool,\n 'is_number_nmr_peaks': 0       False\n 2       False\n 3       False\n 4       False\n 5       False\n         ...  \n 2840    False\n 2845    False\n 2848    False\n 2849    False\n 2850    False\n Name: is_number_nmr_peaks, Length: 1116, dtype: bool,\n 'is_number_of_isomers': 0       False\n 2       False\n 3       False\n 4       False\n 5       False\n         ...  \n 2840    False\n 2845    False\n 2848    False\n 2849    False\n 2850    False\n Name: is_number_of_isomers, Length: 1116, dtype: bool,\n 'is_point_group': 0       False\n 2       False\n 3       False\n 4       False\n 5       False\n         ...  \n 2840    False\n 2845    False\n 2848    False\n 2849    False\n 2850    False\n Name: is_point_group, Length: 1116, dtype: bool,\n 'is_oxidation_states': 0       False\n 2       False\n 3       False\n 4       False\n 5       False\n         ...  \n 2840    False\n 2845    False\n 2848    False\n 2849    False\n 2850    False\n Name: is_oxidation_states, Length: 1116, dtype: bool,\n 'is_oup': 0       False\n 2       False\n 3        True\n 4        True\n 5        True\n         ...  \n 2840     True\n 2845    False\n 2848    False\n 2849    False\n 2850    False\n Name: is_oup, Length: 1116, dtype: bool,\n 'is_reactive_groups': 0       False\n 2       False\n 3        True\n 4        True\n 5       False\n         ...  \n 2840     True\n 2845    False\n 2848    False\n 2849    False\n 2850    False\n Name: is_reactive_groups, Length: 1116, dtype: bool,\n 'is_toxicology': 0       False\n 2       False\n 3       False\n 4       False\n 5       False\n         ...  \n 2840    False\n 2845    False\n 2848     True\n 2849    False\n 2850    False\n Name: is_toxicology, Length: 1116, dtype: bool,\n 'is_dai': 0       False\n 2       False\n 3       False\n 4       False\n 5       False\n         ...  \n 2840    False\n 2845    False\n 2848    False\n 2849    False\n 2850    False\n Name: is_dai, Length: 1116, dtype: bool,\n 'is_pictograms': 0        True\n 2       False\n 3       False\n 4       False\n 5       False\n         ...  \n 2840    False\n 2845    False\n 2848    False\n 2849    False\n 2850    False\n Name: is_pictograms, Length: 1116, dtype: bool,\n 'is_h_statement': 0       False\n 2       False\n 3       False\n 4       False\n 5       False\n         ...  \n 2840    False\n 2845    False\n 2848    False\n 2849    False\n 2850    False\n Name: is_h_statement, Length: 1116, dtype: bool,\n 'is_materials_compatibility': 0       False\n 2       False\n 3       False\n 4       False\n 5       False\n         ...  \n 2840    False\n 2845    False\n 2848    False\n 2849    False\n 2850    False\n Name: is_materials_compatibility, Length: 1116, dtype: bool,\n 'is_chemical_compatibility': 0       False\n 2        True\n 3       False\n 4       False\n 5       False\n         ...  \n 2840    False\n 2845    False\n 2848    False\n 2849    False\n 2850    False\n Name: is_chemical_compatibility, Length: 1116, dtype: bool,\n 'is_electron_counts': 0       False\n 2       False\n 3       False\n 4       False\n 5       False\n         ...  \n 2840    False\n 2845    False\n 2848    False\n 2849    False\n 2850    False\n Name: is_electron_counts, Length: 1116, dtype: bool,\n 'is_organic_reactivity': 0       False\n 2       False\n 3       False\n 4       False\n 5       False\n         ...  \n 2840    False\n 2845    False\n 2848    False\n 2849    False\n 2850    False\n Name: is_organic_reactivity, Length: 1116, dtype: bool,\n 'is_polymer_chemistry': 0       False\n 2       False\n 3       False\n 4       False\n 5       False\n         ...  \n 2840    False\n 2845    False\n 2848    False\n 2849    False\n 2850    False\n Name: is_polymer_chemistry, Length: 1116, dtype: bool,\n 'is_simple_safety': 0       False\n 2       False\n 3       False\n 4       False\n 5       False\n         ...  \n 2840    False\n 2845    False\n 2848    False\n 2849    False\n 2850    False\n Name: is_simple_safety, Length: 1116, dtype: bool,\n 'is_analytical_chemistry': 0       False\n 2       False\n 3       False\n 4       False\n 5       False\n         ...  \n 2840    False\n 2845    False\n 2848    False\n 2849    False\n 2850    False\n Name: is_analytical_chemistry, Length: 1116, dtype: bool,\n 'is_periodic_table': 0       False\n 2       False\n 3       False\n 4       False\n 5       False\n         ...  \n 2840    False\n 2845    False\n 2848    False\n 2849    False\n 2850    False\n Name: is_periodic_table, Length: 1116, dtype: bool,\n 'is_general_chemistry_exam': 0       False\n 2       False\n 3       False\n 4       False\n 5       False\n         ...  \n 2840    False\n 2845    False\n 2848    False\n 2849    False\n 2850    False\n Name: is_general_chemistry_exam, Length: 1116, dtype: bool,\n 'is_biomolecular': 0       False\n 2       False\n 3       False\n 4       False\n 5       False\n         ...  \n 2840    False\n 2845    False\n 2848    False\n 2849    False\n 2850    False\n Name: is_biomolecular, Length: 1116, dtype: bool,\n 'is_xray': 0       False\n 2       False\n 3       False\n 4       False\n 5       False\n         ...  \n 2840    False\n 2845    False\n 2848    False\n 2849    False\n 2850    False\n Name: is_xray, Length: 1116, dtype: bool,\n 'is_materials_science': 0       False\n 2       False\n 3       False\n 4       False\n 5       False\n         ...  \n 2840    False\n 2845    False\n 2848    False\n 2849    False\n 2850     True\n Name: is_materials_science, Length: 1116, dtype: bool,\n 'is_molsim': 0       False\n 2       False\n 3       False\n 4       False\n 5       False\n         ...  \n 2840    False\n 2845    False\n 2848    False\n 2849    False\n 2850    False\n Name: is_molsim, Length: 1116, dtype: bool,\n 'requires_calculation': 0      NaN\n 2      NaN\n 3      NaN\n 4      NaN\n 5      NaN\n         ..\n 2840   NaN\n 2845   NaN\n 2848   NaN\n 2849   NaN\n 2850   NaN\n Name: requires_calculation, Length: 1116, dtype: float64,\n 'is_preference': 0       False\n 2       False\n 3       False\n 4       False\n 5       False\n         ...  \n 2840    False\n 2845    False\n 2848    False\n 2849    False\n 2850    False\n Name: is_preference, Length: 1116, dtype: bool,\n 'is_name': 0       False\n 2       False\n 3       False\n 4       False\n 5       False\n         ...  \n 2840    False\n 2845    False\n 2848    False\n 2849    False\n 2850    False\n Name: is_name, Length: 1116, dtype: bool}"
     },
     "execution_count": 232,
     "metadata": {},
     "output_type": "execute_result"
    }
   ],
   "source": [
    "model_score_dicts['overall']['Claude-3.5 (Sonnet)']"
   ]
  },
  {
   "cell_type": "code",
   "execution_count": 110,
   "outputs": [
    {
     "name": "stdout",
     "output_type": "stream",
     "text": [
      "Number of models: 22\n",
      "Size of Claude's all_correct: 1116\n",
      "Mistral-Large-2: 1116\n",
      "Llama-3.1-70B-Instruct: 1116\n",
      "Claude-3.5 (Sonnet): 1116\n",
      "Mistral-8x7b-Instruct: 1116\n",
      "Command-R+: 1116\n",
      "Llama-3.1-405B-Instruct: 1116\n",
      "Llama-3.1-8B-Instruct: 1116\n",
      "GPT-4o: 1116\n",
      "Llama-3-70B-Instruct: 1116\n",
      "PaperQA2: 1116\n",
      "Gemma-1.1-7B-it: 1116\n",
      "Gemma-2-9B-it: 1116\n",
      "Llama-2-70B Chat: 1116\n",
      "Galatica-120b: 1116\n",
      "Llama-3-8B-Instruct: 1116\n",
      "Gemini-Pro: 1116\n",
      "o1: 1116\n",
      "GPT-4: 1116\n",
      "Phi-3-Medium-4k-Instruct: 1116\n",
      "Claude-3 (Opus): 1116\n",
      "GPT-3.5 Turbo Zero-T: 1116\n",
      "Claude-2-Zero-T: 1116\n",
      "\n",
      "Final DataFrame size: 1116\n"
     ]
    }
   ],
   "source": [
    "models = list(model_score_dicts['overall'].keys())\n",
    "\n",
    "# Print sizes to debug\n",
    "print(f\"Number of models: {len(models)}\")\n",
    "print(f\"Size of Claude's all_correct: {len(model_score_dicts['overall']['Claude-3.5 (Sonnet)']['all_correct_'])}\")\n",
    "for model in models:\n",
    "    print(f\"{model}: {len(model_score_dicts['overall'][model]['all_correct_'])}\")\n",
    "\n",
    "# Create matrix with correct dimensions\n",
    "binary_matrix = np.zeros((len(model_score_dicts['overall']['Claude-3.5 (Sonnet)']['all_correct_']), len(models)))\n",
    "\n",
    "for i, model in enumerate(models):\n",
    "    binary_matrix[:,i] = model_score_dicts['overall'][model]['all_correct_'].values\n",
    "\n",
    "# Convert to DataFrame\n",
    "binary_df = pd.DataFrame(binary_matrix, columns=models)\n",
    "print(\"\\nFinal DataFrame size:\", len(binary_df))"
   ],
   "metadata": {
    "collapsed": false,
    "ExecuteTime": {
     "end_time": "2025-01-28T15:23:38.568366Z",
     "start_time": "2025-01-28T15:23:38.542158Z"
    }
   }
  },
  {
   "cell_type": "code",
   "execution_count": 111,
   "metadata": {
    "ExecuteTime": {
     "end_time": "2025-01-28T15:25:45.144157Z",
     "start_time": "2025-01-28T15:25:45.094052Z"
    }
   },
   "outputs": [
    {
     "name": "stdout",
     "output_type": "stream",
     "text": [
      "1116\n"
     ]
    }
   ],
   "source": [
    "models = list(model_score_dicts['overall'].keys())\n",
    "binary_matrix = np.zeros((len(model_score_dicts['overall']['Claude-3.5 (Sonnet)']['all_correct_']), len(models)))\n",
    "\n",
    "for i, model in enumerate(models):\n",
    "   binary_matrix[:,i] = model_score_dicts['overall'][model]['all_correct_'].values\n",
    "\n",
    "# Convert to pandas DataFrame for better visualization\n",
    "binary_df = pd.DataFrame(binary_matrix, columns=models)\n",
    "print(len(binary_df))"
   ]
  },
  {
   "cell_type": "code",
   "execution_count": 112,
   "metadata": {
    "ExecuteTime": {
     "end_time": "2025-01-28T15:25:53.246374Z",
     "start_time": "2025-01-28T15:25:53.209897Z"
    }
   },
   "outputs": [],
   "source": [
    "# create array from dataframe\n",
    "binary_array = binary_df.to_numpy()\n"
   ]
  },
  {
   "cell_type": "code",
   "execution_count": 113,
   "metadata": {
    "ExecuteTime": {
     "end_time": "2025-01-28T15:25:54.650717Z",
     "start_time": "2025-01-28T15:25:54.635436Z"
    }
   },
   "outputs": [],
   "source": [
    "# i want a binary matrix  rows are score for questions and columns are models\n",
    "#model_score_dicts['overall'].keys() gives model name\n",
    "# model_score_dicts['overall']['Claude-3.5 (Sonnet)']['all_correct_'] gives the score for the model\n",
    "\n"
   ]
  },
  {
   "cell_type": "code",
   "execution_count": 114,
   "metadata": {
    "ExecuteTime": {
     "end_time": "2025-01-28T15:25:55.538267Z",
     "start_time": "2025-01-28T15:25:55.522696Z"
    }
   },
   "outputs": [],
   "source": [
    "# | export\n",
    "from enum import Enum\n",
    "from dataclasses import dataclass\n",
    "from typing import Dict"
   ]
  },
  {
   "cell_type": "code",
   "execution_count": 115,
   "metadata": {
    "ExecuteTime": {
     "end_time": "2025-01-28T15:25:56.081166Z",
     "start_time": "2025-01-28T15:25:56.061281Z"
    }
   },
   "outputs": [],
   "source": [
    "# | export\n",
    "class ScoringType(Enum): \n",
    "    BINARY = 'binary'\n",
    "    PARTIAL = 'partial'"
   ]
  },
  {
   "cell_type": "markdown",
   "metadata": {},
   "source": [
    "We define a container to store meta information for each question (item). We will track some identifier and what type of scoring the question uses."
   ]
  },
  {
   "cell_type": "code",
   "execution_count": 116,
   "metadata": {
    "ExecuteTime": {
     "end_time": "2025-01-28T15:25:57.584999Z",
     "start_time": "2025-01-28T15:25:57.486830Z"
    }
   },
   "outputs": [],
   "source": [
    "# | export\n",
    "\n",
    "@dataclass\n",
    "class QuestionMetadata:\n",
    "    \"\"\"Base class for question metadata\"\"\"\n",
    "    question_id: str\n",
    "    scoring_type: ScoringType\n",
    "\n",
    "    def compute_score(self, response) -> float:\n",
    "        \"\"\"Base method for computing scores\"\"\"\n",
    "        raise NotImplementedError\n",
    "    \n",
    "\n"
   ]
  },
  {
   "cell_type": "code",
   "execution_count": 117,
   "metadata": {
    "ExecuteTime": {
     "end_time": "2025-01-28T15:25:58.255814Z",
     "start_time": "2025-01-28T15:25:58.221884Z"
    }
   },
   "outputs": [],
   "source": [
    "# | export\n",
    "\n",
    "@dataclass\n",
    "class BinaryQuestionMetadata(QuestionMetadata):\n",
    "    \"\"\"Metadata for binary scored questions\"\"\"\n",
    "    def __init__(self, question_id: str):\n",
    "        super().__init__(question_id, ScoringType.BINARY)\n",
    "\n",
    "    def compute_score(self, row, column: str='all_correct_') -> float:\n",
    "        \"\"\"Use the all_correct column directly\"\"\"\n",
    "        return float(row[column])"
   ]
  },
  {
   "cell_type": "code",
   "execution_count": 118,
   "metadata": {
    "ExecuteTime": {
     "end_time": "2025-01-28T15:25:58.894953Z",
     "start_time": "2025-01-28T15:25:58.874630Z"
    }
   },
   "outputs": [],
   "source": [
    "# | export\n",
    "\n",
    "class BenchmarkAnalyzer:\n",
    "    def __init__(self):\n",
    "        self.model_dataframes: Dict[str, pd.DataFrame] = {}\n",
    "        self.question_metadata: Dict[str, QuestionMetadata] = {}\n",
    "        self.score_matrix = None\n",
    "        self.model_ids = None\n",
    "\n",
    "    def add_model_results(self, model_id: str, results_df: pd.DataFrame):\n",
    "        \"\"\"Add a model's results DataFrame\"\"\"\n",
    "        self.model_dataframes[model_id] = results_df\n",
    "\n",
    "    def add_question_metadata(self, metadata: QuestionMetadata):\n",
    "        \"\"\"Add metadata for a question\"\"\"\n",
    "        self.question_metadata[metadata.question_id] = metadata\n",
    "\n",
    "    def compute_score_matrix(self) -> np.ndarray:\n",
    "        \"\"\"Compute score matrix using metadata-specific scoring\"\"\"\n",
    "        if not self.model_dataframes or not self.question_metadata:\n",
    "            raise ValueError(\"Need both model results and question metadata\")\n",
    "\n",
    "        self.model_ids = list(self.model_dataframes.keys())\n",
    "        question_ids = list(self.question_metadata.keys())\n",
    "\n",
    "        # Initialize score matrix\n",
    "        self.score_matrix = np.full(\n",
    "            (len(self.model_ids), len(question_ids)), \n",
    "            np.nan\n",
    "        )\n",
    "\n",
    "        # Compute scores\n",
    "        for model_idx, model_id in enumerate(self.model_ids):\n",
    "            df = self.model_dataframes[model_id]\n",
    "            for q_idx, q_id in enumerate(question_ids):\n",
    "                if q_id not in df.index:\n",
    "                    continue\n",
    "\n",
    "                metadata = self.question_metadata[q_id]\n",
    "                row = df.loc[q_id]\n",
    "\n",
    "                self.score_matrix[model_idx, q_idx] = metadata.compute_score(row)\n",
    "\n",
    "\n",
    "        return self.score_matrix\n",
    "\n",
    "    def fit_irt(self, model='2pl') -> Dict[str, pd.DataFrame]:\n",
    "        if self.score_matrix is None:\n",
    "            self.compute_score_matrix()\n",
    "\n",
    "        binary_matrix = (self.score_matrix >= 0.5).astype(int).T #  needs to be [n_items, n_participants]\n",
    "        \n",
    "        if model == '2pl':\n",
    "            # options = {\n",
    "            # 'max_iteration': 200,\n",
    "            # 'quadrature_n': 61,  # More quadrature points for better precision\n",
    "            # 'quadrature_bounds': (-6, 6),  # Default bounds\n",
    "            # 'estimate_distribution': True  # Allow distribution estimation\n",
    "            # }\n",
    "\n",
    "            results = twopl_mml(binary_matrix)\n",
    "            difficulties = results['Difficulty']\n",
    "            discriminations = results['Discrimination']\n",
    "        else:  # rasch\n",
    "            results = rasch_mml(binary_matrix)\n",
    "            difficulties = results['Difficulty']\n",
    "            discriminations = np.ones_like(difficulties) \n",
    "        \n",
    "        abilities = ability_mle(\n",
    "            binary_matrix,  \n",
    "            difficulties,\n",
    "            discriminations,\n",
    "            no_estimate=np.nan  \n",
    "        )\n",
    "\n",
    "        return {\n",
    "            'difficulties': difficulties,\n",
    "            'discriminations': discriminations,\n",
    "            'abilities': abilities, \n",
    "            'binary_matrix': binary_matrix\n",
    "        }\n",
    "\n",
    "\n",
    "    def analyze_extreme_items(difficulties, discriminations, question_ids, threshold=0.95):\n",
    "        \"\"\"Identify items with extreme parameters\"\"\"\n",
    "        extreme_items = pd.DataFrame({\n",
    "            'question_id': question_ids,\n",
    "            'difficulty': difficulties,\n",
    "            'discrimination': discriminations\n",
    "        })\n",
    "\n",
    "        # Find items with extreme values\n",
    "        extreme_items['is_extreme'] = (\n",
    "            (discriminations > threshold * 5.0) |  # High discrimination\n",
    "            (difficulties > threshold * 6.0) |     # Very difficult\n",
    "            (difficulties < -4.0)                  # Very easy\n",
    "        )\n",
    "\n",
    "        return extreme_items[extreme_items['is_extreme']]\n",
    "\n"
   ]
  },
  {
   "cell_type": "markdown",
   "metadata": {},
   "source": [
    "Now, let's the class with some of our data"
   ]
  },
  {
   "cell_type": "code",
   "execution_count": 119,
   "metadata": {
    "ExecuteTime": {
     "end_time": "2025-01-28T15:26:00.562612Z",
     "start_time": "2025-01-28T15:26:00.461187Z"
    }
   },
   "outputs": [
    {
     "ename": "AttributeError",
     "evalue": "'dict' object has no attribute 'iterrows'",
     "output_type": "error",
     "traceback": [
      "\u001B[0;31m---------------------------------------------------------------------------\u001B[0m",
      "\u001B[0;31mAttributeError\u001B[0m                            Traceback (most recent call last)",
      "Cell \u001B[0;32mIn[119], line 9\u001B[0m\n\u001B[1;32m      4\u001B[0m     analyzer\u001B[38;5;241m.\u001B[39madd_model_results(model_id, df)\n\u001B[1;32m      7\u001B[0m \u001B[38;5;66;03m# for now, let's just add the binary questions\u001B[39;00m\n\u001B[0;32m----> 9\u001B[0m \u001B[38;5;28;01mfor\u001B[39;00m i, row \u001B[38;5;129;01min\u001B[39;00m \u001B[43mmodel_score_dicts\u001B[49m\u001B[43m[\u001B[49m\u001B[38;5;124;43m'\u001B[39;49m\u001B[38;5;124;43moverall\u001B[39;49m\u001B[38;5;124;43m'\u001B[39;49m\u001B[43m]\u001B[49m\u001B[43m[\u001B[49m\u001B[38;5;124;43m'\u001B[39;49m\u001B[38;5;124;43mClaude-2-Zero-T\u001B[39;49m\u001B[38;5;124;43m'\u001B[39;49m\u001B[43m]\u001B[49m\u001B[38;5;241;43m.\u001B[39;49m\u001B[43miterrows\u001B[49m():\n\u001B[1;32m     10\u001B[0m     \u001B[38;5;28;01mif\u001B[39;00m row[\u001B[38;5;124m'\u001B[39m\u001B[38;5;124mmetrics_hamming\u001B[39m\u001B[38;5;124m'\u001B[39m]:\n\u001B[1;32m     11\u001B[0m         analyzer\u001B[38;5;241m.\u001B[39madd_question_metadata(BinaryQuestionMetadata(i))\n",
      "\u001B[0;31mAttributeError\u001B[0m: 'dict' object has no attribute 'iterrows'"
     ]
    }
   ],
   "source": [
    "analyzer = BenchmarkAnalyzer()\n",
    "\n",
    "for model_id, df in model_score_dicts['overall'].items():\n",
    "    analyzer.add_model_results(model_id, df)\n",
    "\n",
    "\n",
    "# for now, let's just add the binary questions\n",
    "\n",
    "for i, row in model_score_dicts['overall']['Claude-2-Zero-T'].iterrows():\n",
    "    if row['metrics_hamming']:\n",
    "        analyzer.add_question_metadata(BinaryQuestionMetadata(i))\n"
   ]
  },
  {
   "cell_type": "code",
   "execution_count": 120,
   "metadata": {
    "ExecuteTime": {
     "end_time": "2025-01-28T15:26:07.674751Z",
     "start_time": "2025-01-28T15:26:07.632447Z"
    }
   },
   "outputs": [
    {
     "data": {
      "text/plain": "0"
     },
     "execution_count": 120,
     "metadata": {},
     "output_type": "execute_result"
    }
   ],
   "source": [
    "len(analyzer.question_metadata)"
   ]
  },
  {
   "cell_type": "code",
   "execution_count": 121,
   "metadata": {
    "ExecuteTime": {
     "end_time": "2025-01-28T15:26:10.026746Z",
     "start_time": "2025-01-28T15:26:09.955530Z"
    }
   },
   "outputs": [
    {
     "ename": "ValueError",
     "evalue": "Need both model results and question metadata",
     "output_type": "error",
     "traceback": [
      "\u001B[0;31m---------------------------------------------------------------------------\u001B[0m",
      "\u001B[0;31mValueError\u001B[0m                                Traceback (most recent call last)",
      "Cell \u001B[0;32mIn[121], line 1\u001B[0m\n\u001B[0;32m----> 1\u001B[0m results \u001B[38;5;241m=\u001B[39m \u001B[43manalyzer\u001B[49m\u001B[38;5;241;43m.\u001B[39;49m\u001B[43mfit_irt\u001B[49m\u001B[43m(\u001B[49m\u001B[43mmodel\u001B[49m\u001B[38;5;241;43m=\u001B[39;49m\u001B[38;5;124;43m'\u001B[39;49m\u001B[38;5;124;43mrasch\u001B[39;49m\u001B[38;5;124;43m'\u001B[39;49m\u001B[43m)\u001B[49m\n",
      "Cell \u001B[0;32mIn[118], line 49\u001B[0m, in \u001B[0;36mBenchmarkAnalyzer.fit_irt\u001B[0;34m(self, model)\u001B[0m\n\u001B[1;32m     47\u001B[0m \u001B[38;5;28;01mdef\u001B[39;00m \u001B[38;5;21mfit_irt\u001B[39m(\u001B[38;5;28mself\u001B[39m, model\u001B[38;5;241m=\u001B[39m\u001B[38;5;124m'\u001B[39m\u001B[38;5;124m2pl\u001B[39m\u001B[38;5;124m'\u001B[39m) \u001B[38;5;241m-\u001B[39m\u001B[38;5;241m>\u001B[39m Dict[\u001B[38;5;28mstr\u001B[39m, pd\u001B[38;5;241m.\u001B[39mDataFrame]:\n\u001B[1;32m     48\u001B[0m     \u001B[38;5;28;01mif\u001B[39;00m \u001B[38;5;28mself\u001B[39m\u001B[38;5;241m.\u001B[39mscore_matrix \u001B[38;5;129;01mis\u001B[39;00m \u001B[38;5;28;01mNone\u001B[39;00m:\n\u001B[0;32m---> 49\u001B[0m         \u001B[38;5;28;43mself\u001B[39;49m\u001B[38;5;241;43m.\u001B[39;49m\u001B[43mcompute_score_matrix\u001B[49m\u001B[43m(\u001B[49m\u001B[43m)\u001B[49m\n\u001B[1;32m     51\u001B[0m     binary_matrix \u001B[38;5;241m=\u001B[39m (\u001B[38;5;28mself\u001B[39m\u001B[38;5;241m.\u001B[39mscore_matrix \u001B[38;5;241m>\u001B[39m\u001B[38;5;241m=\u001B[39m \u001B[38;5;241m0.5\u001B[39m)\u001B[38;5;241m.\u001B[39mastype(\u001B[38;5;28mint\u001B[39m)\u001B[38;5;241m.\u001B[39mT \u001B[38;5;66;03m#  needs to be [n_items, n_participants]\u001B[39;00m\n\u001B[1;32m     53\u001B[0m     \u001B[38;5;28;01mif\u001B[39;00m model \u001B[38;5;241m==\u001B[39m \u001B[38;5;124m'\u001B[39m\u001B[38;5;124m2pl\u001B[39m\u001B[38;5;124m'\u001B[39m:\n\u001B[1;32m     54\u001B[0m         \u001B[38;5;66;03m# options = {\u001B[39;00m\n\u001B[1;32m     55\u001B[0m         \u001B[38;5;66;03m# 'max_iteration': 200,\u001B[39;00m\n\u001B[0;32m   (...)\u001B[0m\n\u001B[1;32m     58\u001B[0m         \u001B[38;5;66;03m# 'estimate_distribution': True  # Allow distribution estimation\u001B[39;00m\n\u001B[1;32m     59\u001B[0m         \u001B[38;5;66;03m# }\u001B[39;00m\n",
      "Cell \u001B[0;32mIn[118], line 21\u001B[0m, in \u001B[0;36mBenchmarkAnalyzer.compute_score_matrix\u001B[0;34m(self)\u001B[0m\n\u001B[1;32m     19\u001B[0m \u001B[38;5;250m\u001B[39m\u001B[38;5;124;03m\"\"\"Compute score matrix using metadata-specific scoring\"\"\"\u001B[39;00m\n\u001B[1;32m     20\u001B[0m \u001B[38;5;28;01mif\u001B[39;00m \u001B[38;5;129;01mnot\u001B[39;00m \u001B[38;5;28mself\u001B[39m\u001B[38;5;241m.\u001B[39mmodel_dataframes \u001B[38;5;129;01mor\u001B[39;00m \u001B[38;5;129;01mnot\u001B[39;00m \u001B[38;5;28mself\u001B[39m\u001B[38;5;241m.\u001B[39mquestion_metadata:\n\u001B[0;32m---> 21\u001B[0m     \u001B[38;5;28;01mraise\u001B[39;00m \u001B[38;5;167;01mValueError\u001B[39;00m(\u001B[38;5;124m\"\u001B[39m\u001B[38;5;124mNeed both model results and question metadata\u001B[39m\u001B[38;5;124m\"\u001B[39m)\n\u001B[1;32m     23\u001B[0m \u001B[38;5;28mself\u001B[39m\u001B[38;5;241m.\u001B[39mmodel_ids \u001B[38;5;241m=\u001B[39m \u001B[38;5;28mlist\u001B[39m(\u001B[38;5;28mself\u001B[39m\u001B[38;5;241m.\u001B[39mmodel_dataframes\u001B[38;5;241m.\u001B[39mkeys())\n\u001B[1;32m     24\u001B[0m question_ids \u001B[38;5;241m=\u001B[39m \u001B[38;5;28mlist\u001B[39m(\u001B[38;5;28mself\u001B[39m\u001B[38;5;241m.\u001B[39mquestion_metadata\u001B[38;5;241m.\u001B[39mkeys())\n",
      "\u001B[0;31mValueError\u001B[0m: Need both model results and question metadata"
     ]
    }
   ],
   "source": [
    "results = analyzer.fit_irt(model='rasch')"
   ]
  },
  {
   "cell_type": "code",
   "execution_count": 122,
   "metadata": {
    "ExecuteTime": {
     "end_time": "2025-01-28T15:26:11.629271Z",
     "start_time": "2025-01-28T15:26:11.579509Z"
    }
   },
   "outputs": [
    {
     "data": {
      "text/plain": "array([ 0.92062274,  0.70085661,  0.43172056, -0.33257593,  0.18210808,\n        0.97653286,  0.26776643,  0.95411399,  0.46383346,  0.73349057,\n       -1.47287807,  0.30697452, -1.099009  , -4.0792575 ,  0.28559071,\n        0.27133169,  1.18214098, -0.5245331 ,  0.32122829, -0.2613409 ,\n        0.20711413, -3.02995173])"
     },
     "execution_count": 122,
     "metadata": {},
     "output_type": "execute_result"
    }
   ],
   "source": [
    "results['abilities']"
   ]
  },
  {
   "cell_type": "code",
   "execution_count": 123,
   "metadata": {
    "ExecuteTime": {
     "end_time": "2025-01-28T15:26:14.026953Z",
     "start_time": "2025-01-28T15:26:14.013846Z"
    }
   },
   "outputs": [
    {
     "name": "stdout",
     "output_type": "stream",
     "text": [
      "(1614, 22)\n"
     ]
    }
   ],
   "source": [
    "# print how many zeros in matrix\n",
    "print(results['binary_matrix'].shape )"
   ]
  },
  {
   "cell_type": "code",
   "execution_count": 124,
   "metadata": {
    "ExecuteTime": {
     "end_time": "2025-01-28T15:26:15.332516Z",
     "start_time": "2025-01-28T15:26:15.265727Z"
    }
   },
   "outputs": [
    {
     "ename": "TypeError",
     "evalue": "'NoneType' object is not iterable",
     "output_type": "error",
     "traceback": [
      "\u001B[0;31m---------------------------------------------------------------------------\u001B[0m",
      "\u001B[0;31mTypeError\u001B[0m                                 Traceback (most recent call last)",
      "Cell \u001B[0;32mIn[124], line 1\u001B[0m\n\u001B[0;32m----> 1\u001B[0m \u001B[38;5;28mdict\u001B[39m(\u001B[38;5;28;43mzip\u001B[39;49m\u001B[43m(\u001B[49m\u001B[43manalyzer\u001B[49m\u001B[38;5;241;43m.\u001B[39;49m\u001B[43mmodel_ids\u001B[49m\u001B[43m,\u001B[49m\u001B[43m \u001B[49m\u001B[43mresults\u001B[49m\u001B[43m[\u001B[49m\u001B[38;5;124;43m'\u001B[39;49m\u001B[38;5;124;43mabilities\u001B[39;49m\u001B[38;5;124;43m'\u001B[39;49m\u001B[43m]\u001B[49m\u001B[43m)\u001B[49m)\n",
      "\u001B[0;31mTypeError\u001B[0m: 'NoneType' object is not iterable"
     ]
    }
   ],
   "source": [
    "dict(zip(analyzer.model_ids, results['abilities']))"
   ]
  },
  {
   "cell_type": "markdown",
   "metadata": {},
   "source": [
    "This seems to be quite different from a naive ranking based on taking the mean of the scores.\n",
    "Let's perform some more detailed analysis what causes the differences."
   ]
  },
  {
   "cell_type": "code",
   "execution_count": 125,
   "metadata": {
    "ExecuteTime": {
     "end_time": "2025-01-28T15:26:18.149107Z",
     "start_time": "2025-01-28T15:26:17.715450Z"
    }
   },
   "outputs": [
    {
     "name": "stdout",
     "output_type": "stream",
     "text": [
      "(22,)\n",
      "          irt_ability  avg_score  irt_rank  avg_rank\n",
      "model_id                                            \n",
      "None         0.920623   0.545849       4.0       4.0\n",
      "None         0.700857   0.508674       6.0       6.0\n",
      "None         0.431721   0.462206       8.0       8.0\n",
      "None        -0.332576   0.331475      17.0      17.0\n",
      "None         0.182108   0.418835      15.0      15.0\n",
      "None         0.976533   0.555143       2.0       2.0\n",
      "None         0.267766   0.433705      13.0      13.0\n",
      "None         0.954114   0.551425       3.0       3.0\n",
      "None         0.463833   0.467782       7.0       7.0\n",
      "None         0.733491   0.514250       5.0       5.0\n",
      "None        -1.472878   0.169765      20.0      20.0\n",
      "None         0.306975   0.440520      10.0      10.0\n",
      "None        -1.099009   0.216233      19.0      19.0\n",
      "None        -4.079258   0.019827      22.0      22.0\n",
      "None         0.285591   0.436803      11.0      11.0\n",
      "None         0.271332   0.434325      12.0      12.0\n",
      "None         1.182141   0.588600       1.0       1.0\n",
      "None        -0.524533   0.300496      18.0      18.0\n",
      "None         0.321228   0.442999       9.0       9.0\n",
      "None        -0.261341   0.343247      16.0      16.0\n",
      "None         0.207114   0.423172      14.0      14.0\n",
      "None        -3.029952   0.050805      21.0      21.0\n"
     ]
    },
    {
     "ename": "ValueError",
     "evalue": "All arrays must be of the same length",
     "output_type": "error",
     "traceback": [
      "\u001B[0;31m---------------------------------------------------------------------------\u001B[0m",
      "\u001B[0;31mValueError\u001B[0m                                Traceback (most recent call last)",
      "Cell \u001B[0;32mIn[125], line 56\u001B[0m\n\u001B[1;32m     50\u001B[0m     \u001B[38;5;28;01mreturn\u001B[39;00m {\n\u001B[1;32m     51\u001B[0m         \u001B[38;5;124m'\u001B[39m\u001B[38;5;124mmodel_differences\u001B[39m\u001B[38;5;124m'\u001B[39m: interesting_models,\n\u001B[1;32m     52\u001B[0m         \u001B[38;5;124m'\u001B[39m\u001B[38;5;124minfluential_questions\u001B[39m\u001B[38;5;124m'\u001B[39m: influential_questions\u001B[38;5;241m.\u001B[39msort_values(\u001B[38;5;124m'\u001B[39m\u001B[38;5;124mdiscrimination\u001B[39m\u001B[38;5;124m'\u001B[39m, ascending\u001B[38;5;241m=\u001B[39m\u001B[38;5;28;01mFalse\u001B[39;00m)\n\u001B[1;32m     53\u001B[0m     }\n\u001B[1;32m     55\u001B[0m \u001B[38;5;66;03m# Example usage:\u001B[39;00m\n\u001B[0;32m---> 56\u001B[0m influential_analysis_results \u001B[38;5;241m=\u001B[39m \u001B[43manalyze_influential_questions\u001B[49m\u001B[43m(\u001B[49m\n\u001B[1;32m     57\u001B[0m \u001B[43m    \u001B[49m\u001B[43mresults\u001B[49m\u001B[43m[\u001B[49m\u001B[38;5;124;43m'\u001B[39;49m\u001B[38;5;124;43mbinary_matrix\u001B[39;49m\u001B[38;5;124;43m'\u001B[39;49m\u001B[43m]\u001B[49m\u001B[43m,\u001B[49m\n\u001B[1;32m     58\u001B[0m \u001B[43m    \u001B[49m\u001B[43mresults\u001B[49m\u001B[43m[\u001B[49m\u001B[38;5;124;43m'\u001B[39;49m\u001B[38;5;124;43mabilities\u001B[39;49m\u001B[38;5;124;43m'\u001B[39;49m\u001B[43m]\u001B[49m\u001B[43m,\u001B[49m\u001B[43m \u001B[49m\n\u001B[1;32m     59\u001B[0m \u001B[43m    \u001B[49m\u001B[43mresults\u001B[49m\u001B[43m[\u001B[49m\u001B[38;5;124;43m'\u001B[39;49m\u001B[38;5;124;43mdifficulties\u001B[39;49m\u001B[38;5;124;43m'\u001B[39;49m\u001B[43m]\u001B[49m\u001B[43m,\u001B[49m\u001B[43m \u001B[49m\n\u001B[1;32m     60\u001B[0m \u001B[43m    \u001B[49m\u001B[43mresults\u001B[49m\u001B[43m[\u001B[49m\u001B[38;5;124;43m'\u001B[39;49m\u001B[38;5;124;43mdiscriminations\u001B[39;49m\u001B[38;5;124;43m'\u001B[39;49m\u001B[43m]\u001B[49m\u001B[43m,\u001B[49m\u001B[43m \u001B[49m\n\u001B[1;32m     61\u001B[0m \u001B[43m    \u001B[49m\u001B[43manalyzer\u001B[49m\u001B[38;5;241;43m.\u001B[39;49m\u001B[43mmodel_ids\u001B[49m\u001B[43m,\u001B[49m\u001B[43m \u001B[49m\n\u001B[1;32m     62\u001B[0m \u001B[43m    \u001B[49m\u001B[38;5;28;43mlist\u001B[39;49m\u001B[43m(\u001B[49m\u001B[43manalyzer\u001B[49m\u001B[38;5;241;43m.\u001B[39;49m\u001B[43mquestion_metadata\u001B[49m\u001B[38;5;241;43m.\u001B[39;49m\u001B[43mkeys\u001B[49m\u001B[43m(\u001B[49m\u001B[43m)\u001B[49m\u001B[43m)\u001B[49m\n\u001B[1;32m     63\u001B[0m \u001B[43m)\u001B[49m\n\u001B[1;32m     65\u001B[0m \u001B[38;5;28mprint\u001B[39m(\u001B[38;5;124m\"\u001B[39m\u001B[38;5;130;01m\\n\u001B[39;00m\u001B[38;5;124mModels with largest ranking differences:\u001B[39m\u001B[38;5;124m\"\u001B[39m)\n\u001B[1;32m     66\u001B[0m \u001B[38;5;28mprint\u001B[39m(influential_analysis_results[\u001B[38;5;124m'\u001B[39m\u001B[38;5;124mmodel_differences\u001B[39m\u001B[38;5;124m'\u001B[39m])\n",
      "Cell \u001B[0;32mIn[125], line 23\u001B[0m, in \u001B[0;36manalyze_influential_questions\u001B[0;34m(binary_matrix, abilities, difficulties, discriminations, model_ids, question_ids)\u001B[0m\n\u001B[1;32m     20\u001B[0m interesting_models \u001B[38;5;241m=\u001B[39m model_comparison[\u001B[38;5;28mabs\u001B[39m(model_comparison[\u001B[38;5;124m'\u001B[39m\u001B[38;5;124mrank_diff\u001B[39m\u001B[38;5;124m'\u001B[39m]) \u001B[38;5;241m>\u001B[39m \u001B[38;5;241m2\u001B[39m]\n\u001B[1;32m     22\u001B[0m \u001B[38;5;66;03m# Analyze question characteristics for these models\u001B[39;00m\n\u001B[0;32m---> 23\u001B[0m question_analysis \u001B[38;5;241m=\u001B[39m \u001B[43mpd\u001B[49m\u001B[38;5;241;43m.\u001B[39;49m\u001B[43mDataFrame\u001B[49m\u001B[43m(\u001B[49m\u001B[43m{\u001B[49m\n\u001B[1;32m     24\u001B[0m \u001B[43m    \u001B[49m\u001B[38;5;124;43m'\u001B[39;49m\u001B[38;5;124;43mquestion_id\u001B[39;49m\u001B[38;5;124;43m'\u001B[39;49m\u001B[43m:\u001B[49m\u001B[43m \u001B[49m\u001B[43mquestion_ids\u001B[49m\u001B[43m,\u001B[49m\n\u001B[1;32m     25\u001B[0m \u001B[43m    \u001B[49m\u001B[38;5;124;43m'\u001B[39;49m\u001B[38;5;124;43mdifficulty\u001B[39;49m\u001B[38;5;124;43m'\u001B[39;49m\u001B[43m:\u001B[49m\u001B[43m \u001B[49m\u001B[43mdifficulties\u001B[49m\u001B[43m,\u001B[49m\n\u001B[1;32m     26\u001B[0m \u001B[43m    \u001B[49m\u001B[38;5;124;43m'\u001B[39;49m\u001B[38;5;124;43mdiscrimination\u001B[39;49m\u001B[38;5;124;43m'\u001B[39;49m\u001B[43m:\u001B[49m\u001B[43m \u001B[49m\u001B[43mdiscriminations\u001B[49m\u001B[43m,\u001B[49m\n\u001B[1;32m     27\u001B[0m \u001B[43m    \u001B[49m\u001B[38;5;124;43m'\u001B[39;49m\u001B[38;5;124;43mavg_success_rate\u001B[39;49m\u001B[38;5;124;43m'\u001B[39;49m\u001B[43m:\u001B[49m\u001B[43m \u001B[49m\u001B[43mnp\u001B[49m\u001B[38;5;241;43m.\u001B[39;49m\u001B[43mmean\u001B[49m\u001B[43m(\u001B[49m\u001B[43mbinary_matrix\u001B[49m\u001B[38;5;241;43m.\u001B[39;49m\u001B[43mT\u001B[49m\u001B[43m,\u001B[49m\u001B[43m \u001B[49m\u001B[43maxis\u001B[49m\u001B[38;5;241;43m=\u001B[39;49m\u001B[38;5;241;43m0\u001B[39;49m\u001B[43m)\u001B[49m\n\u001B[1;32m     28\u001B[0m \u001B[43m\u001B[49m\u001B[43m}\u001B[49m\u001B[43m)\u001B[49m\n\u001B[1;32m     30\u001B[0m \u001B[38;5;66;03m# For each interesting model, analyze its response pattern\u001B[39;00m\n\u001B[1;32m     31\u001B[0m \u001B[38;5;28;01mfor\u001B[39;00m model_id \u001B[38;5;129;01min\u001B[39;00m interesting_models\u001B[38;5;241m.\u001B[39mindex:\n",
      "File \u001B[0;32m~/anaconda3/lib/python3.11/site-packages/pandas/core/frame.py:708\u001B[0m, in \u001B[0;36mDataFrame.__init__\u001B[0;34m(self, data, index, columns, dtype, copy)\u001B[0m\n\u001B[1;32m    702\u001B[0m     mgr \u001B[38;5;241m=\u001B[39m \u001B[38;5;28mself\u001B[39m\u001B[38;5;241m.\u001B[39m_init_mgr(\n\u001B[1;32m    703\u001B[0m         data, axes\u001B[38;5;241m=\u001B[39m{\u001B[38;5;124m\"\u001B[39m\u001B[38;5;124mindex\u001B[39m\u001B[38;5;124m\"\u001B[39m: index, \u001B[38;5;124m\"\u001B[39m\u001B[38;5;124mcolumns\u001B[39m\u001B[38;5;124m\"\u001B[39m: columns}, dtype\u001B[38;5;241m=\u001B[39mdtype, copy\u001B[38;5;241m=\u001B[39mcopy\n\u001B[1;32m    704\u001B[0m     )\n\u001B[1;32m    706\u001B[0m \u001B[38;5;28;01melif\u001B[39;00m \u001B[38;5;28misinstance\u001B[39m(data, \u001B[38;5;28mdict\u001B[39m):\n\u001B[1;32m    707\u001B[0m     \u001B[38;5;66;03m# GH#38939 de facto copy defaults to False only in non-dict cases\u001B[39;00m\n\u001B[0;32m--> 708\u001B[0m     mgr \u001B[38;5;241m=\u001B[39m \u001B[43mdict_to_mgr\u001B[49m\u001B[43m(\u001B[49m\u001B[43mdata\u001B[49m\u001B[43m,\u001B[49m\u001B[43m \u001B[49m\u001B[43mindex\u001B[49m\u001B[43m,\u001B[49m\u001B[43m \u001B[49m\u001B[43mcolumns\u001B[49m\u001B[43m,\u001B[49m\u001B[43m \u001B[49m\u001B[43mdtype\u001B[49m\u001B[38;5;241;43m=\u001B[39;49m\u001B[43mdtype\u001B[49m\u001B[43m,\u001B[49m\u001B[43m \u001B[49m\u001B[43mcopy\u001B[49m\u001B[38;5;241;43m=\u001B[39;49m\u001B[43mcopy\u001B[49m\u001B[43m,\u001B[49m\u001B[43m \u001B[49m\u001B[43mtyp\u001B[49m\u001B[38;5;241;43m=\u001B[39;49m\u001B[43mmanager\u001B[49m\u001B[43m)\u001B[49m\n\u001B[1;32m    709\u001B[0m \u001B[38;5;28;01melif\u001B[39;00m \u001B[38;5;28misinstance\u001B[39m(data, ma\u001B[38;5;241m.\u001B[39mMaskedArray):\n\u001B[1;32m    710\u001B[0m     \u001B[38;5;28;01mfrom\u001B[39;00m \u001B[38;5;21;01mnumpy\u001B[39;00m\u001B[38;5;21;01m.\u001B[39;00m\u001B[38;5;21;01mma\u001B[39;00m \u001B[38;5;28;01mimport\u001B[39;00m mrecords\n",
      "File \u001B[0;32m~/anaconda3/lib/python3.11/site-packages/pandas/core/internals/construction.py:481\u001B[0m, in \u001B[0;36mdict_to_mgr\u001B[0;34m(data, index, columns, dtype, typ, copy)\u001B[0m\n\u001B[1;32m    477\u001B[0m     \u001B[38;5;28;01melse\u001B[39;00m:\n\u001B[1;32m    478\u001B[0m         \u001B[38;5;66;03m# dtype check to exclude e.g. range objects, scalars\u001B[39;00m\n\u001B[1;32m    479\u001B[0m         arrays \u001B[38;5;241m=\u001B[39m [x\u001B[38;5;241m.\u001B[39mcopy() \u001B[38;5;28;01mif\u001B[39;00m \u001B[38;5;28mhasattr\u001B[39m(x, \u001B[38;5;124m\"\u001B[39m\u001B[38;5;124mdtype\u001B[39m\u001B[38;5;124m\"\u001B[39m) \u001B[38;5;28;01melse\u001B[39;00m x \u001B[38;5;28;01mfor\u001B[39;00m x \u001B[38;5;129;01min\u001B[39;00m arrays]\n\u001B[0;32m--> 481\u001B[0m \u001B[38;5;28;01mreturn\u001B[39;00m \u001B[43marrays_to_mgr\u001B[49m\u001B[43m(\u001B[49m\u001B[43marrays\u001B[49m\u001B[43m,\u001B[49m\u001B[43m \u001B[49m\u001B[43mcolumns\u001B[49m\u001B[43m,\u001B[49m\u001B[43m \u001B[49m\u001B[43mindex\u001B[49m\u001B[43m,\u001B[49m\u001B[43m \u001B[49m\u001B[43mdtype\u001B[49m\u001B[38;5;241;43m=\u001B[39;49m\u001B[43mdtype\u001B[49m\u001B[43m,\u001B[49m\u001B[43m \u001B[49m\u001B[43mtyp\u001B[49m\u001B[38;5;241;43m=\u001B[39;49m\u001B[43mtyp\u001B[49m\u001B[43m,\u001B[49m\u001B[43m \u001B[49m\u001B[43mconsolidate\u001B[49m\u001B[38;5;241;43m=\u001B[39;49m\u001B[43mcopy\u001B[49m\u001B[43m)\u001B[49m\n",
      "File \u001B[0;32m~/anaconda3/lib/python3.11/site-packages/pandas/core/internals/construction.py:115\u001B[0m, in \u001B[0;36marrays_to_mgr\u001B[0;34m(arrays, columns, index, dtype, verify_integrity, typ, consolidate)\u001B[0m\n\u001B[1;32m    112\u001B[0m \u001B[38;5;28;01mif\u001B[39;00m verify_integrity:\n\u001B[1;32m    113\u001B[0m     \u001B[38;5;66;03m# figure out the index, if necessary\u001B[39;00m\n\u001B[1;32m    114\u001B[0m     \u001B[38;5;28;01mif\u001B[39;00m index \u001B[38;5;129;01mis\u001B[39;00m \u001B[38;5;28;01mNone\u001B[39;00m:\n\u001B[0;32m--> 115\u001B[0m         index \u001B[38;5;241m=\u001B[39m \u001B[43m_extract_index\u001B[49m\u001B[43m(\u001B[49m\u001B[43marrays\u001B[49m\u001B[43m)\u001B[49m\n\u001B[1;32m    116\u001B[0m     \u001B[38;5;28;01melse\u001B[39;00m:\n\u001B[1;32m    117\u001B[0m         index \u001B[38;5;241m=\u001B[39m ensure_index(index)\n",
      "File \u001B[0;32m~/anaconda3/lib/python3.11/site-packages/pandas/core/internals/construction.py:655\u001B[0m, in \u001B[0;36m_extract_index\u001B[0;34m(data)\u001B[0m\n\u001B[1;32m    653\u001B[0m lengths \u001B[38;5;241m=\u001B[39m \u001B[38;5;28mlist\u001B[39m(\u001B[38;5;28mset\u001B[39m(raw_lengths))\n\u001B[1;32m    654\u001B[0m \u001B[38;5;28;01mif\u001B[39;00m \u001B[38;5;28mlen\u001B[39m(lengths) \u001B[38;5;241m>\u001B[39m \u001B[38;5;241m1\u001B[39m:\n\u001B[0;32m--> 655\u001B[0m     \u001B[38;5;28;01mraise\u001B[39;00m \u001B[38;5;167;01mValueError\u001B[39;00m(\u001B[38;5;124m\"\u001B[39m\u001B[38;5;124mAll arrays must be of the same length\u001B[39m\u001B[38;5;124m\"\u001B[39m)\n\u001B[1;32m    657\u001B[0m \u001B[38;5;28;01mif\u001B[39;00m have_dicts:\n\u001B[1;32m    658\u001B[0m     \u001B[38;5;28;01mraise\u001B[39;00m \u001B[38;5;167;01mValueError\u001B[39;00m(\n\u001B[1;32m    659\u001B[0m         \u001B[38;5;124m\"\u001B[39m\u001B[38;5;124mMixing dicts with non-Series may lead to ambiguous ordering.\u001B[39m\u001B[38;5;124m\"\u001B[39m\n\u001B[1;32m    660\u001B[0m     )\n",
      "\u001B[0;31mValueError\u001B[0m: All arrays must be of the same length"
     ]
    }
   ],
   "source": [
    "def analyze_influential_questions(binary_matrix, abilities, difficulties, discriminations, model_ids, question_ids):\n",
    "    \"\"\"Analyze which questions cause the biggest differences between IRT and average scoring\"\"\"\n",
    "\n",
    "    # Get both scoring methods\n",
    "    avg_scores = np.mean(binary_matrix.T, axis=1)\n",
    "    print(avg_scores.shape)\n",
    "\n",
    "    # Create base comparison DataFrame\n",
    "    model_comparison = pd.DataFrame({\n",
    "        'model_id': model_ids,\n",
    "        'irt_ability': abilities,\n",
    "        'avg_score': avg_scores,\n",
    "        'irt_rank': pd.Series(abilities).rank(ascending=False),\n",
    "        'avg_rank': pd.Series(avg_scores).rank(ascending=False)\n",
    "    }).set_index('model_id')\n",
    "    print(model_comparison)\n",
    "\n",
    "    # Find models with large ranking differences\n",
    "    model_comparison['rank_diff'] = model_comparison['avg_rank'] - model_comparison['irt_rank']\n",
    "    interesting_models = model_comparison[abs(model_comparison['rank_diff']) > 2]\n",
    "\n",
    "    # Analyze question characteristics for these models\n",
    "    question_analysis = pd.DataFrame({\n",
    "        'question_id': question_ids,\n",
    "        'difficulty': difficulties,\n",
    "        'discrimination': discriminations,\n",
    "        'avg_success_rate': np.mean(binary_matrix.T, axis=0)\n",
    "    })\n",
    "\n",
    "    # For each interesting model, analyze its response pattern\n",
    "    for model_id in interesting_models.index:\n",
    "        model_idx = model_ids.index(model_id)\n",
    "        responses = binary_matrix[model_idx]\n",
    "\n",
    "        # Calculate contribution to IRT score\n",
    "        # Higher contribution when succeeding on difficult/discriminating items\n",
    "        question_analysis[f'{model_id}_contribution'] = (\n",
    "            responses * discriminations * (difficulties - abilities[model_idx])\n",
    "        )\n",
    "\n",
    "        # Add raw response\n",
    "        question_analysis[f'{model_id}_response'] = responses\n",
    "\n",
    "    # Find most influential questions\n",
    "    influential_questions = question_analysis[\n",
    "        (question_analysis['discrimination'] > np.percentile(discriminations, 75)) |\n",
    "        (abs(question_analysis['difficulty']) > 2)\n",
    "    ]\n",
    "\n",
    "    return {\n",
    "        'model_differences': interesting_models,\n",
    "        'influential_questions': influential_questions.sort_values('discrimination', ascending=False)\n",
    "    }\n",
    "\n",
    "# Example usage:\n",
    "influential_analysis_results = analyze_influential_questions(\n",
    "    results['binary_matrix'],\n",
    "    results['abilities'], \n",
    "    results['difficulties'], \n",
    "    results['discriminations'], \n",
    "    analyzer.model_ids, \n",
    "    list(analyzer.question_metadata.keys())\n",
    ")\n",
    "\n",
    "print(\"\\nModels with largest ranking differences:\")\n",
    "print(influential_analysis_results['model_differences'])\n"
   ]
  },
  {
   "cell_type": "code",
   "execution_count": 126,
   "metadata": {
    "ExecuteTime": {
     "end_time": "2025-01-28T15:26:19.232802Z",
     "start_time": "2025-01-28T15:26:19.201663Z"
    }
   },
   "outputs": [
    {
     "name": "stdout",
     "output_type": "stream",
     "text": [
      "\n",
      "Most influential questions:\n",
      "     question_id  difficulty  discrimination  avg_success_rate\n",
      "0              0    2.173210             1.0          0.136364\n",
      "821         1450    2.173210             1.0          0.136364\n",
      "892         1585    5.999939             1.0          0.000000\n",
      "884         1566    2.679903             1.0          0.090909\n",
      "862         1527   -3.477644             1.0          0.954545\n",
      "849         1498    2.173210             1.0          0.136364\n",
      "848         1497    2.173210             1.0          0.136364\n",
      "835         1471    3.477478             1.0          0.045455\n",
      "828         1462    5.999939             1.0          0.000000\n",
      "824         1454    2.173210             1.0          0.136364\n"
     ]
    }
   ],
   "source": [
    "\n",
    "print(\"\\nMost influential questions:\")\n",
    "print(influential_analysis_results['influential_questions'].head(10))"
   ]
  },
  {
   "cell_type": "code",
   "execution_count": 127,
   "metadata": {
    "ExecuteTime": {
     "end_time": "2025-01-28T15:26:21.674766Z",
     "start_time": "2025-01-28T15:26:21.579957Z"
    }
   },
   "outputs": [
    {
     "ename": "AttributeError",
     "evalue": "'dict' object has no attribute 'iloc'",
     "output_type": "error",
     "traceback": [
      "\u001B[0;31m---------------------------------------------------------------------------\u001B[0m",
      "\u001B[0;31mAttributeError\u001B[0m                            Traceback (most recent call last)",
      "Cell \u001B[0;32mIn[127], line 1\u001B[0m\n\u001B[0;32m----> 1\u001B[0m \u001B[43mmodel_score_dicts\u001B[49m\u001B[43m[\u001B[49m\u001B[38;5;124;43m'\u001B[39;49m\u001B[38;5;124;43moverall\u001B[39;49m\u001B[38;5;124;43m'\u001B[39;49m\u001B[43m]\u001B[49m\u001B[43m[\u001B[49m\u001B[38;5;124;43m'\u001B[39;49m\u001B[38;5;124;43mGPT-4\u001B[39;49m\u001B[38;5;124;43m'\u001B[39;49m\u001B[43m]\u001B[49m\u001B[38;5;241;43m.\u001B[39;49m\u001B[43miloc\u001B[49m[\u001B[38;5;241m1879\u001B[39m]\n",
      "\u001B[0;31mAttributeError\u001B[0m: 'dict' object has no attribute 'iloc'"
     ]
    }
   ],
   "source": [
    "model_score_dicts['overall']['GPT-4'].iloc[1879]"
   ]
  },
  {
   "cell_type": "code",
   "execution_count": 128,
   "metadata": {
    "ExecuteTime": {
     "end_time": "2025-01-28T15:26:23.548964Z",
     "start_time": "2025-01-28T15:26:23.455789Z"
    }
   },
   "outputs": [],
   "source": [
    "#| hide\n",
    "import nbdev; nbdev.nbdev_export()"
   ]
  },
  {
   "cell_type": "code",
   "execution_count": 129,
   "metadata": {
    "ExecuteTime": {
     "end_time": "2025-01-28T15:26:25.750273Z",
     "start_time": "2025-01-28T15:26:25.526028Z"
    }
   },
   "outputs": [
    {
     "data": {
      "text/plain": "<Axes: >"
     },
     "execution_count": 129,
     "metadata": {},
     "output_type": "execute_result"
    },
    {
     "data": {
      "text/plain": "<Figure size 330x250 with 1 Axes>",
      "image/png": "[encoded data removed]"
     },
     "metadata": {},
     "output_type": "display_data"
    }
   ],
   "source": [
    "influential_analysis_results['influential_questions']['difficulty'].hist()"
   ]
  },
  {
   "cell_type": "code",
   "execution_count": 130,
   "metadata": {
    "ExecuteTime": {
     "end_time": "2025-01-28T15:26:27.243617Z",
     "start_time": "2025-01-28T15:26:27.217883Z"
    }
   },
   "outputs": [
    {
     "data": {
      "text/plain": "      question_id  difficulty  discrimination  avg_success_rate\n862          1527   -3.477644             1.0          0.954545\n894          1590   -2.173275             1.0          0.863636\n898          1595   -2.173275             1.0          0.863636\n998          1778   -2.173275             1.0          0.863636\n996          1775   -2.679993             1.0          0.909091\n899          1596   -2.173275             1.0          0.863636\n563           977   -2.173275             1.0          0.863636\n544           946   -2.173275             1.0          0.863636\n1448         2563   -3.477644             1.0          0.954545\n1349         2386   -2.679993             1.0          0.909091\n1069         1900   -2.173275             1.0          0.863636\n1582         2801   -3.477644             1.0          0.954545\n1492         2658   -2.679993             1.0          0.909091\n1481         2631   -2.679993             1.0          0.909091\n1343         2374   -2.679993             1.0          0.909091\n1192         2113   -2.679993             1.0          0.909091\n1290         2282   -2.173275             1.0          0.863636\n207           366   -2.173275             1.0          0.863636\n16             25   -2.679993             1.0          0.909091\n106           186   -3.477644             1.0          0.954545\n278           497   -2.173275             1.0          0.863636\n400           694   -2.679993             1.0          0.909091\n439           769   -2.679993             1.0          0.909091\n382           664   -2.173275             1.0          0.863636\n296           528   -3.477644             1.0          0.954545\n291           523   -2.173275             1.0          0.863636\n343           609   -2.679993             1.0          0.909091",
      "text/html": "<div>\n<style scoped>\n    .dataframe tbody tr th:only-of-type {\n        vertical-align: middle;\n    }\n\n    .dataframe tbody tr th {\n        vertical-align: top;\n    }\n\n    .dataframe thead th {\n        text-align: right;\n    }\n</style>\n<table border=\"1\" class=\"dataframe\">\n  <thead>\n    <tr style=\"text-align: right;\">\n      <th></th>\n      <th>question_id</th>\n      <th>difficulty</th>\n      <th>discrimination</th>\n      <th>avg_success_rate</th>\n    </tr>\n  </thead>\n  <tbody>\n    <tr>\n      <th>862</th>\n      <td>1527</td>\n      <td>-3.477644</td>\n      <td>1.0</td>\n      <td>0.954545</td>\n    </tr>\n    <tr>\n      <th>894</th>\n      <td>1590</td>\n      <td>-2.173275</td>\n      <td>1.0</td>\n      <td>0.863636</td>\n    </tr>\n    <tr>\n      <th>898</th>\n      <td>1595</td>\n      <td>-2.173275</td>\n      <td>1.0</td>\n      <td>0.863636</td>\n    </tr>\n    <tr>\n      <th>998</th>\n      <td>1778</td>\n      <td>-2.173275</td>\n      <td>1.0</td>\n      <td>0.863636</td>\n    </tr>\n    <tr>\n      <th>996</th>\n      <td>1775</td>\n      <td>-2.679993</td>\n      <td>1.0</td>\n      <td>0.909091</td>\n    </tr>\n    <tr>\n      <th>899</th>\n      <td>1596</td>\n      <td>-2.173275</td>\n      <td>1.0</td>\n      <td>0.863636</td>\n    </tr>\n    <tr>\n      <th>563</th>\n      <td>977</td>\n      <td>-2.173275</td>\n      <td>1.0</td>\n      <td>0.863636</td>\n    </tr>\n    <tr>\n      <th>544</th>\n      <td>946</td>\n      <td>-2.173275</td>\n      <td>1.0</td>\n      <td>0.863636</td>\n    </tr>\n    <tr>\n      <th>1448</th>\n      <td>2563</td>\n      <td>-3.477644</td>\n      <td>1.0</td>\n      <td>0.954545</td>\n    </tr>\n    <tr>\n      <th>1349</th>\n      <td>2386</td>\n      <td>-2.679993</td>\n      <td>1.0</td>\n      <td>0.909091</td>\n    </tr>\n    <tr>\n      <th>1069</th>\n      <td>1900</td>\n      <td>-2.173275</td>\n      <td>1.0</td>\n      <td>0.863636</td>\n    </tr>\n    <tr>\n      <th>1582</th>\n      <td>2801</td>\n      <td>-3.477644</td>\n      <td>1.0</td>\n      <td>0.954545</td>\n    </tr>\n    <tr>\n      <th>1492</th>\n      <td>2658</td>\n      <td>-2.679993</td>\n      <td>1.0</td>\n      <td>0.909091</td>\n    </tr>\n    <tr>\n      <th>1481</th>\n      <td>2631</td>\n      <td>-2.679993</td>\n      <td>1.0</td>\n      <td>0.909091</td>\n    </tr>\n    <tr>\n      <th>1343</th>\n      <td>2374</td>\n      <td>-2.679993</td>\n      <td>1.0</td>\n      <td>0.909091</td>\n    </tr>\n    <tr>\n      <th>1192</th>\n      <td>2113</td>\n      <td>-2.679993</td>\n      <td>1.0</td>\n      <td>0.909091</td>\n    </tr>\n    <tr>\n      <th>1290</th>\n      <td>2282</td>\n      <td>-2.173275</td>\n      <td>1.0</td>\n      <td>0.863636</td>\n    </tr>\n    <tr>\n      <th>207</th>\n      <td>366</td>\n      <td>-2.173275</td>\n      <td>1.0</td>\n      <td>0.863636</td>\n    </tr>\n    <tr>\n      <th>16</th>\n      <td>25</td>\n      <td>-2.679993</td>\n      <td>1.0</td>\n      <td>0.909091</td>\n    </tr>\n    <tr>\n      <th>106</th>\n      <td>186</td>\n      <td>-3.477644</td>\n      <td>1.0</td>\n      <td>0.954545</td>\n    </tr>\n    <tr>\n      <th>278</th>\n      <td>497</td>\n      <td>-2.173275</td>\n      <td>1.0</td>\n      <td>0.863636</td>\n    </tr>\n    <tr>\n      <th>400</th>\n      <td>694</td>\n      <td>-2.679993</td>\n      <td>1.0</td>\n      <td>0.909091</td>\n    </tr>\n    <tr>\n      <th>439</th>\n      <td>769</td>\n      <td>-2.679993</td>\n      <td>1.0</td>\n      <td>0.909091</td>\n    </tr>\n    <tr>\n      <th>382</th>\n      <td>664</td>\n      <td>-2.173275</td>\n      <td>1.0</td>\n      <td>0.863636</td>\n    </tr>\n    <tr>\n      <th>296</th>\n      <td>528</td>\n      <td>-3.477644</td>\n      <td>1.0</td>\n      <td>0.954545</td>\n    </tr>\n    <tr>\n      <th>291</th>\n      <td>523</td>\n      <td>-2.173275</td>\n      <td>1.0</td>\n      <td>0.863636</td>\n    </tr>\n    <tr>\n      <th>343</th>\n      <td>609</td>\n      <td>-2.679993</td>\n      <td>1.0</td>\n      <td>0.909091</td>\n    </tr>\n  </tbody>\n</table>\n</div>"
     },
     "execution_count": 130,
     "metadata": {},
     "output_type": "execute_result"
    }
   ],
   "source": [
    "influential_analysis_results['influential_questions'][influential_analysis_results['influential_questions']['difficulty']<0]"
   ]
  },
  {
   "cell_type": "code",
   "execution_count": 131,
   "metadata": {
    "ExecuteTime": {
     "end_time": "2025-01-28T15:26:37.097798Z",
     "start_time": "2025-01-28T15:26:37.035120Z"
    }
   },
   "outputs": [
    {
     "ename": "AttributeError",
     "evalue": "'dict' object has no attribute 'iloc'",
     "output_type": "error",
     "traceback": [
      "\u001B[0;31m---------------------------------------------------------------------------\u001B[0m",
      "\u001B[0;31mAttributeError\u001B[0m                            Traceback (most recent call last)",
      "Cell \u001B[0;32mIn[131], line 1\u001B[0m\n\u001B[0;32m----> 1\u001B[0m \u001B[43mmodel_score_dicts\u001B[49m\u001B[43m[\u001B[49m\u001B[38;5;124;43m'\u001B[39;49m\u001B[38;5;124;43moverall\u001B[39;49m\u001B[38;5;124;43m'\u001B[39;49m\u001B[43m]\u001B[49m\u001B[43m[\u001B[49m\u001B[38;5;124;43m'\u001B[39;49m\u001B[38;5;124;43mGPT-4\u001B[39;49m\u001B[38;5;124;43m'\u001B[39;49m\u001B[43m]\u001B[49m\u001B[38;5;241;43m.\u001B[39;49m\u001B[43miloc\u001B[49m[\u001B[38;5;241m1590\u001B[39m][\u001B[38;5;124m'\u001B[39m\u001B[38;5;124mprompt_0\u001B[39m\u001B[38;5;124m'\u001B[39m]\n",
      "\u001B[0;31mAttributeError\u001B[0m: 'dict' object has no attribute 'iloc'"
     ]
    }
   ],
   "source": [
    "model_score_dicts['overall']['GPT-4'].iloc[1590]['prompt_0']"
   ]
  },
  {
   "cell_type": "markdown",
   "metadata": {},
   "source": [
    "Let's see if we can make it Bayesian with `pymc`"
   ]
  },
  {
   "cell_type": "code",
   "execution_count": 132,
   "metadata": {
    "ExecuteTime": {
     "end_time": "2025-01-28T15:26:44.795870Z",
     "start_time": "2025-01-28T15:26:44.756460Z"
    }
   },
   "outputs": [],
   "source": [
    "import pymc as pm\n",
    "import numpy as np\n",
    "import arviz as az\n",
    "\n",
    "\n",
    "def fit_2pl_pymc(response_matrix, n_samples=2000, tune=2000): \n",
    "    n_participants, n_items = response_matrix.shape\n",
    "    with pm.Model() as irt_2pl:\n",
    "        \n",
    "        # 1. Standardize input data if not already done         \n",
    "        # response_matrix = (response_matrix - np.mean(response_matrix)) / np.std(response_matrix)          \n",
    "        # 2. Abilities with stronger regularization\n",
    "        abilities = pm.Normal('abilities',\n",
    "                              mu=0,                              \n",
    "                              sigma=0.5,  # Tighter prior\n",
    "                              shape=n_participants)\n",
    "        # 3. Simpler discrimination parameterization         \n",
    "        # Constrain to reasonable range [0.5, 2.5]\n",
    "        discriminations = pm.TruncatedNormal('discriminations',\n",
    "                                             mu=1.0,\n",
    "                                             sigma=0.3,\n",
    "                                             lower=0.5,\n",
    "                                             upper=2.5,                                            shape=n_items)\n",
    "        \n",
    "        # 4. Difficulties with tighter bounds\n",
    "        difficulties = pm.TruncatedNormal('difficulties',\n",
    "                                        mu=0,\n",
    "                                        sigma=0.5,\n",
    "                                        lower=-2,\n",
    "                                        upper=2,\n",
    "                                        shape=n_items)\n",
    "\n",
    "        # 5. More stable computation with scaling\n",
    "        scaled_abilities = abilities[:, None] / 2.0  # Scale down\n",
    "        scaled_difficulties = difficulties[None, :] / 2.0\n",
    "        scaled_disc = discriminations[None, :] / 2.0\n",
    "\n",
    "        # Compute logit with scaled parameters\n",
    "        logit_p = scaled_disc * (scaled_abilities - scaled_difficulties)\n",
    "\n",
    "        # 6. Likelihood\n",
    "        responses = pm.Bernoulli('responses',\n",
    "                                logit_p=logit_p,\n",
    "                                observed=response_matrix)\n",
    "\n",
    "        # 7. Improved sampling settings\n",
    "        trace = pm.sample(n_samples,\n",
    "                         tune=tune,\n",
    "                         chains=4,\n",
    "                         target_accept=0.99,\n",
    "                         init='jitter+adapt_diag',  # Different initializer\n",
    "                         return_inferencedata=True,\n",
    "                         cores=1)  # Single core for better stability\n",
    "\n",
    "    return trace\n",
    "\n",
    "# Modern diagnostics using ArviZ\n",
    "def check_model_diagnostics(trace):\n",
    "    \"\"\"Comprehensive model diagnostics\"\"\"\n",
    "    diagnostics = {\n",
    "        'r_hat': az.rhat(trace),\n",
    "        'ess': az.ess(trace),\n",
    "        'mcse': az.mcse(trace),\n",
    "        'divergences': az.summary(trace)['diverging'].sum()\n",
    "    }\n",
    "\n",
    "    # Check for convergence issues\n",
    "    has_issues = (\n",
    "        (diagnostics['r_hat'] > 1.01).any() or\n",
    "        (diagnostics['ess'] < 400).any() or\n",
    "        diagnostics['divergences'] > 0\n",
    "    )\n",
    "\n",
    "    if has_issues:\n",
    "        print(\"Warning: Potential convergence issues detected\")\n",
    "\n",
    "    return diagnostics\n"
   ]
  },
  {
   "cell_type": "code",
   "execution_count": 133,
   "metadata": {
    "ExecuteTime": {
     "end_time": "2025-01-28T15:44:59.370826Z",
     "start_time": "2025-01-28T15:26:45.867161Z"
    }
   },
   "outputs": [
    {
     "name": "stderr",
     "output_type": "stream",
     "text": [
      "Initializing NUTS using jitter+adapt_diag...\n",
      "Sequential sampling (4 chains in 1 job)\n",
      "NUTS: [abilities, discriminations, difficulties]\n"
     ]
    },
    {
     "data": {
      "text/plain": "Output()",
      "application/vnd.jupyter.widget-view+json": {
       "version_major": 2,
       "version_minor": 0,
       "model_id": "04f65eed97564a68a10ef9820b675a7c"
      }
     },
     "metadata": {},
     "output_type": "display_data"
    },
    {
     "data": {
      "text/plain": "",
      "text/html": "<pre style=\"white-space:pre;overflow-x:auto;line-height:normal;font-family:Menlo,'DejaVu Sans Mono',consolas,'Courier New',monospace\"></pre>\n"
     },
     "metadata": {},
     "output_type": "display_data"
    },
    {
     "data": {
      "text/plain": "\n",
      "text/html": "<pre style=\"white-space:pre;overflow-x:auto;line-height:normal;font-family:Menlo,'DejaVu Sans Mono',consolas,'Courier New',monospace\">\n</pre>\n"
     },
     "metadata": {},
     "output_type": "display_data"
    },
    {
     "data": {
      "text/plain": "Output()",
      "application/vnd.jupyter.widget-view+json": {
       "version_major": 2,
       "version_minor": 0,
       "model_id": "8b2755fae4194d6f80c5a0713b30c144"
      }
     },
     "metadata": {},
     "output_type": "display_data"
    },
    {
     "data": {
      "text/plain": "",
      "text/html": "<pre style=\"white-space:pre;overflow-x:auto;line-height:normal;font-family:Menlo,'DejaVu Sans Mono',consolas,'Courier New',monospace\"></pre>\n"
     },
     "metadata": {},
     "output_type": "display_data"
    },
    {
     "data": {
      "text/plain": "\n",
      "text/html": "<pre style=\"white-space:pre;overflow-x:auto;line-height:normal;font-family:Menlo,'DejaVu Sans Mono',consolas,'Courier New',monospace\">\n</pre>\n"
     },
     "metadata": {},
     "output_type": "display_data"
    },
    {
     "data": {
      "text/plain": "Output()",
      "application/vnd.jupyter.widget-view+json": {
       "version_major": 2,
       "version_minor": 0,
       "model_id": "780bf7c2c44548ad9b96c13be8e52f4d"
      }
     },
     "metadata": {},
     "output_type": "display_data"
    },
    {
     "data": {
      "text/plain": "",
      "text/html": "<pre style=\"white-space:pre;overflow-x:auto;line-height:normal;font-family:Menlo,'DejaVu Sans Mono',consolas,'Courier New',monospace\"></pre>\n"
     },
     "metadata": {},
     "output_type": "display_data"
    },
    {
     "data": {
      "text/plain": "\n",
      "text/html": "<pre style=\"white-space:pre;overflow-x:auto;line-height:normal;font-family:Menlo,'DejaVu Sans Mono',consolas,'Courier New',monospace\">\n</pre>\n"
     },
     "metadata": {},
     "output_type": "display_data"
    },
    {
     "data": {
      "text/plain": "Output()",
      "application/vnd.jupyter.widget-view+json": {
       "version_major": 2,
       "version_minor": 0,
       "model_id": "79a6494d8a994235b7f1f1c796994e7e"
      }
     },
     "metadata": {},
     "output_type": "display_data"
    },
    {
     "data": {
      "text/plain": "",
      "text/html": "<pre style=\"white-space:pre;overflow-x:auto;line-height:normal;font-family:Menlo,'DejaVu Sans Mono',consolas,'Courier New',monospace\"></pre>\n"
     },
     "metadata": {},
     "output_type": "display_data"
    },
    {
     "data": {
      "text/plain": "\n",
      "text/html": "<pre style=\"white-space:pre;overflow-x:auto;line-height:normal;font-family:Menlo,'DejaVu Sans Mono',consolas,'Courier New',monospace\">\n</pre>\n"
     },
     "metadata": {},
     "output_type": "display_data"
    },
    {
     "name": "stderr",
     "output_type": "stream",
     "text": [
      "Sampling 4 chains for 2_000 tune and 2_000 draw iterations (8_000 + 8_000 draws total) took 1052 seconds.\n"
     ]
    }
   ],
   "source": [
    "with pm.Model() as model:\n",
    "    trace_all_correct = fit_2pl_pymc(binary_array.T)\n"
   ]
  },
  {
   "cell_type": "code",
   "execution_count": 134,
   "metadata": {
    "ExecuteTime": {
     "end_time": "2025-01-28T15:48:24.152579Z",
     "start_time": "2025-01-28T15:48:22.605748Z"
    }
   },
   "outputs": [],
   "source": [
    "# save trace as pickle file\n",
    "with open('../data/trace_all_correct_filtered.pkl', 'wb') as f:\n",
    "    pickle.dump(trace_all_correct, f)"
   ]
  },
  {
   "cell_type": "code",
   "execution_count": 171,
   "outputs": [],
   "source": [
    "# open already computed scores\n",
    "with open('../data/trace_all_correct_filtered.pkl', 'rb') as f:\n",
    "    trace_all_correct = pickle.load(f)"
   ],
   "metadata": {
    "collapsed": false,
    "ExecuteTime": {
     "end_time": "2025-01-29T14:25:44.293452Z",
     "start_time": "2025-01-29T14:25:44.176785Z"
    }
   }
  },
  {
   "cell_type": "code",
   "execution_count": 135,
   "metadata": {
    "ExecuteTime": {
     "end_time": "2025-01-28T15:48:32.955548Z",
     "start_time": "2025-01-28T15:48:32.875251Z"
    }
   },
   "outputs": [],
   "source": [
    "difficulty_vector = trace_all_correct.posterior['difficulties'].mean(dim=['chain', 'draw']).values"
   ]
  },
  {
   "cell_type": "code",
   "execution_count": 136,
   "metadata": {
    "ExecuteTime": {
     "end_time": "2025-01-28T15:48:33.747519Z",
     "start_time": "2025-01-28T15:48:33.725368Z"
    }
   },
   "outputs": [],
   "source": [
    "# load json file\n",
    "import json\n",
    "with open('../data/difficulty_dict.json', 'r') as f:\n",
    "    difficulty_dict = json.load(f)"
   ]
  },
  {
   "cell_type": "code",
   "execution_count": 137,
   "metadata": {
    "ExecuteTime": {
     "end_time": "2025-01-28T15:48:35.643917Z",
     "start_time": "2025-01-28T15:48:35.625460Z"
    }
   },
   "outputs": [],
   "source": [
    "difficulty_vector_dataframe = pd.DataFrame(difficulty_vector, columns=['difficulty'])"
   ]
  },
  {
   "cell_type": "code",
   "execution_count": 138,
   "metadata": {
    "ExecuteTime": {
     "end_time": "2025-01-28T15:48:36.644940Z",
     "start_time": "2025-01-28T15:48:36.605079Z"
    }
   },
   "outputs": [
    {
     "data": {
      "text/plain": "      difficulty\n0       0.444984\n1       0.653472\n2      -0.630740\n3      -0.572958\n4       0.316071\n...          ...\n1111    0.013804\n1112    0.183771\n1113    0.134585\n1114   -0.436721\n1115    0.018682\n\n[1116 rows x 1 columns]",
      "text/html": "<div>\n<style scoped>\n    .dataframe tbody tr th:only-of-type {\n        vertical-align: middle;\n    }\n\n    .dataframe tbody tr th {\n        vertical-align: top;\n    }\n\n    .dataframe thead th {\n        text-align: right;\n    }\n</style>\n<table border=\"1\" class=\"dataframe\">\n  <thead>\n    <tr style=\"text-align: right;\">\n      <th></th>\n      <th>difficulty</th>\n    </tr>\n  </thead>\n  <tbody>\n    <tr>\n      <th>0</th>\n      <td>0.444984</td>\n    </tr>\n    <tr>\n      <th>1</th>\n      <td>0.653472</td>\n    </tr>\n    <tr>\n      <th>2</th>\n      <td>-0.630740</td>\n    </tr>\n    <tr>\n      <th>3</th>\n      <td>-0.572958</td>\n    </tr>\n    <tr>\n      <th>4</th>\n      <td>0.316071</td>\n    </tr>\n    <tr>\n      <th>...</th>\n      <td>...</td>\n    </tr>\n    <tr>\n      <th>1111</th>\n      <td>0.013804</td>\n    </tr>\n    <tr>\n      <th>1112</th>\n      <td>0.183771</td>\n    </tr>\n    <tr>\n      <th>1113</th>\n      <td>0.134585</td>\n    </tr>\n    <tr>\n      <th>1114</th>\n      <td>-0.436721</td>\n    </tr>\n    <tr>\n      <th>1115</th>\n      <td>0.018682</td>\n    </tr>\n  </tbody>\n</table>\n<p>1116 rows × 1 columns</p>\n</div>"
     },
     "execution_count": 138,
     "metadata": {},
     "output_type": "execute_result"
    }
   ],
   "source": [
    "difficulty_vector_dataframe"
   ]
  },
  {
   "cell_type": "code",
   "execution_count": 139,
   "metadata": {
    "ExecuteTime": {
     "end_time": "2025-01-28T15:48:38.258396Z",
     "start_time": "2025-01-28T15:48:38.078237Z"
    }
   },
   "outputs": [],
   "source": [
    "difficulty_vector_dataframe\n",
    "\n",
    "#extend the difficulty dataframe with one more column based on the index. Use the difficulty_dict to assign values to the new column. all index that are easy is 0, intermediate is 1 and hard is 2\n",
    "\n",
    "difficulty_vector_dataframe['difficulty_level'] = difficulty_vector_dataframe.index.map(difficulty_dict)"
   ]
  },
  {
   "cell_type": "code",
   "execution_count": 140,
   "metadata": {
    "ExecuteTime": {
     "end_time": "2025-01-28T15:48:39.234069Z",
     "start_time": "2025-01-28T15:48:39.197693Z"
    }
   },
   "outputs": [],
   "source": [
    "# Create mapping dictionary with default value \n",
    "level_map = {i: 2 for i in range(len(difficulty_vector))}  # Default to 'hard' (2)\n",
    "\n",
    "# Map easy indices to 0\n",
    "for i in difficulty_dict['easy']:\n",
    "   level_map[i] = 0\n",
    "   \n",
    "# Map intermediate indices to 1\n",
    "for i in difficulty_dict['intermediate']: \n",
    "   level_map[i] = 1\n",
    "\n",
    "# Add new column\n",
    "difficulty_vector_dataframe['difficulty_level'] = difficulty_vector_dataframe.index.map(level_map)"
   ]
  },
  {
   "cell_type": "code",
   "execution_count": 141,
   "metadata": {
    "ExecuteTime": {
     "end_time": "2025-01-28T15:48:40.302773Z",
     "start_time": "2025-01-28T15:48:40.201260Z"
    }
   },
   "outputs": [],
   "source": [
    "from matplotlib import pyplot as plt\n",
    "import seaborn as sns\n",
    "from scipy.constants import golden\n",
    "\n",
    "plt.style.use(\"lamalab.mplstyle\")\n",
    "\n",
    "ONE_COL_WIDTH_INCH = 3.25\n",
    "TWO_COL_WIDTH_INCH = 7.2\n",
    "ONE_COL_GOLDEN_RATIO_HEIGHT_INCH = ONE_COL_WIDTH_INCH / golden\n",
    "TWO_COL_GOLDEN_RATIO_HEIGHT_INCH = TWO_COL_WIDTH_INCH / golden\n",
    "\n",
    "def range_frame(ax, x, y, pad=0.1):\n",
    "    y_min, y_max = np.min(y), np.max(y)\n",
    "    x_min, x_max = np.min(x), np.max(x)\n",
    "    \n",
    "    ax.set_ylim(y_min - pad * (y_max - y_min), \n",
    "                y_max + pad * (y_max - y_min))\n",
    "    # ax.set_xlim(x_min * (1 - pad), \n",
    "    #             x_max * (1 + pad))\n",
    "    \n",
    "    ax.spines['top'].set_visible(False)\n",
    "    ax.spines['right'].set_visible(False)\n",
    "    ax.spines['left'].set_position(('outward', 10))\n",
    "    ax.spines['bottom'].set_position(('outward', 10))\n",
    "    ax.spines['left'].set_bounds(y_min, y_max)\n",
    "    ax.spines['bottom'].set_bounds(x_min, x_max)\n",
    "\n",
    "def plot_difficulty_violin(df):\n",
    "   plt.figure(figsize=(ONE_COL_WIDTH_INCH, 1.2 *ONE_COL_GOLDEN_RATIO_HEIGHT_INCH))\n",
    "   \n",
    "   # Create violin plot\n",
    "   ax = sns.violinplot(data=df, x='difficulty_level', y='difficulty', color=\"#FFBA08\",linewidth=0.75)\n",
    "   \n",
    "   # Apply range frame\n",
    "   x = df['difficulty_level'].unique()\n",
    "   y = df['difficulty'].values\n",
    "   range_frame(ax, x, y)\n",
    "   \n",
    "   # Customize labels\n",
    "   ax.set_xticklabels(['Easy', 'Intermediate', 'Hard'])\n",
    "\n",
    "#    plt.title('Difficulty Distribution')\n",
    "   plt.xlabel('Human Assigned')\n",
    "   plt.ylabel('Computed Difficulty')\n",
    "   \n",
    "   plt.tight_layout()\n",
    "   plt.savefig(\"difficulty.pdf\", format='pdf')\n",
    "\n",
    "   plt.show()"
   ]
  },
  {
   "cell_type": "code",
   "execution_count": 142,
   "outputs": [],
   "source": [
    "from matplotlib import pyplot as plt\n",
    "import seaborn as sns\n",
    "from scipy.constants import golden\n",
    "\n",
    "plt.style.use(\"lamalab.mplstyle\")\n",
    "\n",
    "ONE_COL_WIDTH_INCH = 3.25\n",
    "TWO_COL_WIDTH_INCH = 7.2\n",
    "ONE_COL_GOLDEN_RATIO_HEIGHT_INCH = ONE_COL_WIDTH_INCH / golden\n",
    "TWO_COL_GOLDEN_RATIO_HEIGHT_INCH = TWO_COL_WIDTH_INCH / golden\n",
    "\n",
    "def range_frame(ax, x, y, pad=0.1):\n",
    "    y_min, y_max = np.min(y), np.max(y)\n",
    "    x_min, x_max = np.min(x), np.max(x)\n",
    "    \n",
    "    ax.set_ylim(y_min - pad * (y_max - y_min), \n",
    "                y_max + pad * (y_max - y_min))\n",
    "    \n",
    "    ax.spines['top'].set_visible(False)\n",
    "    ax.spines['right'].set_visible(False)\n",
    "    ax.spines['left'].set_position(('outward', 10))\n",
    "    ax.spines['bottom'].set_position(('outward', 10))\n",
    "    ax.spines['left'].set_bounds(y_min, y_max)\n",
    "    ax.spines['bottom'].set_bounds(x_min, x_max)\n",
    "\n",
    "def plot_difficulty_swarm(df):\n",
    "    plt.figure(figsize=(TWO_COL_WIDTH_INCH, TWO_COL_WIDTH_INCH/2), facecolor='white')\n",
    "    \n",
    "    # Create swarm plot with much smaller points\n",
    "    ax = sns.swarmplot(data=df, x='difficulty_level', y='difficulty', color=\"#6A040F\", size=1)\n",
    "    \n",
    "    # Apply range frame\n",
    "    x = df['difficulty_level'].unique()\n",
    "    y = df['difficulty'].values\n",
    "    range_frame(ax, x, y)\n",
    "    \n",
    "    # Customize labels\n",
    "    ax.set_xticklabels(['Easy', 'Intermediate', 'Hard'])\n",
    "    \n",
    "    plt.xlabel('Human Assigned')\n",
    "    plt.ylabel('Computed Difficulty')\n",
    "    ax.set_facecolor('white')\n",
    "    \n",
    "    plt.tight_layout()\n",
    "    plt.savefig(\"difficulty.pdf\", format='pdf')\n",
    "    \n",
    "    plt.show()"
   ],
   "metadata": {
    "collapsed": false,
    "ExecuteTime": {
     "end_time": "2025-01-28T15:48:41.328270Z",
     "start_time": "2025-01-28T15:48:41.283284Z"
    }
   }
  },
  {
   "cell_type": "code",
   "execution_count": 155,
   "outputs": [
    {
     "name": "stderr",
     "output_type": "stream",
     "text": [
      "/var/folders/tv/b0y73fwd4zn44s4jmxl5169w0000gn/T/ipykernel_6276/2177926585.py:38: UserWarning: set_ticklabels() should only be used with a fixed number of ticks, i.e. after set_ticks() or using a FixedLocator.\n",
      "  ax.set_xticklabels(['Easy', 'Intermediate', 'Hard'])\n"
     ]
    },
    {
     "data": {
      "text/plain": "<Figure size 325x241.033 with 1 Axes>",
      "image/png": "[encoded data removed]"
     },
     "metadata": {},
     "output_type": "display_data"
    }
   ],
   "source": [
    "plot_difficulty_swarm(difficulty_vector_dataframe)"
   ],
   "metadata": {
    "collapsed": false,
    "ExecuteTime": {
     "end_time": "2025-01-28T15:57:02.758486Z",
     "start_time": "2025-01-28T15:57:01.182364Z"
    }
   }
  },
  {
   "cell_type": "code",
   "execution_count": 146,
   "metadata": {
    "ExecuteTime": {
     "end_time": "2025-01-28T15:50:05.185384Z",
     "start_time": "2025-01-28T15:50:04.832561Z"
    }
   },
   "outputs": [
    {
     "name": "stderr",
     "output_type": "stream",
     "text": [
      "/var/folders/tv/b0y73fwd4zn44s4jmxl5169w0000gn/T/ipykernel_6276/1313478027.py:40: UserWarning: set_ticklabels() should only be used with a fixed number of ticks, i.e. after set_ticks() or using a FixedLocator.\n",
      "  ax.set_xticklabels(['Easy', 'Intermediate', 'Hard'])\n"
     ]
    },
    {
     "data": {
      "text/plain": "<Figure size 325x241.033 with 1 Axes>",
      "image/png": "[encoded data removed]"
     },
     "metadata": {},
     "output_type": "display_data"
    }
   ],
   "source": [
    "plot_difficulty_violin(difficulty_vector_dataframe)"
   ]
  },
  {
   "cell_type": "code",
   "execution_count": 147,
   "metadata": {
    "ExecuteTime": {
     "end_time": "2025-01-28T15:50:07.445247Z",
     "start_time": "2025-01-28T15:50:07.400753Z"
    }
   },
   "outputs": [],
   "source": [
    "abilities_mean = trace_all_correct.posterior['abilities'].mean(dim=['chain', 'draw']).values"
   ]
  },
  {
   "cell_type": "code",
   "execution_count": 148,
   "metadata": {
    "ExecuteTime": {
     "end_time": "2025-01-28T15:50:09.464011Z",
     "start_time": "2025-01-28T15:50:09.390403Z"
    }
   },
   "outputs": [
    {
     "data": {
      "text/plain": "22"
     },
     "execution_count": 148,
     "metadata": {},
     "output_type": "execute_result"
    }
   ],
   "source": [
    "len(abilities_mean)"
   ]
  },
  {
   "cell_type": "code",
   "execution_count": 149,
   "metadata": {
    "ExecuteTime": {
     "end_time": "2025-01-28T15:50:11.570078Z",
     "start_time": "2025-01-28T15:50:11.512936Z"
    }
   },
   "outputs": [
    {
     "data": {
      "text/plain": "0.5627240143369175"
     },
     "execution_count": 149,
     "metadata": {},
     "output_type": "execute_result"
    }
   ],
   "source": [
    "sum(model_score_dicts['overall']['Mistral-Large-2']['all_correct_'])/len(model_score_dicts['overall']['Mistral-Large-2']['all_correct_'])"
   ]
  },
  {
   "cell_type": "code",
   "execution_count": 183,
   "metadata": {
    "ExecuteTime": {
     "end_time": "2025-01-29T14:38:00.088293Z",
     "start_time": "2025-01-29T14:38:00.040285Z"
    }
   },
   "outputs": [],
   "source": [
    "# Get point estimates and uncertainty\n",
    "def get_parameter_estimates(trace):\n",
    "    estimates = {\n",
    "        'abilities': {\n",
    "            'mean': trace.posterior['abilities'].mean(dim=['chain', 'draw']).values,\n",
    "            'std': trace.posterior['abilities'].std(dim=['chain', 'draw']).values,\n",
    "            'hdi': az.hdi(trace, var_names=['abilities'])\n",
    "        },\n",
    "        'discriminations': {\n",
    "            'mean': trace.posterior['discriminations'].mean(dim=['chain', 'draw']).values,\n",
    "            'std': trace.posterior['discriminations'].std(dim=['chain', 'draw']).values,\n",
    "            'hdi': az.hdi(trace, var_names=['discriminations'])\n",
    "        },\n",
    "        'difficulties': {\n",
    "            'mean': trace.posterior['difficulties'].mean(dim=['chain', 'draw']).values,\n",
    "            'std': trace.posterior['difficulties'].std(dim=['chain', 'draw']).values,\n",
    "            'hdi': az.hdi(trace, var_names=['difficulties'])\n",
    "        }\n",
    "    }\n",
    "    return estimates\n"
   ]
  },
  {
   "cell_type": "code",
   "execution_count": 150,
   "metadata": {
    "ExecuteTime": {
     "end_time": "2025-01-28T15:50:13.766353Z",
     "start_time": "2025-01-28T15:50:13.745816Z"
    }
   },
   "outputs": [],
   "source": [
    "model_list = list(model_score_dicts['overall'].keys())\n",
    "\n",
    "model_score_list = []\n",
    "for model in model_list:\n",
    "    #print(sum(model_score_dicts['overall'][model]['all_correct_'])/len(model_score_dicts['overall'][model]['all_correct_']))\n",
    "    model_score_list.append(sum(model_score_dicts['overall'][model]['all_correct_'])/len(model_score_dicts['overall'][model]['all_correct_']))\n",
    "\n",
    "model_score_df = pd.DataFrame(model_score_list, index=model_list, columns=['score'])"
   ]
  },
  {
   "cell_type": "code",
   "execution_count": 259,
   "outputs": [],
   "source": [
    "def plot_model_comparison2(df, abilities_mean, abilities_std=None, models_to_plot=None, colors=None):\n",
    "    fig, ax = plt.subplots(figsize=(1.5*ONE_COL_WIDTH_INCH, ONE_COL_GOLDEN_RATIO_HEIGHT_INCH))\n",
    "    \n",
    "    # Normalize both the average scores and abilities to 0-1 scale\n",
    "    df_norm = (df - df.min()) / (df.max() - df.min())\n",
    "    abilities_norm = (abilities_mean - abilities_mean.min()) / (abilities_mean.max() - abilities_mean.min())\n",
    "    \n",
    "    # Normalize the standard deviations using the same scale factor as abilities\n",
    "    scale_factor = 1 / (abilities_mean.max() - abilities_mean.min())\n",
    "    abilities_std_norm = abilities_std * scale_factor\n",
    "    \n",
    "    if models_to_plot is None:\n",
    "        models_to_plot = df.index\n",
    "        \n",
    "    if colors is None:\n",
    "        colors = ['#03071E', '#3A3B73', '#6A040F', '#B20404', '#D63909', '#E27F07', '#F9BB0B', '#FFDA00']\n",
    "\n",
    "    x = np.array([0.1, 0.9])\n",
    "    \n",
    "    for i, model in enumerate(models_to_plot):\n",
    "        idx = df.index.get_loc(model)\n",
    "        y = np.array([df_norm.loc[model, 'score'], abilities_norm[idx]])\n",
    "        \n",
    "        # Bestimme das Label für die Legende\n",
    "        if model == 'o1':\n",
    "            label = 'o1-preview'\n",
    "        elif model == 'Claude-2-Zero-T':\n",
    "            label = 'Claude-2'\n",
    "        elif model == 'GPT-3.5 Turbo Zero-T':\n",
    "            label = 'GPT-3.5 Turbo'\n",
    "        else:\n",
    "            label = model\n",
    "        \n",
    "        # Plot the line with updated label\n",
    "        plt.plot(x, y, '-', label=label, color=colors[i % len(colors)], linewidth=1.5)\n",
    "        \n",
    "        # Add error bar for IRT score without caps (capsize=0)\n",
    "        plt.errorbar(0.9, abilities_norm[idx], yerr=abilities_std_norm[idx], \n",
    "                    fmt='none', color=colors[i % len(colors)], capsize=0, linewidth=1)\n",
    "\n",
    "    plt.xticks([0.1, 0.9], ['Current\\nimplementation', 'IRT'])\n",
    "    plt.ylabel('Normalized Score')\n",
    "    \n",
    "    # Set axis limits\n",
    "    ymin = min(0, np.min(abilities_norm - abilities_std_norm) - 0.05)\n",
    "    ymax = max(1, np.max(abilities_norm + abilities_std_norm) + 0.05)\n",
    "    plt.ylim(ymin, ymax)\n",
    "    plt.xlim(0, 1)\n",
    "    \n",
    "    plt.legend(bbox_to_anchor=(1.05, 1), loc='upper left')\n",
    "    range_frame(ax, x, np.concatenate([df_norm.loc[models_to_plot, 'score'],\n",
    "                                   abilities_norm[[df.index.get_loc(m) for m in models_to_plot]]]))\n",
    "    ax.set_facecolor('white')\n",
    "    \n",
    "    fig.patch.set_facecolor('white')\n",
    "    plt.tight_layout()\n",
    "    plt.savefig(\"model_comparison.pdf\", format='pdf')\n",
    "    plt.show()"
   ],
   "metadata": {
    "collapsed": false,
    "ExecuteTime": {
     "end_time": "2025-01-31T10:05:23.553510Z",
     "start_time": "2025-01-31T10:05:23.542765Z"
    }
   }
  },
  {
   "cell_type": "code",
   "execution_count": 260,
   "outputs": [
    {
     "name": "stdout",
     "output_type": "stream",
     "text": [
      "[ 0.72772309 -0.16587325  1.69174719 -1.70986738 -1.06267171  1.12509361\n",
      " -0.76873453  1.31927539 -0.0236423   0.72035373 -2.70362941 -0.66138862\n",
      " -5.0999522  -7.58134431 -0.80547254 -0.708606    2.05468803  0.48900588\n",
      " -0.65194003  0.5133233  -0.73844795 -0.58723817]\n"
     ]
    },
    {
     "data": {
      "text/plain": "<Figure size 487.5x200.861 with 1 Axes>",
      "image/png": "[encoded data removed]"
     },
     "metadata": {},
     "output_type": "display_data"
    }
   ],
   "source": [
    "models_to_plot = ['o1', 'Claude-3.5 (Sonnet)', 'Mistral-Large-2', 'GPT-4', 'Claude-2-Zero-T', 'Gemini-Pro',\n",
    "                 'GPT-3.5 Turbo Zero-T', 'Galatica-120b']\n",
    "\n",
    "# Get the estimates first\n",
    "estimates = get_parameter_estimates(trace_all_correct)\n",
    "abilities_mean = estimates['abilities']['mean']\n",
    "abilities_std = estimates['abilities']['std']\n",
    "\n",
    "print(abilities_mean)\n",
    "\n",
    "# plot model comparison with error bars\n",
    "plot_model_comparison2(model_score_df, abilities_mean, abilities_std, models_to_plot)"
   ],
   "metadata": {
    "collapsed": false,
    "ExecuteTime": {
     "end_time": "2025-01-31T10:05:28.909054Z",
     "start_time": "2025-01-31T10:05:24.947421Z"
    }
   }
  },
  {
   "cell_type": "code",
   "execution_count": 208,
   "outputs": [
    {
     "name": "stdout",
     "output_type": "stream",
     "text": [
      "[ 0.72772309 -0.16587325  1.69174719 -1.70986738 -1.06267171  1.12509361\n",
      " -0.76873453  1.31927539 -0.0236423   0.72035373 -2.70362941 -0.66138862\n",
      " -5.0999522  -7.58134431 -0.80547254 -0.708606    2.05468803  0.48900588\n",
      " -0.65194003  0.5133233  -0.73844795 -0.58723817]\n",
      "Standard Deviations for each model:\n",
      "o1: 0.2062\n",
      "Claude-3.5 (Sonnet): 0.2053\n",
      "Mistral-Large-2: 0.2009\n",
      "GPT-4: 0.2011\n",
      "Claude-2-Zero-T: 0.2010\n",
      "Gemini-Pro: 0.2048\n",
      "GPT-3.5 Turbo Zero-T: 0.2054\n",
      "Galatica-120b: 0.2886\n"
     ]
    },
    {
     "data": {
      "text/plain": "<Figure size 1462.5x602.583 with 9 Axes>",
      "image/png": "[encoded data removed]"
     },
     "metadata": {},
     "output_type": "display_data"
    }
   ],
   "source": [
    "def plot_model_comparison_by_topic(df, abilities_mean, abilities_std, topics, models_to_plot=None, colors=None):\n",
    "   print(abilities_mean)\n",
    "   \n",
    "   # Create figure with subplots for each topic\n",
    "   n_topics = len(topics)\n",
    "   n_cols = 3\n",
    "   n_rows = (n_topics + 2) // 3\n",
    "   print(\"Standard Deviations for each model:\")\n",
    "   for i, model in enumerate(models_to_plot):\n",
    "        idx = df.index.get_loc(model)\n",
    "        print(f\"{model}: {abilities_std[idx]:.4f}\")\n",
    "       \n",
    "    \n",
    "   \n",
    "   fig, axes = plt.subplots(n_rows, n_cols, \n",
    "                           figsize=(4.5*ONE_COL_WIDTH_INCH, n_rows*ONE_COL_GOLDEN_RATIO_HEIGHT_INCH))\n",
    "   axes = axes.flatten()\n",
    "   \n",
    "   if models_to_plot is None:\n",
    "       models_to_plot = df.index\n",
    "       \n",
    "   if colors is None:\n",
    "       colors = ['#03071E', '#3A3B73', '#6A040F', '#B20404', '#D63909', '#E27F07', '#F9BB0B', '#FFDA00']\n",
    "   \n",
    "   # Create subplot for each topic\n",
    "   for topic_idx, topic in enumerate(topics):\n",
    "       ax = axes[topic_idx]\n",
    "       \n",
    "       # Extract topic-specific data\n",
    "       topic_scores = []\n",
    "       for model in models_to_plot:\n",
    "           topic_data = model_score_dicts['overall'][model]\n",
    "           topic_mask = topic_data['topic'] == topic\n",
    "           correct_answers = topic_data['all_correct_'][topic_mask]\n",
    "           topic_score = correct_answers.mean()\n",
    "           topic_scores.append(topic_score)\n",
    "           \n",
    "       topic_df = pd.DataFrame(topic_scores, index=models_to_plot, columns=['score'])\n",
    "       \n",
    "       # Normalize scores\n",
    "       df_norm = (topic_df - topic_df.min()) / (topic_df.max() - topic_df.min())\n",
    "       abilities_norm = (abilities_mean - abilities_mean.min()) / (abilities_mean.max() - abilities_mean.min())\n",
    "       \n",
    "       # Normalize standard deviations\n",
    "       scale_factor = 1 / (abilities_mean.max() - abilities_mean.min())\n",
    "       abilities_std_norm = abilities_std * scale_factor\n",
    "       \n",
    "       x = np.array([0.1, 0.9])\n",
    "       y_values = []  # Collect all y-values for axis limits\n",
    "       \n",
    "       for i, model in enumerate(models_to_plot):\n",
    "           idx = df.index.get_loc(model)\n",
    "           y = np.array([df_norm.loc[model, 'score'], abilities_norm[idx]])\n",
    "           y_values.extend([y[0], y[1]])\n",
    "           \n",
    "           ax.plot(x, y, '-', label=model, color=colors[i % len(colors)], linewidth=1.0)\n",
    "           \n",
    "           y_err = abilities_std_norm[idx]\n",
    "           y_values.extend([abilities_norm[idx] - y_err, abilities_norm[idx] + y_err])\n",
    "           ax.errorbar(0.9, abilities_norm[idx], yerr=y_err, \n",
    "                      fmt='none', color=colors[i % len(colors)], capsize=0,\n",
    "                      linewidth=1)\n",
    "       \n",
    "       ax.set_xticks([0.1, 0.9])\n",
    "       ax.set_xticklabels(['Current\\nimplementation', 'IRT'])\n",
    "       if topic_idx % n_cols == 0:\n",
    "           ax.set_ylabel('Normalized Score')\n",
    "       \n",
    "       # Set axis limits with padding\n",
    "       ymin = min(y_values) - 0.05\n",
    "       ymax = max(y_values) + 0.05\n",
    "       ax.set_ylim(ymin, ymax)\n",
    "       ax.set_xlim(0, 1)\n",
    "       \n",
    "       ax.set_title(topic, pad=10)\n",
    "       ax.set_facecolor('white')\n",
    "       \n",
    "       if topic_idx == 0:\n",
    "           ax.legend(bbox_to_anchor=(1.05, 1), loc='upper left')\n",
    "       \n",
    "       range_frame(ax, x, np.concatenate([df_norm.loc[models_to_plot, 'score'],\n",
    "                                        abilities_norm[[df.index.get_loc(m) for m in models_to_plot]]]))\n",
    "   \n",
    "   # Remove empty subplots\n",
    "   for idx in range(topic_idx + 1, len(axes)):\n",
    "       fig.delaxes(axes[idx])\n",
    "   \n",
    "   fig.patch.set_facecolor('white')\n",
    "   plt.tight_layout()\n",
    "   plt.savefig(\"model_comparison_by_topic.pdf\", format='pdf', bbox_inches='tight')\n",
    "   plt.show()\n",
    "\n",
    "\n",
    "sample_model = list(model_score_dicts['overall'].keys())[0]\n",
    "unique_topics = model_score_dicts['overall'][sample_model]['topic'].unique()\n",
    "\n",
    "models_to_plot = ['o1', 'Claude-3.5 (Sonnet)', 'Mistral-Large-2', 'GPT-4', 'Claude-2-Zero-T', 'Gemini-Pro',\n",
    "                 'GPT-3.5 Turbo Zero-T', 'Galatica-120b']\n",
    "\n",
    "plot_model_comparison_by_topic(model_score_df, abilities_mean, abilities_std, unique_topics, models_to_plot)"
   ],
   "metadata": {
    "collapsed": false,
    "ExecuteTime": {
     "end_time": "2025-01-30T09:21:17.001718Z",
     "start_time": "2025-01-30T09:21:15.494941Z"
    }
   }
  },
  {
   "cell_type": "code",
   "execution_count": 53,
   "metadata": {
    "ExecuteTime": {
     "end_time": "2025-01-28T09:03:49.778972Z",
     "start_time": "2025-01-28T09:03:49.658611Z"
    }
   },
   "outputs": [
    {
     "data": {
      "text/plain": "                             score\nMistral-Large-2           0.556762\nLlama-3.1-70B-Instruct    0.500000\nClaude-3.5 (Sonnet)       0.610371\nMistral-8x7b-Instruct     0.414506\nCommand-R+                0.439033\nLlama-3.1-405B-Instruct   0.565872\nLlama-3.1-8B-Instruct     0.460757\nGPT-4o                    0.596706\nLlama-3-70B-Instruct      0.506307\nPaperQA2                  0.555711\nGemma-1.1-7B-it           0.187106\nGemma-2-9B-it             0.471619\nLlama-2-70B Chat          0.261388\nGalatica-120b             0.015067\nLlama-3-8B-Instruct       0.446741\nGemini-Pro                0.442887\no1                        0.628591\nGPT-4                     0.403644\nPhi-3-Medium-4k-Instruct  0.464611\nClaude-3 (Opus)           0.551507\nGPT-3.5 Turbo Zero-T      0.455501\nClaude-2-Zero-T           0.463210",
      "text/html": "<div>\n<style scoped>\n    .dataframe tbody tr th:only-of-type {\n        vertical-align: middle;\n    }\n\n    .dataframe tbody tr th {\n        vertical-align: top;\n    }\n\n    .dataframe thead th {\n        text-align: right;\n    }\n</style>\n<table border=\"1\" class=\"dataframe\">\n  <thead>\n    <tr style=\"text-align: right;\">\n      <th></th>\n      <th>score</th>\n    </tr>\n  </thead>\n  <tbody>\n    <tr>\n      <th>Mistral-Large-2</th>\n      <td>0.556762</td>\n    </tr>\n    <tr>\n      <th>Llama-3.1-70B-Instruct</th>\n      <td>0.500000</td>\n    </tr>\n    <tr>\n      <th>Claude-3.5 (Sonnet)</th>\n      <td>0.610371</td>\n    </tr>\n    <tr>\n      <th>Mistral-8x7b-Instruct</th>\n      <td>0.414506</td>\n    </tr>\n    <tr>\n      <th>Command-R+</th>\n      <td>0.439033</td>\n    </tr>\n    <tr>\n      <th>Llama-3.1-405B-Instruct</th>\n      <td>0.565872</td>\n    </tr>\n    <tr>\n      <th>Llama-3.1-8B-Instruct</th>\n      <td>0.460757</td>\n    </tr>\n    <tr>\n      <th>GPT-4o</th>\n      <td>0.596706</td>\n    </tr>\n    <tr>\n      <th>Llama-3-70B-Instruct</th>\n      <td>0.506307</td>\n    </tr>\n    <tr>\n      <th>PaperQA2</th>\n      <td>0.555711</td>\n    </tr>\n    <tr>\n      <th>Gemma-1.1-7B-it</th>\n      <td>0.187106</td>\n    </tr>\n    <tr>\n      <th>Gemma-2-9B-it</th>\n      <td>0.471619</td>\n    </tr>\n    <tr>\n      <th>Llama-2-70B Chat</th>\n      <td>0.261388</td>\n    </tr>\n    <tr>\n      <th>Galatica-120b</th>\n      <td>0.015067</td>\n    </tr>\n    <tr>\n      <th>Llama-3-8B-Instruct</th>\n      <td>0.446741</td>\n    </tr>\n    <tr>\n      <th>Gemini-Pro</th>\n      <td>0.442887</td>\n    </tr>\n    <tr>\n      <th>o1</th>\n      <td>0.628591</td>\n    </tr>\n    <tr>\n      <th>GPT-4</th>\n      <td>0.403644</td>\n    </tr>\n    <tr>\n      <th>Phi-3-Medium-4k-Instruct</th>\n      <td>0.464611</td>\n    </tr>\n    <tr>\n      <th>Claude-3 (Opus)</th>\n      <td>0.551507</td>\n    </tr>\n    <tr>\n      <th>GPT-3.5 Turbo Zero-T</th>\n      <td>0.455501</td>\n    </tr>\n    <tr>\n      <th>Claude-2-Zero-T</th>\n      <td>0.463210</td>\n    </tr>\n  </tbody>\n</table>\n</div>"
     },
     "execution_count": 53,
     "metadata": {},
     "output_type": "execute_result"
    }
   ],
   "source": [
    "model_score_df"
   ]
  },
  {
   "cell_type": "code",
   "execution_count": null,
   "metadata": {
    "ExecuteTime": {
     "start_time": "2025-01-28T09:03:09.015583Z"
    }
   },
   "outputs": [],
   "source": [
    "# plot score from the dataframe and abilities_mean\n",
    "\n",
    "def plot_score_vs_ability(model_score_df, abilities_mean):\n",
    "    plt.figure(figsize=(ONE_COL_WIDTH_INCH, 1.2 *ONE_COL_GOLDEN_RATIO_HEIGHT_INCH))\n",
    "    plt.scatter(model_score_df['score'], abilities_mean, color=\"#3A9185\")\n",
    "    plt.xlabel('Model Score')\n",
    "    plt.ylabel('Computed Ability')\n",
    "    plt.tight_layout()\n",
    "    plt.savefig(\"score_vs_ability.pdf\", format='pdf')\n",
    "    plt.show()"
   ]
  },
  {
   "cell_type": "code",
   "execution_count": null,
   "metadata": {
    "ExecuteTime": {
     "start_time": "2025-01-28T09:03:09.016509Z"
    }
   },
   "outputs": [],
   "source": [
    "plot_score_vs_ability(model_score_df, abilities_mean)"
   ]
  },
  {
   "cell_type": "code",
   "execution_count": null,
   "metadata": {
    "ExecuteTime": {
     "start_time": "2025-01-28T09:03:09.017618Z"
    }
   },
   "outputs": [],
   "source": [
    "plt.style.use('lamalab.mplstyle')\n",
    "plt.figure(figsize=(12, 6))\n",
    "metrics = ['unweighted_mean', 'weighted_mean_0', 'weighted_mean_1',\n",
    "'hamming_mean', 'precision_mean', 'recall_mean']\n",
    "labels = ['all correct', 'Weighted all correct', 'Equal weights per question',\n",
    "'Normalized, inverted hamming loss', 'Precision', 'Recall']\n",
    "for model in selected_models:\n",
    "    plt.plot(metrics, metrics_df.loc[model], 'o-', label=model, alpha=0.7, linewidth=1)\n",
    "    plt.xticks(range(len(metrics)), labels, rotation=45)\n",
    "    plt.ylabel('Score')\n",
    "    plt.legend(bbox_to_anchor=(1.05, 1), loc='upper left')\n",
    "    plt.grid(True, linestyle='--', alpha=0.7)\n",
    "    plt.tight_layout()\n",
    "    plt.savefig(\"chembench_scoring.png\")"
   ]
  },
  {
   "cell_type": "code",
   "execution_count": null,
   "metadata": {
    "ExecuteTime": {
     "start_time": "2025-01-28T09:03:09.019356Z"
    }
   },
   "outputs": [],
   "source": [
    "# 1. Basic summary statistics\n",
    "summary = az.summary(trace, var_names=['abilities', 'discriminations', 'difficulties'])\n",
    "\n",
    "# 2. Extract posterior means directly\n",
    "abilities_mean = trace.posterior['abilities'].mean(dim=['chain', 'draw']).values\n",
    "discriminations_mean = trace.posterior['discriminations'].mean(dim=['chain', 'draw']).values\n",
    "difficulties_mean = trace.posterior['difficulties'].mean(dim=['chain', 'draw']).values\n",
    "\n",
    "# 3. Get full posterior distributions\n",
    "abilities_dist = trace.posterior['abilities'].values\n",
    "discriminations_dist = trace.posterior['discriminations'].values\n",
    "difficulties_dist = trace.posterior['difficulties'].values\n",
    "\n",
    "# 4. Get credible intervals\n",
    "summary = az.summary(trace, var_names=['abilities', 'discriminations', 'difficulties'],\n",
    "                    hdi_prob=0.95)  # 95% credible intervals\n"
   ]
  },
  {
   "cell_type": "code",
   "execution_count": null,
   "metadata": {
    "ExecuteTime": {
     "start_time": "2025-01-28T09:03:09.021607Z"
    }
   },
   "outputs": [],
   "source": [
    "difficulty_vector = pd.DataFrame(trace.posterior['difficulties'].mean(dim=['chain', 'draw']).values)\n"
   ]
  },
  {
   "cell_type": "code",
   "execution_count": null,
   "metadata": {
    "ExecuteTime": {
     "start_time": "2025-01-28T09:03:09.023121Z"
    }
   },
   "outputs": [],
   "source": [
    "import numpy as np\n",
    "import seaborn as sns\n",
    "import matplotlib.pyplot as plt\n",
    "\n",
    "def plot_vector_as_square_heatmap(vector, title):\n",
    "    # Calculate the size of the square matrix\n",
    "    n = int(np.sqrt(len(vector)))\n",
    "    # Reshape first n^2 elements into square matrix\n",
    "    matrix = vector[:n*n].values.reshape(n, n)\n",
    "    \n",
    "    sns.heatmap(matrix, cmap='coolwarm', cbar=True)\n",
    "    plt.title(title)\n",
    "    plt.show()\n",
    "    \n",
    "    return n*n  # Return number of elements used\n",
    "\n",
    "used_elements = plot_vector_as_square_heatmap(difficulty_vector, \"Hamming_DIfficulty\")\n",
    "print(f\"Used {used_elements} elements out of {len(difficulty_vector)}\")"
   ]
  },
  {
   "cell_type": "code",
   "execution_count": null,
   "metadata": {
    "ExecuteTime": {
     "start_time": "2025-01-28T09:03:09.024329Z"
    }
   },
   "outputs": [],
   "source": [
    "! pip install seaborn"
   ]
  },
  {
   "cell_type": "code",
   "execution_count": null,
   "metadata": {
    "ExecuteTime": {
     "start_time": "2025-01-28T09:03:09.026541Z"
    }
   },
   "outputs": [],
   "source": [
    "list(summary.index)"
   ]
  },
  {
   "cell_type": "code",
   "execution_count": null,
   "metadata": {
    "ExecuteTime": {
     "start_time": "2025-01-28T09:03:09.027245Z"
    }
   },
   "outputs": [],
   "source": [
    "# Get point estimates and uncertainty\n",
    "def get_parameter_estimates(trace):\n",
    "    estimates = {\n",
    "        'abilities': {\n",
    "            'mean': trace.posterior['abilities'].mean(dim=['chain', 'draw']).values,\n",
    "            'std': trace.posterior['abilities'].std(dim=['chain', 'draw']).values,\n",
    "            'hdi': az.hdi(trace, var_names=['abilities'])\n",
    "        },\n",
    "        'discriminations': {\n",
    "            'mean': trace.posterior['discriminations'].mean(dim=['chain', 'draw']).values,\n",
    "            'std': trace.posterior['discriminations'].std(dim=['chain', 'draw']).values,\n",
    "            'hdi': az.hdi(trace, var_names=['discriminations'])\n",
    "        },\n",
    "        'difficulties': {\n",
    "            'mean': trace.posterior['difficulties'].mean(dim=['chain', 'draw']).values,\n",
    "            'std': trace.posterior['difficulties'].std(dim=['chain', 'draw']).values,\n",
    "            'hdi': az.hdi(trace, var_names=['difficulties'])\n",
    "        }\n",
    "    }\n",
    "    return estimates\n"
   ]
  },
  {
   "cell_type": "code",
   "execution_count": null,
   "metadata": {
    "ExecuteTime": {
     "start_time": "2025-01-28T09:03:09.028627Z"
    }
   },
   "outputs": [],
   "source": [
    "estimates = get_parameter_estimates(trace)"
   ]
  },
  {
   "cell_type": "code",
   "execution_count": null,
   "metadata": {
    "ExecuteTime": {
     "start_time": "2025-01-28T09:03:09.029266Z"
    }
   },
   "outputs": [],
   "source": [
    "dict(zip(analyzer.model_ids, estimates['abilities']['mean']))"
   ]
  },
  {
   "cell_type": "code",
   "execution_count": 209,
   "metadata": {
    "ExecuteTime": {
     "end_time": "2025-01-30T12:18:01.131618Z",
     "start_time": "2025-01-30T12:18:00.604510Z"
    }
   },
   "outputs": [
    {
     "name": "stdout",
     "output_type": "stream",
     "text": [
      "{'raw_scores': {'cm0km5krr0001mo0ce3t9y3nn':                                               canary_0   \n",
      "0    BENCHMARK DATA SHOULD NEVER APPEAR IN TRAINING...  \\\n",
      "1    BENCHMARK DATA SHOULD NEVER APPEAR IN TRAINING...   \n",
      "2    BENCHMARK DATA SHOULD NEVER APPEAR IN TRAINING...   \n",
      "3    BENCHMARK DATA SHOULD NEVER APPEAR IN TRAINING...   \n",
      "4    BENCHMARK DATA SHOULD NEVER APPEAR IN TRAINING...   \n",
      "..                                                 ...   \n",
      "231  BENCHMARK DATA SHOULD NEVER APPEAR IN TRAINING...   \n",
      "232  BENCHMARK DATA SHOULD NEVER APPEAR IN TRAINING...   \n",
      "233  BENCHMARK DATA SHOULD NEVER APPEAR IN TRAINING...   \n",
      "234  BENCHMARK DATA SHOULD NEVER APPEAR IN TRAINING...   \n",
      "235  BENCHMARK DATA SHOULD NEVER APPEAR IN TRAINING...   \n",
      "\n",
      "                                         description_0   \n",
      "0    Question bank for the text, Duckett, Gilbert &...  \\\n",
      "1    Reactivity of monomers in cationic polymerization   \n",
      "2                          Distribution of antibiotics   \n",
      "3                            natural product synthesis   \n",
      "4    Electrochemistry questions related to redox re...   \n",
      "..                                                 ...   \n",
      "231         The pH calculation of amphoteric solutions   \n",
      "232  Average number of monomer units in each polyme...   \n",
      "233                   Comparasion of similar compounds   \n",
      "234               Question on isothermal batch reactor   \n",
      "235  Amines, Phosphines, and Pyridines characterist...   \n",
      "\n",
      "                                            keywords_0   \n",
      "0    [nuclear magnetic resonance spectroscopy, NMR,...  \\\n",
      "1    [polymer-chemistry, cationic polymerization, r...   \n",
      "2    [antibiotic, distribution, pharmacokinetics, r...   \n",
      "3    [natural product synthesis, biochemistry, requ...   \n",
      "4    [electrochemistry, hydrogen evolution, hydroge...   \n",
      "..                                                 ...   \n",
      "231  [inorganic-chemistry, general-chemistry, pH ca...   \n",
      "232  [polymer-chemistry, poly(lactic acid), monomer...   \n",
      "233  [bond angle, requires-knowledge, group 15 elem...   \n",
      "234  [technical-chemistry, requires-reasoning, batc...   \n",
      "235  [reactivity, molecules, amines, phosphines, py...   \n",
      "\n",
      "     llm_extraction_count_0  metrics_correct_classes  metrics_extra_classes   \n",
      "0                         0                      0.0                    1.0  \\\n",
      "1                         0                      0.0                    1.0   \n",
      "2                         0                      0.0                    1.0   \n",
      "3                         0                      0.0                    1.0   \n",
      "4                         0                      0.0                    1.0   \n",
      "..                      ...                      ...                    ...   \n",
      "231                       0                      0.0                    1.0   \n",
      "232                       0                      NaN                    NaN   \n",
      "233                       0                      0.0                    1.0   \n",
      "234                       0                      0.0                    1.0   \n",
      "235                       0                      1.0                    0.0   \n",
      "\n",
      "     metrics_f1  metrics_hamming  metrics_incorrect_classes   \n",
      "0           0.0              2.0                        1.0  \\\n",
      "1           0.0              2.0                        1.0   \n",
      "2           0.0              1.5                        1.0   \n",
      "3           0.0              2.0                        1.0   \n",
      "4           0.0              1.5                        1.0   \n",
      "..          ...              ...                        ...   \n",
      "231         0.0              2.0                        1.0   \n",
      "232         NaN              NaN                        NaN   \n",
      "233         0.0              2.0                        1.0   \n",
      "234         0.0              2.0                        1.0   \n",
      "235         1.0              0.0                        0.0   \n",
      "\n",
      "     metrics_missed_classes  ...  is_analytical_chemistry  is_periodic_table   \n",
      "0                       1.0  ...                    False              False  \\\n",
      "1                       1.0  ...                    False              False   \n",
      "2                       2.0  ...                    False              False   \n",
      "3                       1.0  ...                    False              False   \n",
      "4                       2.0  ...                    False              False   \n",
      "..                      ...  ...                      ...                ...   \n",
      "231                     1.0  ...                    False              False   \n",
      "232                     NaN  ...                    False              False   \n",
      "233                     1.0  ...                    False               True   \n",
      "234                     1.0  ...                    False              False   \n",
      "235                     0.0  ...                    False              False   \n",
      "\n",
      "     is_general_chemistry_exam is_biomolecular is_xray is_materials_science   \n",
      "0                        False           False   False                False  \\\n",
      "1                        False           False   False                False   \n",
      "2                        False           False   False                False   \n",
      "3                        False           False   False                False   \n",
      "4                        False           False   False                False   \n",
      "..                         ...             ...     ...                  ...   \n",
      "231                      False           False   False                False   \n",
      "232                      False           False   False                False   \n",
      "233                      False           False   False                False   \n",
      "234                      False           False   False                False   \n",
      "235                      False           False   False                False   \n",
      "\n",
      "    is_molsim requires_calculation is_preference  is_name  \n",
      "0       False                  NaN         False    False  \n",
      "1       False                  NaN         False    False  \n",
      "2       False                  NaN         False    False  \n",
      "3       False                  NaN         False    False  \n",
      "4       False                  NaN         False    False  \n",
      "..        ...                  ...           ...      ...  \n",
      "231     False                  NaN         False    False  \n",
      "232     False                  NaN         False    False  \n",
      "233     False                  NaN         False    False  \n",
      "234     False                  NaN         False    False  \n",
      "235     False                  NaN         False    False  \n",
      "\n",
      "[236 rows x 78 columns], 'cm0qk58i10000mj0c8moc1bx4':                                               canary_0   \n",
      "0    BENCHMARK DATA SHOULD NEVER APPEAR IN TRAINING...  \\\n",
      "1    BENCHMARK DATA SHOULD NEVER APPEAR IN TRAINING...   \n",
      "2    BENCHMARK DATA SHOULD NEVER APPEAR IN TRAINING...   \n",
      "3    BENCHMARK DATA SHOULD NEVER APPEAR IN TRAINING...   \n",
      "4    BENCHMARK DATA SHOULD NEVER APPEAR IN TRAINING...   \n",
      "..                                                 ...   \n",
      "231  BENCHMARK DATA SHOULD NEVER APPEAR IN TRAINING...   \n",
      "232  BENCHMARK DATA SHOULD NEVER APPEAR IN TRAINING...   \n",
      "233  BENCHMARK DATA SHOULD NEVER APPEAR IN TRAINING...   \n",
      "234  BENCHMARK DATA SHOULD NEVER APPEAR IN TRAINING...   \n",
      "235  BENCHMARK DATA SHOULD NEVER APPEAR IN TRAINING...   \n",
      "\n",
      "                                         description_0   \n",
      "0    Question bank for the text, Duckett, Gilbert &...  \\\n",
      "1    Reactivity of monomers in cationic polymerization   \n",
      "2                          Distribution of antibiotics   \n",
      "3                            natural product synthesis   \n",
      "4    Electrochemistry questions related to redox re...   \n",
      "..                                                 ...   \n",
      "231         The pH calculation of amphoteric solutions   \n",
      "232  Average number of monomer units in each polyme...   \n",
      "233                   Comparasion of similar compounds   \n",
      "234               Question on isothermal batch reactor   \n",
      "235  Amines, Phosphines, and Pyridines characterist...   \n",
      "\n",
      "                                            keywords_0   \n",
      "0    [nuclear magnetic resonance spectroscopy, NMR,...  \\\n",
      "1    [polymer-chemistry, cationic polymerization, r...   \n",
      "2    [antibiotic, distribution, pharmacokinetics, r...   \n",
      "3    [natural product synthesis, biochemistry, requ...   \n",
      "4    [electrochemistry, hydrogen evolution, hydroge...   \n",
      "..                                                 ...   \n",
      "231  [inorganic-chemistry, general-chemistry, pH ca...   \n",
      "232  [polymer-chemistry, poly(lactic acid), monomer...   \n",
      "233  [bond angle, requires-knowledge, group 15 elem...   \n",
      "234  [technical-chemistry, requires-reasoning, batc...   \n",
      "235  [reactivity, molecules, amines, phosphines, py...   \n",
      "\n",
      "     llm_extraction_count_0  metrics_correct_classes  metrics_extra_classes   \n",
      "0                         0                      0.0                    1.0  \\\n",
      "1                         0                      0.0                    1.0   \n",
      "2                         0                      0.0                    2.0   \n",
      "3                         0                      0.0                    1.0   \n",
      "4                         0                      0.0                    1.0   \n",
      "..                      ...                      ...                    ...   \n",
      "231                       0                      0.0                    1.0   \n",
      "232                       0                      NaN                    NaN   \n",
      "233                       0                      1.0                    0.0   \n",
      "234                       0                      0.0                    1.0   \n",
      "235                       0                      1.0                    0.0   \n",
      "\n",
      "     metrics_f1  metrics_hamming  metrics_incorrect_classes   \n",
      "0           0.0              2.0                        1.0  \\\n",
      "1           0.0              2.0                        1.0   \n",
      "2           0.0              2.0                        2.0   \n",
      "3           0.0              2.0                        1.0   \n",
      "4           0.0              1.5                        1.0   \n",
      "..          ...              ...                        ...   \n",
      "231         0.0              2.0                        1.0   \n",
      "232         NaN              NaN                        NaN   \n",
      "233         1.0              0.0                        0.0   \n",
      "234         0.0              2.0                        1.0   \n",
      "235         1.0              0.0                        0.0   \n",
      "\n",
      "     metrics_missed_classes  ...  is_analytical_chemistry  is_periodic_table   \n",
      "0                       1.0  ...                    False              False  \\\n",
      "1                       1.0  ...                    False              False   \n",
      "2                       2.0  ...                    False              False   \n",
      "3                       1.0  ...                    False              False   \n",
      "4                       2.0  ...                    False              False   \n",
      "..                      ...  ...                      ...                ...   \n",
      "231                     1.0  ...                    False              False   \n",
      "232                     NaN  ...                    False              False   \n",
      "233                     0.0  ...                    False               True   \n",
      "234                     1.0  ...                    False              False   \n",
      "235                     0.0  ...                    False              False   \n",
      "\n",
      "     is_general_chemistry_exam is_biomolecular is_xray is_materials_science   \n",
      "0                        False           False   False                False  \\\n",
      "1                        False           False   False                False   \n",
      "2                        False           False   False                False   \n",
      "3                        False           False   False                False   \n",
      "4                        False           False   False                False   \n",
      "..                         ...             ...     ...                  ...   \n",
      "231                      False           False   False                False   \n",
      "232                      False           False   False                False   \n",
      "233                      False           False   False                False   \n",
      "234                      False           False   False                False   \n",
      "235                      False           False   False                False   \n",
      "\n",
      "    is_molsim requires_calculation is_preference  is_name  \n",
      "0       False                  NaN         False    False  \n",
      "1       False                  NaN         False    False  \n",
      "2       False                  NaN         False    False  \n",
      "3       False                  NaN         False    False  \n",
      "4       False                  NaN         False    False  \n",
      "..        ...                  ...           ...      ...  \n",
      "231     False                  NaN         False    False  \n",
      "232     False                  NaN         False    False  \n",
      "233     False                  NaN         False    False  \n",
      "234     False                  NaN         False    False  \n",
      "235     False                  NaN         False    False  \n",
      "\n",
      "[236 rows x 78 columns], 'cm0kjxta90000mo0cshkfxxdz':                                               canary_0   \n",
      "0    BENCHMARK DATA SHOULD NEVER APPEAR IN TRAINING...  \\\n",
      "1    BENCHMARK DATA SHOULD NEVER APPEAR IN TRAINING...   \n",
      "2    BENCHMARK DATA SHOULD NEVER APPEAR IN TRAINING...   \n",
      "3    BENCHMARK DATA SHOULD NEVER APPEAR IN TRAINING...   \n",
      "4    BENCHMARK DATA SHOULD NEVER APPEAR IN TRAINING...   \n",
      "..                                                 ...   \n",
      "231  BENCHMARK DATA SHOULD NEVER APPEAR IN TRAINING...   \n",
      "232  BENCHMARK DATA SHOULD NEVER APPEAR IN TRAINING...   \n",
      "233  BENCHMARK DATA SHOULD NEVER APPEAR IN TRAINING...   \n",
      "234  BENCHMARK DATA SHOULD NEVER APPEAR IN TRAINING...   \n",
      "235  BENCHMARK DATA SHOULD NEVER APPEAR IN TRAINING...   \n",
      "\n",
      "                                         description_0   \n",
      "0    Question bank for the text, Duckett, Gilbert &...  \\\n",
      "1    Reactivity of monomers in cationic polymerization   \n",
      "2                          Distribution of antibiotics   \n",
      "3                            natural product synthesis   \n",
      "4    Electrochemistry questions related to redox re...   \n",
      "..                                                 ...   \n",
      "231         The pH calculation of amphoteric solutions   \n",
      "232  Average number of monomer units in each polyme...   \n",
      "233                   Comparasion of similar compounds   \n",
      "234               Question on isothermal batch reactor   \n",
      "235  Amines, Phosphines, and Pyridines characterist...   \n",
      "\n",
      "                                            keywords_0   \n",
      "0    [nuclear magnetic resonance spectroscopy, NMR,...  \\\n",
      "1    [polymer-chemistry, cationic polymerization, r...   \n",
      "2    [antibiotic, distribution, pharmacokinetics, r...   \n",
      "3    [natural product synthesis, biochemistry, requ...   \n",
      "4    [electrochemistry, hydrogen evolution, hydroge...   \n",
      "..                                                 ...   \n",
      "231  [inorganic-chemistry, general-chemistry, pH ca...   \n",
      "232  [polymer-chemistry, poly(lactic acid), monomer...   \n",
      "233  [bond angle, requires-knowledge, group 15 elem...   \n",
      "234  [technical-chemistry, requires-reasoning, batc...   \n",
      "235  [reactivity, molecules, amines, phosphines, py...   \n",
      "\n",
      "     llm_extraction_count_0  metrics_correct_classes  metrics_extra_classes   \n",
      "0                         0                      0.0                    1.0  \\\n",
      "1                         0                      0.0                    1.0   \n",
      "2                         0                      0.0                    1.0   \n",
      "3                         0                      0.0                    1.0   \n",
      "4                         0                      1.0                    0.0   \n",
      "..                      ...                      ...                    ...   \n",
      "231                       0                      0.0                    1.0   \n",
      "232                       0                      NaN                    NaN   \n",
      "233                       0                      1.0                    0.0   \n",
      "234                       0                      0.0                    1.0   \n",
      "235                       0                      1.0                    0.0   \n",
      "\n",
      "     metrics_f1  metrics_hamming  metrics_incorrect_classes   \n",
      "0      0.000000              2.0                        1.0  \\\n",
      "1      0.000000              2.0                        1.0   \n",
      "2      0.000000              1.5                        1.0   \n",
      "3      0.000000              2.0                        1.0   \n",
      "4      0.666667              0.5                        0.0   \n",
      "..          ...              ...                        ...   \n",
      "231    0.000000              2.0                        1.0   \n",
      "232         NaN              NaN                        NaN   \n",
      "233    1.000000              0.0                        0.0   \n",
      "234    0.000000              2.0                        1.0   \n",
      "235    1.000000              0.0                        0.0   \n",
      "\n",
      "     metrics_missed_classes  ...  is_analytical_chemistry  is_periodic_table   \n",
      "0                       1.0  ...                    False              False  \\\n",
      "1                       1.0  ...                    False              False   \n",
      "2                       2.0  ...                    False              False   \n",
      "3                       1.0  ...                    False              False   \n",
      "4                       1.0  ...                    False              False   \n",
      "..                      ...  ...                      ...                ...   \n",
      "231                     1.0  ...                    False              False   \n",
      "232                     NaN  ...                    False              False   \n",
      "233                     0.0  ...                    False               True   \n",
      "234                     1.0  ...                    False              False   \n",
      "235                     0.0  ...                    False              False   \n",
      "\n",
      "     is_general_chemistry_exam is_biomolecular is_xray is_materials_science   \n",
      "0                        False           False   False                False  \\\n",
      "1                        False           False   False                False   \n",
      "2                        False           False   False                False   \n",
      "3                        False           False   False                False   \n",
      "4                        False           False   False                False   \n",
      "..                         ...             ...     ...                  ...   \n",
      "231                      False           False   False                False   \n",
      "232                      False           False   False                False   \n",
      "233                      False           False   False                False   \n",
      "234                      False           False   False                False   \n",
      "235                      False           False   False                False   \n",
      "\n",
      "    is_molsim requires_calculation is_preference  is_name  \n",
      "0       False                  NaN         False    False  \n",
      "1       False                  NaN         False    False  \n",
      "2       False                  NaN         False    False  \n",
      "3       False                  NaN         False    False  \n",
      "4       False                  NaN         False    False  \n",
      "..        ...                  ...           ...      ...  \n",
      "231     False                  NaN         False    False  \n",
      "232     False                  NaN         False    False  \n",
      "233     False                  NaN         False    False  \n",
      "234     False                  NaN         False    False  \n",
      "235     False                  NaN         False    False  \n",
      "\n",
      "[236 rows x 78 columns], 'cm0l84k8z0000l10d0vneyyji':                                               canary_0   \n",
      "0    BENCHMARK DATA SHOULD NEVER APPEAR IN TRAINING...  \\\n",
      "1    BENCHMARK DATA SHOULD NEVER APPEAR IN TRAINING...   \n",
      "2    BENCHMARK DATA SHOULD NEVER APPEAR IN TRAINING...   \n",
      "3    BENCHMARK DATA SHOULD NEVER APPEAR IN TRAINING...   \n",
      "4    BENCHMARK DATA SHOULD NEVER APPEAR IN TRAINING...   \n",
      "..                                                 ...   \n",
      "231  BENCHMARK DATA SHOULD NEVER APPEAR IN TRAINING...   \n",
      "232  BENCHMARK DATA SHOULD NEVER APPEAR IN TRAINING...   \n",
      "233  BENCHMARK DATA SHOULD NEVER APPEAR IN TRAINING...   \n",
      "234  BENCHMARK DATA SHOULD NEVER APPEAR IN TRAINING...   \n",
      "235  BENCHMARK DATA SHOULD NEVER APPEAR IN TRAINING...   \n",
      "\n",
      "                                         description_0   \n",
      "0    Question bank for the text, Duckett, Gilbert &...  \\\n",
      "1    Reactivity of monomers in cationic polymerization   \n",
      "2                          Distribution of antibiotics   \n",
      "3                            natural product synthesis   \n",
      "4    Electrochemistry questions related to redox re...   \n",
      "..                                                 ...   \n",
      "231         The pH calculation of amphoteric solutions   \n",
      "232  Average number of monomer units in each polyme...   \n",
      "233                   Comparasion of similar compounds   \n",
      "234               Question on isothermal batch reactor   \n",
      "235  Amines, Phosphines, and Pyridines characterist...   \n",
      "\n",
      "                                            keywords_0   \n",
      "0    [nuclear magnetic resonance spectroscopy, NMR,...  \\\n",
      "1    [polymer-chemistry, cationic polymerization, r...   \n",
      "2    [antibiotic, distribution, pharmacokinetics, r...   \n",
      "3    [natural product synthesis, biochemistry, requ...   \n",
      "4    [electrochemistry, hydrogen evolution, hydroge...   \n",
      "..                                                 ...   \n",
      "231  [inorganic-chemistry, general-chemistry, pH ca...   \n",
      "232  [polymer-chemistry, poly(lactic acid), monomer...   \n",
      "233  [bond angle, requires-knowledge, group 15 elem...   \n",
      "234  [technical-chemistry, requires-reasoning, batc...   \n",
      "235  [reactivity, molecules, amines, phosphines, py...   \n",
      "\n",
      "     llm_extraction_count_0  metrics_correct_classes  metrics_extra_classes   \n",
      "0                         0                      0.0                    1.0  \\\n",
      "1                         0                      0.0                    1.0   \n",
      "2                         0                      1.0                    1.0   \n",
      "3                         0                      0.0                    1.0   \n",
      "4                         0                      1.0                    0.0   \n",
      "..                      ...                      ...                    ...   \n",
      "231                       0                      1.0                    0.0   \n",
      "232                       0                      NaN                    NaN   \n",
      "233                       0                      1.0                    0.0   \n",
      "234                       0                      0.0                    1.0   \n",
      "235                       0                      0.0                    1.0   \n",
      "\n",
      "     metrics_f1  metrics_hamming  metrics_incorrect_classes   \n",
      "0      0.000000              2.0                        1.0  \\\n",
      "1      0.000000              2.0                        1.0   \n",
      "2      0.500000              1.0                        1.0   \n",
      "3      0.000000              2.0                        1.0   \n",
      "4      0.666667              0.5                        0.0   \n",
      "..          ...              ...                        ...   \n",
      "231    1.000000              0.0                        0.0   \n",
      "232         NaN              NaN                        NaN   \n",
      "233    1.000000              0.0                        0.0   \n",
      "234    0.000000              2.0                        1.0   \n",
      "235    0.000000              2.0                        1.0   \n",
      "\n",
      "     metrics_missed_classes  ...  is_analytical_chemistry  is_periodic_table   \n",
      "0                       1.0  ...                    False              False  \\\n",
      "1                       1.0  ...                    False              False   \n",
      "2                       1.0  ...                    False              False   \n",
      "3                       1.0  ...                    False              False   \n",
      "4                       1.0  ...                    False              False   \n",
      "..                      ...  ...                      ...                ...   \n",
      "231                     0.0  ...                    False              False   \n",
      "232                     NaN  ...                    False              False   \n",
      "233                     0.0  ...                    False               True   \n",
      "234                     1.0  ...                    False              False   \n",
      "235                     1.0  ...                    False              False   \n",
      "\n",
      "     is_general_chemistry_exam is_biomolecular is_xray is_materials_science   \n",
      "0                        False           False   False                False  \\\n",
      "1                        False           False   False                False   \n",
      "2                        False           False   False                False   \n",
      "3                        False           False   False                False   \n",
      "4                        False           False   False                False   \n",
      "..                         ...             ...     ...                  ...   \n",
      "231                      False           False   False                False   \n",
      "232                      False           False   False                False   \n",
      "233                      False           False   False                False   \n",
      "234                      False           False   False                False   \n",
      "235                      False           False   False                False   \n",
      "\n",
      "    is_molsim requires_calculation is_preference  is_name  \n",
      "0       False                  NaN         False    False  \n",
      "1       False                  NaN         False    False  \n",
      "2       False                  NaN         False    False  \n",
      "3       False                  NaN         False    False  \n",
      "4       False                  NaN         False    False  \n",
      "..        ...                  ...           ...      ...  \n",
      "231     False                  NaN         False    False  \n",
      "232     False                  NaN         False    False  \n",
      "233     False                  NaN         False    False  \n",
      "234     False                  NaN         False    False  \n",
      "235     False                  NaN         False    False  \n",
      "\n",
      "[236 rows x 78 columns], 'cm0mcnbtp0000jo0c2yslijn3':                                               canary_0   \n",
      "0    BENCHMARK DATA SHOULD NEVER APPEAR IN TRAINING...  \\\n",
      "1    BENCHMARK DATA SHOULD NEVER APPEAR IN TRAINING...   \n",
      "2    BENCHMARK DATA SHOULD NEVER APPEAR IN TRAINING...   \n",
      "3    BENCHMARK DATA SHOULD NEVER APPEAR IN TRAINING...   \n",
      "4    BENCHMARK DATA SHOULD NEVER APPEAR IN TRAINING...   \n",
      "..                                                 ...   \n",
      "231  BENCHMARK DATA SHOULD NEVER APPEAR IN TRAINING...   \n",
      "232  BENCHMARK DATA SHOULD NEVER APPEAR IN TRAINING...   \n",
      "233  BENCHMARK DATA SHOULD NEVER APPEAR IN TRAINING...   \n",
      "234  BENCHMARK DATA SHOULD NEVER APPEAR IN TRAINING...   \n",
      "235  BENCHMARK DATA SHOULD NEVER APPEAR IN TRAINING...   \n",
      "\n",
      "                                         description_0   \n",
      "0    Question bank for the text, Duckett, Gilbert &...  \\\n",
      "1    Reactivity of monomers in cationic polymerization   \n",
      "2                          Distribution of antibiotics   \n",
      "3                            natural product synthesis   \n",
      "4    Electrochemistry questions related to redox re...   \n",
      "..                                                 ...   \n",
      "231         The pH calculation of amphoteric solutions   \n",
      "232  Average number of monomer units in each polyme...   \n",
      "233                   Comparasion of similar compounds   \n",
      "234               Question on isothermal batch reactor   \n",
      "235  Amines, Phosphines, and Pyridines characterist...   \n",
      "\n",
      "                                            keywords_0   \n",
      "0    [nuclear magnetic resonance spectroscopy, NMR,...  \\\n",
      "1    [polymer-chemistry, cationic polymerization, r...   \n",
      "2    [antibiotic, distribution, pharmacokinetics, r...   \n",
      "3    [natural product synthesis, biochemistry, requ...   \n",
      "4    [electrochemistry, hydrogen evolution, hydroge...   \n",
      "..                                                 ...   \n",
      "231  [inorganic-chemistry, general-chemistry, pH ca...   \n",
      "232  [polymer-chemistry, poly(lactic acid), monomer...   \n",
      "233  [bond angle, requires-knowledge, group 15 elem...   \n",
      "234  [technical-chemistry, requires-reasoning, batc...   \n",
      "235  [reactivity, molecules, amines, phosphines, py...   \n",
      "\n",
      "     llm_extraction_count_0  metrics_correct_classes  metrics_extra_classes   \n",
      "0                         0                      0.0                    1.0  \\\n",
      "1                         0                      1.0                    0.0   \n",
      "2                         0                      1.0                    0.0   \n",
      "3                         0                      0.0                    1.0   \n",
      "4                         0                      0.0                    1.0   \n",
      "..                      ...                      ...                    ...   \n",
      "231                       0                      1.0                    0.0   \n",
      "232                       0                      NaN                    NaN   \n",
      "233                       0                      1.0                    0.0   \n",
      "234                       0                      0.0                    1.0   \n",
      "235                       0                      1.0                    0.0   \n",
      "\n",
      "     metrics_f1  metrics_hamming  metrics_incorrect_classes   \n",
      "0      0.000000              2.0                        1.0  \\\n",
      "1      1.000000              0.0                        0.0   \n",
      "2      0.666667              0.5                        0.0   \n",
      "3      0.000000              2.0                        1.0   \n",
      "4      0.000000              1.5                        1.0   \n",
      "..          ...              ...                        ...   \n",
      "231    1.000000              0.0                        0.0   \n",
      "232         NaN              NaN                        NaN   \n",
      "233    1.000000              0.0                        0.0   \n",
      "234    0.000000              2.0                        1.0   \n",
      "235    1.000000              0.0                        0.0   \n",
      "\n",
      "     metrics_missed_classes  ...  is_analytical_chemistry  is_periodic_table   \n",
      "0                       1.0  ...                    False              False  \\\n",
      "1                       0.0  ...                    False              False   \n",
      "2                       1.0  ...                    False              False   \n",
      "3                       1.0  ...                    False              False   \n",
      "4                       2.0  ...                    False              False   \n",
      "..                      ...  ...                      ...                ...   \n",
      "231                     0.0  ...                    False              False   \n",
      "232                     NaN  ...                    False              False   \n",
      "233                     0.0  ...                    False               True   \n",
      "234                     1.0  ...                    False              False   \n",
      "235                     0.0  ...                    False              False   \n",
      "\n",
      "     is_general_chemistry_exam is_biomolecular is_xray is_materials_science   \n",
      "0                        False           False   False                False  \\\n",
      "1                        False           False   False                False   \n",
      "2                        False           False   False                False   \n",
      "3                        False           False   False                False   \n",
      "4                        False           False   False                False   \n",
      "..                         ...             ...     ...                  ...   \n",
      "231                      False           False   False                False   \n",
      "232                      False           False   False                False   \n",
      "233                      False           False   False                False   \n",
      "234                      False           False   False                False   \n",
      "235                      False           False   False                False   \n",
      "\n",
      "    is_molsim requires_calculation is_preference  is_name  \n",
      "0       False                  NaN         False    False  \n",
      "1       False                  NaN         False    False  \n",
      "2       False                  NaN         False    False  \n",
      "3       False                  NaN         False    False  \n",
      "4       False                  NaN         False    False  \n",
      "..        ...                  ...           ...      ...  \n",
      "231     False                  NaN         False    False  \n",
      "232     False                  NaN         False    False  \n",
      "233     False                  NaN         False    False  \n",
      "234     False                  NaN         False    False  \n",
      "235     False                  NaN         False    False  \n",
      "\n",
      "[236 rows x 78 columns], 'cm0uujnkr0000lb0cu61mmtaf':                                               canary_0   \n",
      "0    BENCHMARK DATA SHOULD NEVER APPEAR IN TRAINING...  \\\n",
      "1    BENCHMARK DATA SHOULD NEVER APPEAR IN TRAINING...   \n",
      "2    BENCHMARK DATA SHOULD NEVER APPEAR IN TRAINING...   \n",
      "3    BENCHMARK DATA SHOULD NEVER APPEAR IN TRAINING...   \n",
      "4    BENCHMARK DATA SHOULD NEVER APPEAR IN TRAINING...   \n",
      "..                                                 ...   \n",
      "231  BENCHMARK DATA SHOULD NEVER APPEAR IN TRAINING...   \n",
      "232  BENCHMARK DATA SHOULD NEVER APPEAR IN TRAINING...   \n",
      "233  BENCHMARK DATA SHOULD NEVER APPEAR IN TRAINING...   \n",
      "234  BENCHMARK DATA SHOULD NEVER APPEAR IN TRAINING...   \n",
      "235  BENCHMARK DATA SHOULD NEVER APPEAR IN TRAINING...   \n",
      "\n",
      "                                         description_0   \n",
      "0    Question bank for the text, Duckett, Gilbert &...  \\\n",
      "1    Reactivity of monomers in cationic polymerization   \n",
      "2                          Distribution of antibiotics   \n",
      "3                            natural product synthesis   \n",
      "4    Electrochemistry questions related to redox re...   \n",
      "..                                                 ...   \n",
      "231         The pH calculation of amphoteric solutions   \n",
      "232  Average number of monomer units in each polyme...   \n",
      "233                   Comparasion of similar compounds   \n",
      "234               Question on isothermal batch reactor   \n",
      "235  Amines, Phosphines, and Pyridines characterist...   \n",
      "\n",
      "                                            keywords_0   \n",
      "0    [nuclear magnetic resonance spectroscopy, NMR,...  \\\n",
      "1    [polymer-chemistry, cationic polymerization, r...   \n",
      "2    [antibiotic, distribution, pharmacokinetics, r...   \n",
      "3    [natural product synthesis, biochemistry, requ...   \n",
      "4    [electrochemistry, hydrogen evolution, hydroge...   \n",
      "..                                                 ...   \n",
      "231  [inorganic-chemistry, general-chemistry, pH ca...   \n",
      "232  [polymer-chemistry, poly(lactic acid), monomer...   \n",
      "233  [bond angle, requires-knowledge, group 15 elem...   \n",
      "234  [technical-chemistry, requires-reasoning, batc...   \n",
      "235  [reactivity, molecules, amines, phosphines, py...   \n",
      "\n",
      "     llm_extraction_count_0  metrics_correct_classes  metrics_extra_classes   \n",
      "0                         0                      0.0                    1.0  \\\n",
      "1                         0                      1.0                    0.0   \n",
      "2                         0                      2.0                    2.0   \n",
      "3                         0                      0.0                    1.0   \n",
      "4                         0                      1.0                    0.0   \n",
      "..                      ...                      ...                    ...   \n",
      "231                       0                      0.0                    1.0   \n",
      "232                       0                      NaN                    NaN   \n",
      "233                       0                      1.0                    0.0   \n",
      "234                       0                      0.0                    1.0   \n",
      "235                       0                      1.0                    0.0   \n",
      "\n",
      "     metrics_f1  metrics_hamming  metrics_incorrect_classes   \n",
      "0      0.000000              2.0                        1.0  \\\n",
      "1      1.000000              0.0                        0.0   \n",
      "2      0.666667              1.0                        2.0   \n",
      "3      0.000000              2.0                        1.0   \n",
      "4      0.666667              0.5                        0.0   \n",
      "..          ...              ...                        ...   \n",
      "231    0.000000              2.0                        1.0   \n",
      "232         NaN              NaN                        NaN   \n",
      "233    1.000000              0.0                        0.0   \n",
      "234    0.000000              2.0                        1.0   \n",
      "235    1.000000              0.0                        0.0   \n",
      "\n",
      "     metrics_missed_classes  ...  is_analytical_chemistry  is_periodic_table   \n",
      "0                       1.0  ...                    False              False  \\\n",
      "1                       0.0  ...                    False              False   \n",
      "2                       0.0  ...                    False              False   \n",
      "3                       1.0  ...                    False              False   \n",
      "4                       1.0  ...                    False              False   \n",
      "..                      ...  ...                      ...                ...   \n",
      "231                     1.0  ...                    False              False   \n",
      "232                     NaN  ...                    False              False   \n",
      "233                     0.0  ...                    False               True   \n",
      "234                     1.0  ...                    False              False   \n",
      "235                     0.0  ...                    False              False   \n",
      "\n",
      "     is_general_chemistry_exam is_biomolecular is_xray is_materials_science   \n",
      "0                        False           False   False                False  \\\n",
      "1                        False           False   False                False   \n",
      "2                        False           False   False                False   \n",
      "3                        False           False   False                False   \n",
      "4                        False           False   False                False   \n",
      "..                         ...             ...     ...                  ...   \n",
      "231                      False           False   False                False   \n",
      "232                      False           False   False                False   \n",
      "233                      False           False   False                False   \n",
      "234                      False           False   False                False   \n",
      "235                      False           False   False                False   \n",
      "\n",
      "    is_molsim requires_calculation is_preference  is_name  \n",
      "0       False                  NaN         False    False  \n",
      "1       False                  NaN         False    False  \n",
      "2       False                  NaN         False    False  \n",
      "3       False                  NaN         False    False  \n",
      "4       False                  NaN         False    False  \n",
      "..        ...                  ...           ...      ...  \n",
      "231     False                  NaN         False    False  \n",
      "232     False                  NaN         False    False  \n",
      "233     False                  NaN         False    False  \n",
      "234     False                  NaN         False    False  \n",
      "235     False                  NaN         False    False  \n",
      "\n",
      "[236 rows x 78 columns], 'cm0mcncb40001jo0crdn346dl':                                               canary_0   \n",
      "0    BENCHMARK DATA SHOULD NEVER APPEAR IN TRAINING...  \\\n",
      "1    BENCHMARK DATA SHOULD NEVER APPEAR IN TRAINING...   \n",
      "2    BENCHMARK DATA SHOULD NEVER APPEAR IN TRAINING...   \n",
      "3    BENCHMARK DATA SHOULD NEVER APPEAR IN TRAINING...   \n",
      "4    BENCHMARK DATA SHOULD NEVER APPEAR IN TRAINING...   \n",
      "..                                                 ...   \n",
      "231  BENCHMARK DATA SHOULD NEVER APPEAR IN TRAINING...   \n",
      "232  BENCHMARK DATA SHOULD NEVER APPEAR IN TRAINING...   \n",
      "233  BENCHMARK DATA SHOULD NEVER APPEAR IN TRAINING...   \n",
      "234  BENCHMARK DATA SHOULD NEVER APPEAR IN TRAINING...   \n",
      "235  BENCHMARK DATA SHOULD NEVER APPEAR IN TRAINING...   \n",
      "\n",
      "                                         description_0   \n",
      "0    Question bank for the text, Duckett, Gilbert &...  \\\n",
      "1    Reactivity of monomers in cationic polymerization   \n",
      "2                          Distribution of antibiotics   \n",
      "3                            natural product synthesis   \n",
      "4    Electrochemistry questions related to redox re...   \n",
      "..                                                 ...   \n",
      "231         The pH calculation of amphoteric solutions   \n",
      "232  Average number of monomer units in each polyme...   \n",
      "233                   Comparasion of similar compounds   \n",
      "234               Question on isothermal batch reactor   \n",
      "235  Amines, Phosphines, and Pyridines characterist...   \n",
      "\n",
      "                                            keywords_0   \n",
      "0    [nuclear magnetic resonance spectroscopy, NMR,...  \\\n",
      "1    [polymer-chemistry, cationic polymerization, r...   \n",
      "2    [antibiotic, distribution, pharmacokinetics, r...   \n",
      "3    [natural product synthesis, biochemistry, requ...   \n",
      "4    [electrochemistry, hydrogen evolution, hydroge...   \n",
      "..                                                 ...   \n",
      "231  [inorganic-chemistry, general-chemistry, pH ca...   \n",
      "232  [polymer-chemistry, poly(lactic acid), monomer...   \n",
      "233  [bond angle, requires-knowledge, group 15 elem...   \n",
      "234  [technical-chemistry, requires-reasoning, batc...   \n",
      "235  [reactivity, molecules, amines, phosphines, py...   \n",
      "\n",
      "     llm_extraction_count_0  metrics_correct_classes  metrics_extra_classes   \n",
      "0                         0                      0.0                    1.0  \\\n",
      "1                         0                      1.0                    0.0   \n",
      "2                         0                      1.0                    1.0   \n",
      "3                         0                      0.0                    1.0   \n",
      "4                         0                      0.0                    1.0   \n",
      "..                      ...                      ...                    ...   \n",
      "231                       0                      1.0                    0.0   \n",
      "232                       0                      NaN                    NaN   \n",
      "233                       0                      1.0                    0.0   \n",
      "234                       0                      1.0                    0.0   \n",
      "235                       0                      0.0                    1.0   \n",
      "\n",
      "     metrics_f1  metrics_hamming  metrics_incorrect_classes   \n",
      "0           0.0              2.0                        1.0  \\\n",
      "1           1.0              0.0                        0.0   \n",
      "2           0.5              1.0                        1.0   \n",
      "3           0.0              2.0                        1.0   \n",
      "4           0.0              1.5                        1.0   \n",
      "..          ...              ...                        ...   \n",
      "231         1.0              0.0                        0.0   \n",
      "232         NaN              NaN                        NaN   \n",
      "233         1.0              0.0                        0.0   \n",
      "234         1.0              0.0                        0.0   \n",
      "235         0.0              2.0                        1.0   \n",
      "\n",
      "     metrics_missed_classes  ...  is_analytical_chemistry  is_periodic_table   \n",
      "0                       1.0  ...                    False              False  \\\n",
      "1                       0.0  ...                    False              False   \n",
      "2                       1.0  ...                    False              False   \n",
      "3                       1.0  ...                    False              False   \n",
      "4                       2.0  ...                    False              False   \n",
      "..                      ...  ...                      ...                ...   \n",
      "231                     0.0  ...                    False              False   \n",
      "232                     NaN  ...                    False              False   \n",
      "233                     0.0  ...                    False               True   \n",
      "234                     0.0  ...                    False              False   \n",
      "235                     1.0  ...                    False              False   \n",
      "\n",
      "     is_general_chemistry_exam is_biomolecular is_xray is_materials_science   \n",
      "0                        False           False   False                False  \\\n",
      "1                        False           False   False                False   \n",
      "2                        False           False   False                False   \n",
      "3                        False           False   False                False   \n",
      "4                        False           False   False                False   \n",
      "..                         ...             ...     ...                  ...   \n",
      "231                      False           False   False                False   \n",
      "232                      False           False   False                False   \n",
      "233                      False           False   False                False   \n",
      "234                      False           False   False                False   \n",
      "235                      False           False   False                False   \n",
      "\n",
      "    is_molsim requires_calculation is_preference  is_name  \n",
      "0       False                  NaN         False    False  \n",
      "1       False                  NaN         False    False  \n",
      "2       False                  NaN         False    False  \n",
      "3       False                  NaN         False    False  \n",
      "4       False                  NaN         False    False  \n",
      "..        ...                  ...           ...      ...  \n",
      "231     False                  NaN         False    False  \n",
      "232     False                  NaN         False    False  \n",
      "233     False                  NaN         False    False  \n",
      "234     False                  NaN         False    False  \n",
      "235     False                  NaN         False    False  \n",
      "\n",
      "[236 rows x 78 columns], 'cm10venoc0000l40cpfddgel3':                                               canary_0   \n",
      "0    BENCHMARK DATA SHOULD NEVER APPEAR IN TRAINING...  \\\n",
      "1    BENCHMARK DATA SHOULD NEVER APPEAR IN TRAINING...   \n",
      "2    BENCHMARK DATA SHOULD NEVER APPEAR IN TRAINING...   \n",
      "3    BENCHMARK DATA SHOULD NEVER APPEAR IN TRAINING...   \n",
      "4    BENCHMARK DATA SHOULD NEVER APPEAR IN TRAINING...   \n",
      "..                                                 ...   \n",
      "231  BENCHMARK DATA SHOULD NEVER APPEAR IN TRAINING...   \n",
      "232  BENCHMARK DATA SHOULD NEVER APPEAR IN TRAINING...   \n",
      "233  BENCHMARK DATA SHOULD NEVER APPEAR IN TRAINING...   \n",
      "234  BENCHMARK DATA SHOULD NEVER APPEAR IN TRAINING...   \n",
      "235  BENCHMARK DATA SHOULD NEVER APPEAR IN TRAINING...   \n",
      "\n",
      "                                         description_0   \n",
      "0    Question bank for the text, Duckett, Gilbert &...  \\\n",
      "1    Reactivity of monomers in cationic polymerization   \n",
      "2                          Distribution of antibiotics   \n",
      "3                            natural product synthesis   \n",
      "4    Electrochemistry questions related to redox re...   \n",
      "..                                                 ...   \n",
      "231         The pH calculation of amphoteric solutions   \n",
      "232  Average number of monomer units in each polyme...   \n",
      "233                   Comparasion of similar compounds   \n",
      "234               Question on isothermal batch reactor   \n",
      "235  Amines, Phosphines, and Pyridines characterist...   \n",
      "\n",
      "                                            keywords_0   \n",
      "0    [nuclear magnetic resonance spectroscopy, NMR,...  \\\n",
      "1    [polymer-chemistry, cationic polymerization, r...   \n",
      "2    [antibiotic, distribution, pharmacokinetics, r...   \n",
      "3    [natural product synthesis, biochemistry, requ...   \n",
      "4    [electrochemistry, hydrogen evolution, hydroge...   \n",
      "..                                                 ...   \n",
      "231  [inorganic-chemistry, general-chemistry, pH ca...   \n",
      "232  [polymer-chemistry, poly(lactic acid), monomer...   \n",
      "233  [bond angle, requires-knowledge, group 15 elem...   \n",
      "234  [technical-chemistry, requires-reasoning, batc...   \n",
      "235  [reactivity, molecules, amines, phosphines, py...   \n",
      "\n",
      "     llm_extraction_count_0  metrics_correct_classes  metrics_extra_classes   \n",
      "0                         0                      0.0                    1.0  \\\n",
      "1                         0                      0.0                    1.0   \n",
      "2                         0                      0.0                    1.0   \n",
      "3                         0                      1.0                    0.0   \n",
      "4                         0                      0.0                    1.0   \n",
      "..                      ...                      ...                    ...   \n",
      "231                       0                      0.0                    1.0   \n",
      "232                       0                      NaN                    NaN   \n",
      "233                       0                      0.0                    1.0   \n",
      "234                       0                      0.0                    1.0   \n",
      "235                       0                      0.0                    1.0   \n",
      "\n",
      "     metrics_f1  metrics_hamming  metrics_incorrect_classes   \n",
      "0           0.0              2.0                        1.0  \\\n",
      "1           0.0              2.0                        1.0   \n",
      "2           0.0              1.5                        1.0   \n",
      "3           1.0              0.0                        0.0   \n",
      "4           0.0              1.5                        1.0   \n",
      "..          ...              ...                        ...   \n",
      "231         0.0              2.0                        1.0   \n",
      "232         NaN              NaN                        NaN   \n",
      "233         0.0              2.0                        1.0   \n",
      "234         0.0              2.0                        1.0   \n",
      "235         0.0              2.0                        1.0   \n",
      "\n",
      "     metrics_missed_classes  ...  is_analytical_chemistry  is_periodic_table   \n",
      "0                       1.0  ...                    False              False  \\\n",
      "1                       1.0  ...                    False              False   \n",
      "2                       2.0  ...                    False              False   \n",
      "3                       0.0  ...                    False              False   \n",
      "4                       2.0  ...                    False              False   \n",
      "..                      ...  ...                      ...                ...   \n",
      "231                     1.0  ...                    False              False   \n",
      "232                     NaN  ...                    False              False   \n",
      "233                     1.0  ...                    False               True   \n",
      "234                     1.0  ...                    False              False   \n",
      "235                     1.0  ...                    False              False   \n",
      "\n",
      "     is_general_chemistry_exam is_biomolecular is_xray is_materials_science   \n",
      "0                        False           False   False                False  \\\n",
      "1                        False           False   False                False   \n",
      "2                        False           False   False                False   \n",
      "3                        False           False   False                False   \n",
      "4                        False           False   False                False   \n",
      "..                         ...             ...     ...                  ...   \n",
      "231                      False           False   False                False   \n",
      "232                      False           False   False                False   \n",
      "233                      False           False   False                False   \n",
      "234                      False           False   False                False   \n",
      "235                      False           False   False                False   \n",
      "\n",
      "    is_molsim requires_calculation is_preference  is_name  \n",
      "0       False                  NaN         False    False  \n",
      "1       False                  NaN         False    False  \n",
      "2       False                  NaN         False    False  \n",
      "3       False                  NaN         False    False  \n",
      "4       False                  NaN         False    False  \n",
      "..        ...                  ...           ...      ...  \n",
      "231     False                  NaN         False    False  \n",
      "232     False                  NaN         False    False  \n",
      "233     False                  NaN         False    False  \n",
      "234     False                  NaN         False    False  \n",
      "235     False                  NaN         False    False  \n",
      "\n",
      "[236 rows x 78 columns], 'cm0qcha790000mh0cgsdw34ib':                                               canary_0   \n",
      "0    BENCHMARK DATA SHOULD NEVER APPEAR IN TRAINING...  \\\n",
      "1    BENCHMARK DATA SHOULD NEVER APPEAR IN TRAINING...   \n",
      "2    BENCHMARK DATA SHOULD NEVER APPEAR IN TRAINING...   \n",
      "3    BENCHMARK DATA SHOULD NEVER APPEAR IN TRAINING...   \n",
      "4    BENCHMARK DATA SHOULD NEVER APPEAR IN TRAINING...   \n",
      "..                                                 ...   \n",
      "231  BENCHMARK DATA SHOULD NEVER APPEAR IN TRAINING...   \n",
      "232  BENCHMARK DATA SHOULD NEVER APPEAR IN TRAINING...   \n",
      "233  BENCHMARK DATA SHOULD NEVER APPEAR IN TRAINING...   \n",
      "234  BENCHMARK DATA SHOULD NEVER APPEAR IN TRAINING...   \n",
      "235  BENCHMARK DATA SHOULD NEVER APPEAR IN TRAINING...   \n",
      "\n",
      "                                         description_0   \n",
      "0    Question bank for the text, Duckett, Gilbert &...  \\\n",
      "1    Reactivity of monomers in cationic polymerization   \n",
      "2                          Distribution of antibiotics   \n",
      "3                            natural product synthesis   \n",
      "4    Electrochemistry questions related to redox re...   \n",
      "..                                                 ...   \n",
      "231         The pH calculation of amphoteric solutions   \n",
      "232  Average number of monomer units in each polyme...   \n",
      "233                   Comparasion of similar compounds   \n",
      "234               Question on isothermal batch reactor   \n",
      "235  Amines, Phosphines, and Pyridines characterist...   \n",
      "\n",
      "                                            keywords_0   \n",
      "0    [nuclear magnetic resonance spectroscopy, NMR,...  \\\n",
      "1    [polymer-chemistry, cationic polymerization, r...   \n",
      "2    [antibiotic, distribution, pharmacokinetics, r...   \n",
      "3    [natural product synthesis, biochemistry, requ...   \n",
      "4    [electrochemistry, hydrogen evolution, hydroge...   \n",
      "..                                                 ...   \n",
      "231  [inorganic-chemistry, general-chemistry, pH ca...   \n",
      "232  [polymer-chemistry, poly(lactic acid), monomer...   \n",
      "233  [bond angle, requires-knowledge, group 15 elem...   \n",
      "234  [technical-chemistry, requires-reasoning, batc...   \n",
      "235  [reactivity, molecules, amines, phosphines, py...   \n",
      "\n",
      "     llm_extraction_count_0  metrics_correct_classes  metrics_extra_classes   \n",
      "0                         0                      0.0                    1.0  \\\n",
      "1                         0                      1.0                    0.0   \n",
      "2                         0                      0.0                    1.0   \n",
      "3                         0                      0.0                    1.0   \n",
      "4                         0                      1.0                    1.0   \n",
      "..                      ...                      ...                    ...   \n",
      "231                       0                      1.0                    0.0   \n",
      "232                       0                      NaN                    NaN   \n",
      "233                       0                      1.0                    0.0   \n",
      "234                       0                      0.0                    1.0   \n",
      "235                       0                      0.0                    1.0   \n",
      "\n",
      "     metrics_f1  metrics_hamming  metrics_incorrect_classes   \n",
      "0           0.0              2.0                        1.0  \\\n",
      "1           1.0              0.0                        0.0   \n",
      "2           0.0              1.5                        1.0   \n",
      "3           0.0              2.0                        1.0   \n",
      "4           0.5              1.0                        1.0   \n",
      "..          ...              ...                        ...   \n",
      "231         1.0              0.0                        0.0   \n",
      "232         NaN              NaN                        NaN   \n",
      "233         1.0              0.0                        0.0   \n",
      "234         0.0              2.0                        1.0   \n",
      "235         0.0              2.0                        1.0   \n",
      "\n",
      "     metrics_missed_classes  ...  is_analytical_chemistry  is_periodic_table   \n",
      "0                       1.0  ...                    False              False  \\\n",
      "1                       0.0  ...                    False              False   \n",
      "2                       2.0  ...                    False              False   \n",
      "3                       1.0  ...                    False              False   \n",
      "4                       1.0  ...                    False              False   \n",
      "..                      ...  ...                      ...                ...   \n",
      "231                     0.0  ...                    False              False   \n",
      "232                     NaN  ...                    False              False   \n",
      "233                     0.0  ...                    False               True   \n",
      "234                     1.0  ...                    False              False   \n",
      "235                     1.0  ...                    False              False   \n",
      "\n",
      "     is_general_chemistry_exam is_biomolecular is_xray is_materials_science   \n",
      "0                        False           False   False                False  \\\n",
      "1                        False           False   False                False   \n",
      "2                        False           False   False                False   \n",
      "3                        False           False   False                False   \n",
      "4                        False           False   False                False   \n",
      "..                         ...             ...     ...                  ...   \n",
      "231                      False           False   False                False   \n",
      "232                      False           False   False                False   \n",
      "233                      False           False   False                False   \n",
      "234                      False           False   False                False   \n",
      "235                      False           False   False                False   \n",
      "\n",
      "    is_molsim requires_calculation is_preference  is_name  \n",
      "0       False                  NaN         False    False  \n",
      "1       False                  NaN         False    False  \n",
      "2       False                  NaN         False    False  \n",
      "3       False                  NaN         False    False  \n",
      "4       False                  NaN         False    False  \n",
      "..        ...                  ...           ...      ...  \n",
      "231     False                  NaN         False    False  \n",
      "232     False                  NaN         False    False  \n",
      "233     False                  NaN         False    False  \n",
      "234     False                  NaN         False    False  \n",
      "235     False                  NaN         False    False  \n",
      "\n",
      "[236 rows x 78 columns], 'cm0mleqsp0001jq0csqyugbp5':                                               canary_0   \n",
      "0    BENCHMARK DATA SHOULD NEVER APPEAR IN TRAINING...  \\\n",
      "1    BENCHMARK DATA SHOULD NEVER APPEAR IN TRAINING...   \n",
      "2    BENCHMARK DATA SHOULD NEVER APPEAR IN TRAINING...   \n",
      "3    BENCHMARK DATA SHOULD NEVER APPEAR IN TRAINING...   \n",
      "4    BENCHMARK DATA SHOULD NEVER APPEAR IN TRAINING...   \n",
      "..                                                 ...   \n",
      "231  BENCHMARK DATA SHOULD NEVER APPEAR IN TRAINING...   \n",
      "232  BENCHMARK DATA SHOULD NEVER APPEAR IN TRAINING...   \n",
      "233  BENCHMARK DATA SHOULD NEVER APPEAR IN TRAINING...   \n",
      "234  BENCHMARK DATA SHOULD NEVER APPEAR IN TRAINING...   \n",
      "235  BENCHMARK DATA SHOULD NEVER APPEAR IN TRAINING...   \n",
      "\n",
      "                                         description_0   \n",
      "0    Question bank for the text, Duckett, Gilbert &...  \\\n",
      "1    Reactivity of monomers in cationic polymerization   \n",
      "2                          Distribution of antibiotics   \n",
      "3                            natural product synthesis   \n",
      "4    Electrochemistry questions related to redox re...   \n",
      "..                                                 ...   \n",
      "231         The pH calculation of amphoteric solutions   \n",
      "232  Average number of monomer units in each polyme...   \n",
      "233                   Comparasion of similar compounds   \n",
      "234               Question on isothermal batch reactor   \n",
      "235  Amines, Phosphines, and Pyridines characterist...   \n",
      "\n",
      "                                            keywords_0   \n",
      "0    [nuclear magnetic resonance spectroscopy, NMR,...  \\\n",
      "1    [polymer-chemistry, cationic polymerization, r...   \n",
      "2    [antibiotic, distribution, pharmacokinetics, r...   \n",
      "3    [natural product synthesis, biochemistry, requ...   \n",
      "4    [electrochemistry, hydrogen evolution, hydroge...   \n",
      "..                                                 ...   \n",
      "231  [inorganic-chemistry, general-chemistry, pH ca...   \n",
      "232  [polymer-chemistry, poly(lactic acid), monomer...   \n",
      "233  [bond angle, requires-knowledge, group 15 elem...   \n",
      "234  [technical-chemistry, requires-reasoning, batc...   \n",
      "235  [reactivity, molecules, amines, phosphines, py...   \n",
      "\n",
      "     llm_extraction_count_0  metrics_correct_classes  metrics_extra_classes   \n",
      "0                         0                      0.0                    1.0  \\\n",
      "1                         0                      0.0                    1.0   \n",
      "2                         0                      1.0                    1.0   \n",
      "3                         0                      0.0                    1.0   \n",
      "4                         0                      0.0                    1.0   \n",
      "..                      ...                      ...                    ...   \n",
      "231                       0                      1.0                    0.0   \n",
      "232                       0                      NaN                    NaN   \n",
      "233                       0                      1.0                    0.0   \n",
      "234                       0                      0.0                    1.0   \n",
      "235                       0                      1.0                    0.0   \n",
      "\n",
      "     metrics_f1  metrics_hamming  metrics_incorrect_classes   \n",
      "0           0.0              2.0                        1.0  \\\n",
      "1           0.0              2.0                        1.0   \n",
      "2           0.5              1.0                        1.0   \n",
      "3           0.0              2.0                        1.0   \n",
      "4           0.0              1.5                        1.0   \n",
      "..          ...              ...                        ...   \n",
      "231         1.0              0.0                        0.0   \n",
      "232         NaN              NaN                        NaN   \n",
      "233         1.0              0.0                        0.0   \n",
      "234         0.0              2.0                        1.0   \n",
      "235         1.0              0.0                        0.0   \n",
      "\n",
      "     metrics_missed_classes  ...  is_analytical_chemistry  is_periodic_table   \n",
      "0                       1.0  ...                    False              False  \\\n",
      "1                       1.0  ...                    False              False   \n",
      "2                       1.0  ...                    False              False   \n",
      "3                       1.0  ...                    False              False   \n",
      "4                       2.0  ...                    False              False   \n",
      "..                      ...  ...                      ...                ...   \n",
      "231                     0.0  ...                    False              False   \n",
      "232                     NaN  ...                    False              False   \n",
      "233                     0.0  ...                    False               True   \n",
      "234                     1.0  ...                    False              False   \n",
      "235                     0.0  ...                    False              False   \n",
      "\n",
      "     is_general_chemistry_exam is_biomolecular is_xray is_materials_science   \n",
      "0                        False           False   False                False  \\\n",
      "1                        False           False   False                False   \n",
      "2                        False           False   False                False   \n",
      "3                        False           False   False                False   \n",
      "4                        False           False   False                False   \n",
      "..                         ...             ...     ...                  ...   \n",
      "231                      False           False   False                False   \n",
      "232                      False           False   False                False   \n",
      "233                      False           False   False                False   \n",
      "234                      False           False   False                False   \n",
      "235                      False           False   False                False   \n",
      "\n",
      "    is_molsim requires_calculation is_preference  is_name  \n",
      "0       False                  NaN         False    False  \n",
      "1       False                  NaN         False    False  \n",
      "2       False                  NaN         False    False  \n",
      "3       False                  NaN         False    False  \n",
      "4       False                  NaN         False    False  \n",
      "..        ...                  ...           ...      ...  \n",
      "231     False                  NaN         False    False  \n",
      "232     False                  NaN         False    False  \n",
      "233     False                  NaN         False    False  \n",
      "234     False                  NaN         False    False  \n",
      "235     False                  NaN         False    False  \n",
      "\n",
      "[236 rows x 78 columns], 'cm0wn7tt20000js0cij3x0reu':                                               canary_0   \n",
      "0    BENCHMARK DATA SHOULD NEVER APPEAR IN TRAINING...  \\\n",
      "1    BENCHMARK DATA SHOULD NEVER APPEAR IN TRAINING...   \n",
      "2    BENCHMARK DATA SHOULD NEVER APPEAR IN TRAINING...   \n",
      "3    BENCHMARK DATA SHOULD NEVER APPEAR IN TRAINING...   \n",
      "4    BENCHMARK DATA SHOULD NEVER APPEAR IN TRAINING...   \n",
      "..                                                 ...   \n",
      "231  BENCHMARK DATA SHOULD NEVER APPEAR IN TRAINING...   \n",
      "232  BENCHMARK DATA SHOULD NEVER APPEAR IN TRAINING...   \n",
      "233  BENCHMARK DATA SHOULD NEVER APPEAR IN TRAINING...   \n",
      "234  BENCHMARK DATA SHOULD NEVER APPEAR IN TRAINING...   \n",
      "235  BENCHMARK DATA SHOULD NEVER APPEAR IN TRAINING...   \n",
      "\n",
      "                                         description_0   \n",
      "0    Question bank for the text, Duckett, Gilbert &...  \\\n",
      "1    Reactivity of monomers in cationic polymerization   \n",
      "2                          Distribution of antibiotics   \n",
      "3                            natural product synthesis   \n",
      "4    Electrochemistry questions related to redox re...   \n",
      "..                                                 ...   \n",
      "231         The pH calculation of amphoteric solutions   \n",
      "232  Average number of monomer units in each polyme...   \n",
      "233                   Comparasion of similar compounds   \n",
      "234               Question on isothermal batch reactor   \n",
      "235  Amines, Phosphines, and Pyridines characterist...   \n",
      "\n",
      "                                            keywords_0   \n",
      "0    [nuclear magnetic resonance spectroscopy, NMR,...  \\\n",
      "1    [polymer-chemistry, cationic polymerization, r...   \n",
      "2    [antibiotic, distribution, pharmacokinetics, r...   \n",
      "3    [natural product synthesis, biochemistry, requ...   \n",
      "4    [electrochemistry, hydrogen evolution, hydroge...   \n",
      "..                                                 ...   \n",
      "231  [inorganic-chemistry, general-chemistry, pH ca...   \n",
      "232  [polymer-chemistry, poly(lactic acid), monomer...   \n",
      "233  [bond angle, requires-knowledge, group 15 elem...   \n",
      "234  [technical-chemistry, requires-reasoning, batc...   \n",
      "235  [reactivity, molecules, amines, phosphines, py...   \n",
      "\n",
      "     llm_extraction_count_0  metrics_correct_classes  metrics_extra_classes   \n",
      "0                         0                      0.0                    1.0  \\\n",
      "1                         0                      0.0                    1.0   \n",
      "2                         0                      0.0                    1.0   \n",
      "3                         0                      1.0                    0.0   \n",
      "4                         0                      0.0                    1.0   \n",
      "..                      ...                      ...                    ...   \n",
      "231                       0                      0.0                    1.0   \n",
      "232                       0                      NaN                    NaN   \n",
      "233                       0                      1.0                    0.0   \n",
      "234                       0                      0.0                    1.0   \n",
      "235                       0                      0.0                    1.0   \n",
      "\n",
      "     metrics_f1  metrics_hamming  metrics_incorrect_classes   \n",
      "0           0.0              2.0                        1.0  \\\n",
      "1           0.0              2.0                        1.0   \n",
      "2           0.0              1.5                        1.0   \n",
      "3           1.0              0.0                        0.0   \n",
      "4           0.0              1.5                        1.0   \n",
      "..          ...              ...                        ...   \n",
      "231         0.0              2.0                        1.0   \n",
      "232         NaN              NaN                        NaN   \n",
      "233         1.0              0.0                        0.0   \n",
      "234         0.0              2.0                        1.0   \n",
      "235         0.0              2.0                        1.0   \n",
      "\n",
      "     metrics_missed_classes  ...  is_analytical_chemistry  is_periodic_table   \n",
      "0                       1.0  ...                    False              False  \\\n",
      "1                       1.0  ...                    False              False   \n",
      "2                       2.0  ...                    False              False   \n",
      "3                       0.0  ...                    False              False   \n",
      "4                       2.0  ...                    False              False   \n",
      "..                      ...  ...                      ...                ...   \n",
      "231                     1.0  ...                    False              False   \n",
      "232                     NaN  ...                    False              False   \n",
      "233                     0.0  ...                    False               True   \n",
      "234                     1.0  ...                    False              False   \n",
      "235                     1.0  ...                    False              False   \n",
      "\n",
      "     is_general_chemistry_exam is_biomolecular is_xray is_materials_science   \n",
      "0                        False           False   False                False  \\\n",
      "1                        False           False   False                False   \n",
      "2                        False           False   False                False   \n",
      "3                        False           False   False                False   \n",
      "4                        False           False   False                False   \n",
      "..                         ...             ...     ...                  ...   \n",
      "231                      False           False   False                False   \n",
      "232                      False           False   False                False   \n",
      "233                      False           False   False                False   \n",
      "234                      False           False   False                False   \n",
      "235                      False           False   False                False   \n",
      "\n",
      "    is_molsim requires_calculation is_preference  is_name  \n",
      "0       False                  NaN         False    False  \n",
      "1       False                  NaN         False    False  \n",
      "2       False                  NaN         False    False  \n",
      "3       False                  NaN         False    False  \n",
      "4       False                  NaN         False    False  \n",
      "..        ...                  ...           ...      ...  \n",
      "231     False                  NaN         False    False  \n",
      "232     False                  NaN         False    False  \n",
      "233     False                  NaN         False    False  \n",
      "234     False                  NaN         False    False  \n",
      "235     False                  NaN         False    False  \n",
      "\n",
      "[236 rows x 78 columns], 'cm0qfmltm0001la0dcm7steow':                                               canary_0   \n",
      "0    BENCHMARK DATA SHOULD NEVER APPEAR IN TRAINING...  \\\n",
      "1    BENCHMARK DATA SHOULD NEVER APPEAR IN TRAINING...   \n",
      "2    BENCHMARK DATA SHOULD NEVER APPEAR IN TRAINING...   \n",
      "3    BENCHMARK DATA SHOULD NEVER APPEAR IN TRAINING...   \n",
      "4    BENCHMARK DATA SHOULD NEVER APPEAR IN TRAINING...   \n",
      "..                                                 ...   \n",
      "231  BENCHMARK DATA SHOULD NEVER APPEAR IN TRAINING...   \n",
      "232  BENCHMARK DATA SHOULD NEVER APPEAR IN TRAINING...   \n",
      "233  BENCHMARK DATA SHOULD NEVER APPEAR IN TRAINING...   \n",
      "234  BENCHMARK DATA SHOULD NEVER APPEAR IN TRAINING...   \n",
      "235  BENCHMARK DATA SHOULD NEVER APPEAR IN TRAINING...   \n",
      "\n",
      "                                         description_0   \n",
      "0    Question bank for the text, Duckett, Gilbert &...  \\\n",
      "1    Reactivity of monomers in cationic polymerization   \n",
      "2                          Distribution of antibiotics   \n",
      "3                            natural product synthesis   \n",
      "4    Electrochemistry questions related to redox re...   \n",
      "..                                                 ...   \n",
      "231         The pH calculation of amphoteric solutions   \n",
      "232  Average number of monomer units in each polyme...   \n",
      "233                   Comparasion of similar compounds   \n",
      "234               Question on isothermal batch reactor   \n",
      "235  Amines, Phosphines, and Pyridines characterist...   \n",
      "\n",
      "                                            keywords_0   \n",
      "0    [nuclear magnetic resonance spectroscopy, NMR,...  \\\n",
      "1    [polymer-chemistry, cationic polymerization, r...   \n",
      "2    [antibiotic, distribution, pharmacokinetics, r...   \n",
      "3    [natural product synthesis, biochemistry, requ...   \n",
      "4    [electrochemistry, hydrogen evolution, hydroge...   \n",
      "..                                                 ...   \n",
      "231  [inorganic-chemistry, general-chemistry, pH ca...   \n",
      "232  [polymer-chemistry, poly(lactic acid), monomer...   \n",
      "233  [bond angle, requires-knowledge, group 15 elem...   \n",
      "234  [technical-chemistry, requires-reasoning, batc...   \n",
      "235  [reactivity, molecules, amines, phosphines, py...   \n",
      "\n",
      "     llm_extraction_count_0  metrics_correct_classes  metrics_extra_classes   \n",
      "0                         0                      0.0                    1.0  \\\n",
      "1                         0                      1.0                    0.0   \n",
      "2                         0                      0.0                    1.0   \n",
      "3                         0                      1.0                    0.0   \n",
      "4                         0                      0.0                    1.0   \n",
      "..                      ...                      ...                    ...   \n",
      "231                       0                      0.0                    1.0   \n",
      "232                       0                      NaN                    NaN   \n",
      "233                       0                      1.0                    0.0   \n",
      "234                       0                      0.0                    1.0   \n",
      "235                       0                      1.0                    0.0   \n",
      "\n",
      "     metrics_f1  metrics_hamming  metrics_incorrect_classes   \n",
      "0           0.0              2.0                        1.0  \\\n",
      "1           1.0              0.0                        0.0   \n",
      "2           0.0              1.5                        1.0   \n",
      "3           1.0              0.0                        0.0   \n",
      "4           0.0              1.5                        1.0   \n",
      "..          ...              ...                        ...   \n",
      "231         0.0              2.0                        1.0   \n",
      "232         NaN              NaN                        NaN   \n",
      "233         1.0              0.0                        0.0   \n",
      "234         0.0              2.0                        1.0   \n",
      "235         1.0              0.0                        0.0   \n",
      "\n",
      "     metrics_missed_classes  ...  is_analytical_chemistry  is_periodic_table   \n",
      "0                       1.0  ...                    False              False  \\\n",
      "1                       0.0  ...                    False              False   \n",
      "2                       2.0  ...                    False              False   \n",
      "3                       0.0  ...                    False              False   \n",
      "4                       2.0  ...                    False              False   \n",
      "..                      ...  ...                      ...                ...   \n",
      "231                     1.0  ...                    False              False   \n",
      "232                     NaN  ...                    False              False   \n",
      "233                     0.0  ...                    False               True   \n",
      "234                     1.0  ...                    False              False   \n",
      "235                     0.0  ...                    False              False   \n",
      "\n",
      "     is_general_chemistry_exam is_biomolecular is_xray is_materials_science   \n",
      "0                        False           False   False                False  \\\n",
      "1                        False           False   False                False   \n",
      "2                        False           False   False                False   \n",
      "3                        False           False   False                False   \n",
      "4                        False           False   False                False   \n",
      "..                         ...             ...     ...                  ...   \n",
      "231                      False           False   False                False   \n",
      "232                      False           False   False                False   \n",
      "233                      False           False   False                False   \n",
      "234                      False           False   False                False   \n",
      "235                      False           False   False                False   \n",
      "\n",
      "    is_molsim requires_calculation is_preference  is_name  \n",
      "0       False                  NaN         False    False  \n",
      "1       False                  NaN         False    False  \n",
      "2       False                  NaN         False    False  \n",
      "3       False                  NaN         False    False  \n",
      "4       False                  NaN         False    False  \n",
      "..        ...                  ...           ...      ...  \n",
      "231     False                  NaN         False    False  \n",
      "232     False                  NaN         False    False  \n",
      "233     False                  NaN         False    False  \n",
      "234     False                  NaN         False    False  \n",
      "235     False                  NaN         False    False  \n",
      "\n",
      "[236 rows x 78 columns], 'cm0ty7kam0000jx0c915d4078':                                               canary_0   \n",
      "0    BENCHMARK DATA SHOULD NEVER APPEAR IN TRAINING...  \\\n",
      "1    BENCHMARK DATA SHOULD NEVER APPEAR IN TRAINING...   \n",
      "2    BENCHMARK DATA SHOULD NEVER APPEAR IN TRAINING...   \n",
      "3    BENCHMARK DATA SHOULD NEVER APPEAR IN TRAINING...   \n",
      "4    BENCHMARK DATA SHOULD NEVER APPEAR IN TRAINING...   \n",
      "..                                                 ...   \n",
      "231  BENCHMARK DATA SHOULD NEVER APPEAR IN TRAINING...   \n",
      "232  BENCHMARK DATA SHOULD NEVER APPEAR IN TRAINING...   \n",
      "233  BENCHMARK DATA SHOULD NEVER APPEAR IN TRAINING...   \n",
      "234  BENCHMARK DATA SHOULD NEVER APPEAR IN TRAINING...   \n",
      "235  BENCHMARK DATA SHOULD NEVER APPEAR IN TRAINING...   \n",
      "\n",
      "                                         description_0   \n",
      "0    Question bank for the text, Duckett, Gilbert &...  \\\n",
      "1    Reactivity of monomers in cationic polymerization   \n",
      "2                          Distribution of antibiotics   \n",
      "3                            natural product synthesis   \n",
      "4    Electrochemistry questions related to redox re...   \n",
      "..                                                 ...   \n",
      "231         The pH calculation of amphoteric solutions   \n",
      "232  Average number of monomer units in each polyme...   \n",
      "233                   Comparasion of similar compounds   \n",
      "234               Question on isothermal batch reactor   \n",
      "235  Amines, Phosphines, and Pyridines characterist...   \n",
      "\n",
      "                                            keywords_0   \n",
      "0    [nuclear magnetic resonance spectroscopy, NMR,...  \\\n",
      "1    [polymer-chemistry, cationic polymerization, r...   \n",
      "2    [antibiotic, distribution, pharmacokinetics, r...   \n",
      "3    [natural product synthesis, biochemistry, requ...   \n",
      "4    [electrochemistry, hydrogen evolution, hydroge...   \n",
      "..                                                 ...   \n",
      "231  [inorganic-chemistry, general-chemistry, pH ca...   \n",
      "232  [polymer-chemistry, poly(lactic acid), monomer...   \n",
      "233  [bond angle, requires-knowledge, group 15 elem...   \n",
      "234  [technical-chemistry, requires-reasoning, batc...   \n",
      "235  [reactivity, molecules, amines, phosphines, py...   \n",
      "\n",
      "     llm_extraction_count_0  metrics_correct_classes  metrics_extra_classes   \n",
      "0                         0                      0.0                    1.0  \\\n",
      "1                         0                      0.0                    1.0   \n",
      "2                         0                      1.0                    0.0   \n",
      "3                         0                      0.0                    1.0   \n",
      "4                         0                      1.0                    0.0   \n",
      "..                      ...                      ...                    ...   \n",
      "231                       0                      0.0                    1.0   \n",
      "232                       0                      NaN                    NaN   \n",
      "233                       0                      1.0                    0.0   \n",
      "234                       0                      0.0                    1.0   \n",
      "235                       0                      1.0                    0.0   \n",
      "\n",
      "     metrics_f1  metrics_hamming  metrics_incorrect_classes   \n",
      "0      0.000000              2.0                        1.0  \\\n",
      "1      0.000000              2.0                        1.0   \n",
      "2      0.666667              0.5                        0.0   \n",
      "3      0.000000              2.0                        1.0   \n",
      "4      0.666667              0.5                        0.0   \n",
      "..          ...              ...                        ...   \n",
      "231    0.000000              2.0                        1.0   \n",
      "232         NaN              NaN                        NaN   \n",
      "233    1.000000              0.0                        0.0   \n",
      "234    0.000000              2.0                        1.0   \n",
      "235    1.000000              0.0                        0.0   \n",
      "\n",
      "     metrics_missed_classes  ...  is_analytical_chemistry  is_periodic_table   \n",
      "0                       1.0  ...                    False              False  \\\n",
      "1                       1.0  ...                    False              False   \n",
      "2                       1.0  ...                    False              False   \n",
      "3                       1.0  ...                    False              False   \n",
      "4                       1.0  ...                    False              False   \n",
      "..                      ...  ...                      ...                ...   \n",
      "231                     1.0  ...                    False              False   \n",
      "232                     NaN  ...                    False              False   \n",
      "233                     0.0  ...                    False               True   \n",
      "234                     1.0  ...                    False              False   \n",
      "235                     0.0  ...                    False              False   \n",
      "\n",
      "     is_general_chemistry_exam is_biomolecular is_xray is_materials_science   \n",
      "0                        False           False   False                False  \\\n",
      "1                        False           False   False                False   \n",
      "2                        False           False   False                False   \n",
      "3                        False           False   False                False   \n",
      "4                        False           False   False                False   \n",
      "..                         ...             ...     ...                  ...   \n",
      "231                      False           False   False                False   \n",
      "232                      False           False   False                False   \n",
      "233                      False           False   False                False   \n",
      "234                      False           False   False                False   \n",
      "235                      False           False   False                False   \n",
      "\n",
      "    is_molsim requires_calculation is_preference  is_name  \n",
      "0       False                  NaN         False    False  \n",
      "1       False                  NaN         False    False  \n",
      "2       False                  NaN         False    False  \n",
      "3       False                  NaN         False    False  \n",
      "4       False                  NaN         False    False  \n",
      "..        ...                  ...           ...      ...  \n",
      "231     False                  NaN         False    False  \n",
      "232     False                  NaN         False    False  \n",
      "233     False                  NaN         False    False  \n",
      "234     False                  NaN         False    False  \n",
      "235     False                  NaN         False    False  \n",
      "\n",
      "[236 rows x 78 columns], 'cm0kojtap0002mo0ci1t7t7x2':                                               canary_0   \n",
      "0    BENCHMARK DATA SHOULD NEVER APPEAR IN TRAINING...  \\\n",
      "1    BENCHMARK DATA SHOULD NEVER APPEAR IN TRAINING...   \n",
      "2    BENCHMARK DATA SHOULD NEVER APPEAR IN TRAINING...   \n",
      "3    BENCHMARK DATA SHOULD NEVER APPEAR IN TRAINING...   \n",
      "4    BENCHMARK DATA SHOULD NEVER APPEAR IN TRAINING...   \n",
      "..                                                 ...   \n",
      "231  BENCHMARK DATA SHOULD NEVER APPEAR IN TRAINING...   \n",
      "232  BENCHMARK DATA SHOULD NEVER APPEAR IN TRAINING...   \n",
      "233  BENCHMARK DATA SHOULD NEVER APPEAR IN TRAINING...   \n",
      "234  BENCHMARK DATA SHOULD NEVER APPEAR IN TRAINING...   \n",
      "235  BENCHMARK DATA SHOULD NEVER APPEAR IN TRAINING...   \n",
      "\n",
      "                                         description_0   \n",
      "0    Question bank for the text, Duckett, Gilbert &...  \\\n",
      "1    Reactivity of monomers in cationic polymerization   \n",
      "2                          Distribution of antibiotics   \n",
      "3                            natural product synthesis   \n",
      "4    Electrochemistry questions related to redox re...   \n",
      "..                                                 ...   \n",
      "231         The pH calculation of amphoteric solutions   \n",
      "232  Average number of monomer units in each polyme...   \n",
      "233                   Comparasion of similar compounds   \n",
      "234               Question on isothermal batch reactor   \n",
      "235  Amines, Phosphines, and Pyridines characterist...   \n",
      "\n",
      "                                            keywords_0   \n",
      "0    [nuclear magnetic resonance spectroscopy, NMR,...  \\\n",
      "1    [polymer-chemistry, cationic polymerization, r...   \n",
      "2    [antibiotic, distribution, pharmacokinetics, r...   \n",
      "3    [natural product synthesis, biochemistry, requ...   \n",
      "4    [electrochemistry, hydrogen evolution, hydroge...   \n",
      "..                                                 ...   \n",
      "231  [inorganic-chemistry, general-chemistry, pH ca...   \n",
      "232  [polymer-chemistry, poly(lactic acid), monomer...   \n",
      "233  [bond angle, requires-knowledge, group 15 elem...   \n",
      "234  [technical-chemistry, requires-reasoning, batc...   \n",
      "235  [reactivity, molecules, amines, phosphines, py...   \n",
      "\n",
      "     llm_extraction_count_0  metrics_correct_classes  metrics_extra_classes   \n",
      "0                         0                      0.0                    1.0  \\\n",
      "1                         0                      1.0                    0.0   \n",
      "2                         0                      1.0                    1.0   \n",
      "3                         0                      0.0                    1.0   \n",
      "4                         0                      0.0                    1.0   \n",
      "..                      ...                      ...                    ...   \n",
      "231                       0                      1.0                    0.0   \n",
      "232                       0                      NaN                    NaN   \n",
      "233                       0                      1.0                    0.0   \n",
      "234                       0                      0.0                    1.0   \n",
      "235                       0                      0.0                    1.0   \n",
      "\n",
      "     metrics_f1  metrics_hamming  metrics_incorrect_classes   \n",
      "0           0.0              2.0                        1.0  \\\n",
      "1           1.0              0.0                        0.0   \n",
      "2           0.5              1.0                        1.0   \n",
      "3           0.0              2.0                        1.0   \n",
      "4           0.0              1.5                        1.0   \n",
      "..          ...              ...                        ...   \n",
      "231         1.0              0.0                        0.0   \n",
      "232         NaN              NaN                        NaN   \n",
      "233         1.0              0.0                        0.0   \n",
      "234         0.0              2.0                        1.0   \n",
      "235         0.0              2.0                        1.0   \n",
      "\n",
      "     metrics_missed_classes  ...  is_analytical_chemistry  is_periodic_table   \n",
      "0                       1.0  ...                    False              False  \\\n",
      "1                       0.0  ...                    False              False   \n",
      "2                       1.0  ...                    False              False   \n",
      "3                       1.0  ...                    False              False   \n",
      "4                       2.0  ...                    False              False   \n",
      "..                      ...  ...                      ...                ...   \n",
      "231                     0.0  ...                    False              False   \n",
      "232                     NaN  ...                    False              False   \n",
      "233                     0.0  ...                    False               True   \n",
      "234                     1.0  ...                    False              False   \n",
      "235                     1.0  ...                    False              False   \n",
      "\n",
      "     is_general_chemistry_exam is_biomolecular is_xray is_materials_science   \n",
      "0                        False           False   False                False  \\\n",
      "1                        False           False   False                False   \n",
      "2                        False           False   False                False   \n",
      "3                        False           False   False                False   \n",
      "4                        False           False   False                False   \n",
      "..                         ...             ...     ...                  ...   \n",
      "231                      False           False   False                False   \n",
      "232                      False           False   False                False   \n",
      "233                      False           False   False                False   \n",
      "234                      False           False   False                False   \n",
      "235                      False           False   False                False   \n",
      "\n",
      "    is_molsim requires_calculation is_preference  is_name  \n",
      "0       False                  NaN         False    False  \n",
      "1       False                  NaN         False    False  \n",
      "2       False                  NaN         False    False  \n",
      "3       False                  NaN         False    False  \n",
      "4       False                  NaN         False    False  \n",
      "..        ...                  ...           ...      ...  \n",
      "231     False                  NaN         False    False  \n",
      "232     False                  NaN         False    False  \n",
      "233     False                  NaN         False    False  \n",
      "234     False                  NaN         False    False  \n",
      "235     False                  NaN         False    False  \n",
      "\n",
      "[236 rows x 78 columns], 'cm0z685du0000l80c8v7noz2v':                                               canary_0   \n",
      "0    BENCHMARK DATA SHOULD NEVER APPEAR IN TRAINING...  \\\n",
      "1    BENCHMARK DATA SHOULD NEVER APPEAR IN TRAINING...   \n",
      "2    BENCHMARK DATA SHOULD NEVER APPEAR IN TRAINING...   \n",
      "3    BENCHMARK DATA SHOULD NEVER APPEAR IN TRAINING...   \n",
      "4    BENCHMARK DATA SHOULD NEVER APPEAR IN TRAINING...   \n",
      "..                                                 ...   \n",
      "231  BENCHMARK DATA SHOULD NEVER APPEAR IN TRAINING...   \n",
      "232  BENCHMARK DATA SHOULD NEVER APPEAR IN TRAINING...   \n",
      "233  BENCHMARK DATA SHOULD NEVER APPEAR IN TRAINING...   \n",
      "234  BENCHMARK DATA SHOULD NEVER APPEAR IN TRAINING...   \n",
      "235  BENCHMARK DATA SHOULD NEVER APPEAR IN TRAINING...   \n",
      "\n",
      "                                         description_0   \n",
      "0    Question bank for the text, Duckett, Gilbert &...  \\\n",
      "1    Reactivity of monomers in cationic polymerization   \n",
      "2                          Distribution of antibiotics   \n",
      "3                            natural product synthesis   \n",
      "4    Electrochemistry questions related to redox re...   \n",
      "..                                                 ...   \n",
      "231         The pH calculation of amphoteric solutions   \n",
      "232  Average number of monomer units in each polyme...   \n",
      "233                   Comparasion of similar compounds   \n",
      "234               Question on isothermal batch reactor   \n",
      "235  Amines, Phosphines, and Pyridines characterist...   \n",
      "\n",
      "                                            keywords_0   \n",
      "0    [nuclear magnetic resonance spectroscopy, NMR,...  \\\n",
      "1    [polymer-chemistry, cationic polymerization, r...   \n",
      "2    [antibiotic, distribution, pharmacokinetics, r...   \n",
      "3    [natural product synthesis, biochemistry, requ...   \n",
      "4    [electrochemistry, hydrogen evolution, hydroge...   \n",
      "..                                                 ...   \n",
      "231  [inorganic-chemistry, general-chemistry, pH ca...   \n",
      "232  [polymer-chemistry, poly(lactic acid), monomer...   \n",
      "233  [bond angle, requires-knowledge, group 15 elem...   \n",
      "234  [technical-chemistry, requires-reasoning, batc...   \n",
      "235  [reactivity, molecules, amines, phosphines, py...   \n",
      "\n",
      "     llm_extraction_count_0  metrics_correct_classes  metrics_extra_classes   \n",
      "0                         0                      0.0                    1.0  \\\n",
      "1                         0                      1.0                    0.0   \n",
      "2                         0                      0.0                    1.0   \n",
      "3                         0                      0.0                    1.0   \n",
      "4                         0                      0.0                    1.0   \n",
      "..                      ...                      ...                    ...   \n",
      "231                       0                      1.0                    0.0   \n",
      "232                       0                      NaN                    NaN   \n",
      "233                       0                      1.0                    0.0   \n",
      "234                       0                      1.0                    0.0   \n",
      "235                       0                      1.0                    0.0   \n",
      "\n",
      "     metrics_f1  metrics_hamming  metrics_incorrect_classes   \n",
      "0           0.0              2.0                        1.0  \\\n",
      "1           1.0              0.0                        0.0   \n",
      "2           0.0              1.5                        1.0   \n",
      "3           0.0              2.0                        1.0   \n",
      "4           0.0              1.5                        1.0   \n",
      "..          ...              ...                        ...   \n",
      "231         1.0              0.0                        0.0   \n",
      "232         NaN              NaN                        NaN   \n",
      "233         1.0              0.0                        0.0   \n",
      "234         1.0              0.0                        0.0   \n",
      "235         1.0              0.0                        0.0   \n",
      "\n",
      "     metrics_missed_classes  ...  is_analytical_chemistry  is_periodic_table   \n",
      "0                       1.0  ...                    False              False  \\\n",
      "1                       0.0  ...                    False              False   \n",
      "2                       2.0  ...                    False              False   \n",
      "3                       1.0  ...                    False              False   \n",
      "4                       2.0  ...                    False              False   \n",
      "..                      ...  ...                      ...                ...   \n",
      "231                     0.0  ...                    False              False   \n",
      "232                     NaN  ...                    False              False   \n",
      "233                     0.0  ...                    False               True   \n",
      "234                     0.0  ...                    False              False   \n",
      "235                     0.0  ...                    False              False   \n",
      "\n",
      "     is_general_chemistry_exam is_biomolecular is_xray is_materials_science   \n",
      "0                        False           False   False                False  \\\n",
      "1                        False           False   False                False   \n",
      "2                        False           False   False                False   \n",
      "3                        False           False   False                False   \n",
      "4                        False           False   False                False   \n",
      "..                         ...             ...     ...                  ...   \n",
      "231                      False           False   False                False   \n",
      "232                      False           False   False                False   \n",
      "233                      False           False   False                False   \n",
      "234                      False           False   False                False   \n",
      "235                      False           False   False                False   \n",
      "\n",
      "    is_molsim requires_calculation is_preference  is_name  \n",
      "0       False                  NaN         False    False  \n",
      "1       False                  NaN         False    False  \n",
      "2       False                  NaN         False    False  \n",
      "3       False                  NaN         False    False  \n",
      "4       False                  NaN         False    False  \n",
      "..        ...                  ...           ...      ...  \n",
      "231     False                  NaN         False    False  \n",
      "232     False                  NaN         False    False  \n",
      "233     False                  NaN         False    False  \n",
      "234     False                  NaN         False    False  \n",
      "235     False                  NaN         False    False  \n",
      "\n",
      "[236 rows x 78 columns], 'cm0xoqwox0000jl0chjd1q61g':                                               canary_0   \n",
      "0    BENCHMARK DATA SHOULD NEVER APPEAR IN TRAINING...  \\\n",
      "1    BENCHMARK DATA SHOULD NEVER APPEAR IN TRAINING...   \n",
      "2    BENCHMARK DATA SHOULD NEVER APPEAR IN TRAINING...   \n",
      "3    BENCHMARK DATA SHOULD NEVER APPEAR IN TRAINING...   \n",
      "4    BENCHMARK DATA SHOULD NEVER APPEAR IN TRAINING...   \n",
      "..                                                 ...   \n",
      "231  BENCHMARK DATA SHOULD NEVER APPEAR IN TRAINING...   \n",
      "232  BENCHMARK DATA SHOULD NEVER APPEAR IN TRAINING...   \n",
      "233  BENCHMARK DATA SHOULD NEVER APPEAR IN TRAINING...   \n",
      "234  BENCHMARK DATA SHOULD NEVER APPEAR IN TRAINING...   \n",
      "235  BENCHMARK DATA SHOULD NEVER APPEAR IN TRAINING...   \n",
      "\n",
      "                                         description_0   \n",
      "0    Question bank for the text, Duckett, Gilbert &...  \\\n",
      "1    Reactivity of monomers in cationic polymerization   \n",
      "2                          Distribution of antibiotics   \n",
      "3                            natural product synthesis   \n",
      "4    Electrochemistry questions related to redox re...   \n",
      "..                                                 ...   \n",
      "231         The pH calculation of amphoteric solutions   \n",
      "232  Average number of monomer units in each polyme...   \n",
      "233                   Comparasion of similar compounds   \n",
      "234               Question on isothermal batch reactor   \n",
      "235  Amines, Phosphines, and Pyridines characterist...   \n",
      "\n",
      "                                            keywords_0   \n",
      "0    [nuclear magnetic resonance spectroscopy, NMR,...  \\\n",
      "1    [polymer-chemistry, cationic polymerization, r...   \n",
      "2    [antibiotic, distribution, pharmacokinetics, r...   \n",
      "3    [natural product synthesis, biochemistry, requ...   \n",
      "4    [electrochemistry, hydrogen evolution, hydroge...   \n",
      "..                                                 ...   \n",
      "231  [inorganic-chemistry, general-chemistry, pH ca...   \n",
      "232  [polymer-chemistry, poly(lactic acid), monomer...   \n",
      "233  [bond angle, requires-knowledge, group 15 elem...   \n",
      "234  [technical-chemistry, requires-reasoning, batc...   \n",
      "235  [reactivity, molecules, amines, phosphines, py...   \n",
      "\n",
      "     llm_extraction_count_0  metrics_correct_classes  metrics_extra_classes   \n",
      "0                         0                      0.0                    1.0  \\\n",
      "1                         0                      0.0                    1.0   \n",
      "2                         0                      0.0                    1.0   \n",
      "3                         0                      0.0                    1.0   \n",
      "4                         0                      1.0                    1.0   \n",
      "..                      ...                      ...                    ...   \n",
      "231                       0                      0.0                    1.0   \n",
      "232                       0                      NaN                    NaN   \n",
      "233                       0                      1.0                    0.0   \n",
      "234                       0                      0.0                    1.0   \n",
      "235                       0                      0.0                    1.0   \n",
      "\n",
      "     metrics_f1  metrics_hamming  metrics_incorrect_classes   \n",
      "0           0.0              2.0                        1.0  \\\n",
      "1           0.0              2.0                        1.0   \n",
      "2           0.0              1.5                        1.0   \n",
      "3           0.0              2.0                        1.0   \n",
      "4           0.5              1.0                        1.0   \n",
      "..          ...              ...                        ...   \n",
      "231         0.0              2.0                        1.0   \n",
      "232         NaN              NaN                        NaN   \n",
      "233         1.0              0.0                        0.0   \n",
      "234         0.0              2.0                        1.0   \n",
      "235         0.0              2.0                        1.0   \n",
      "\n",
      "     metrics_missed_classes  ...  is_analytical_chemistry  is_periodic_table   \n",
      "0                       1.0  ...                    False              False  \\\n",
      "1                       1.0  ...                    False              False   \n",
      "2                       2.0  ...                    False              False   \n",
      "3                       1.0  ...                    False              False   \n",
      "4                       1.0  ...                    False              False   \n",
      "..                      ...  ...                      ...                ...   \n",
      "231                     1.0  ...                    False              False   \n",
      "232                     NaN  ...                    False              False   \n",
      "233                     0.0  ...                    False               True   \n",
      "234                     1.0  ...                    False              False   \n",
      "235                     1.0  ...                    False              False   \n",
      "\n",
      "     is_general_chemistry_exam is_biomolecular is_xray is_materials_science   \n",
      "0                        False           False   False                False  \\\n",
      "1                        False           False   False                False   \n",
      "2                        False           False   False                False   \n",
      "3                        False           False   False                False   \n",
      "4                        False           False   False                False   \n",
      "..                         ...             ...     ...                  ...   \n",
      "231                      False           False   False                False   \n",
      "232                      False           False   False                False   \n",
      "233                      False           False   False                False   \n",
      "234                      False           False   False                False   \n",
      "235                      False           False   False                False   \n",
      "\n",
      "    is_molsim requires_calculation is_preference  is_name  \n",
      "0       False                  NaN         False    False  \n",
      "1       False                  NaN         False    False  \n",
      "2       False                  NaN         False    False  \n",
      "3       False                  NaN         False    False  \n",
      "4       False                  NaN         False    False  \n",
      "..        ...                  ...           ...      ...  \n",
      "231     False                  NaN         False    False  \n",
      "232     False                  NaN         False    False  \n",
      "233     False                  NaN         False    False  \n",
      "234     False                  NaN         False    False  \n",
      "235     False                  NaN         False    False  \n",
      "\n",
      "[236 rows x 78 columns], 'cm0zfxzpm0000ld0cy4b0nbt9':                                               canary_0   \n",
      "0    BENCHMARK DATA SHOULD NEVER APPEAR IN TRAINING...  \\\n",
      "1    BENCHMARK DATA SHOULD NEVER APPEAR IN TRAINING...   \n",
      "2    BENCHMARK DATA SHOULD NEVER APPEAR IN TRAINING...   \n",
      "3    BENCHMARK DATA SHOULD NEVER APPEAR IN TRAINING...   \n",
      "4    BENCHMARK DATA SHOULD NEVER APPEAR IN TRAINING...   \n",
      "..                                                 ...   \n",
      "231  BENCHMARK DATA SHOULD NEVER APPEAR IN TRAINING...   \n",
      "232  BENCHMARK DATA SHOULD NEVER APPEAR IN TRAINING...   \n",
      "233  BENCHMARK DATA SHOULD NEVER APPEAR IN TRAINING...   \n",
      "234  BENCHMARK DATA SHOULD NEVER APPEAR IN TRAINING...   \n",
      "235  BENCHMARK DATA SHOULD NEVER APPEAR IN TRAINING...   \n",
      "\n",
      "                                         description_0   \n",
      "0    Question bank for the text, Duckett, Gilbert &...  \\\n",
      "1    Reactivity of monomers in cationic polymerization   \n",
      "2                          Distribution of antibiotics   \n",
      "3                            natural product synthesis   \n",
      "4    Electrochemistry questions related to redox re...   \n",
      "..                                                 ...   \n",
      "231         The pH calculation of amphoteric solutions   \n",
      "232  Average number of monomer units in each polyme...   \n",
      "233                   Comparasion of similar compounds   \n",
      "234               Question on isothermal batch reactor   \n",
      "235  Amines, Phosphines, and Pyridines characterist...   \n",
      "\n",
      "                                            keywords_0   \n",
      "0    [nuclear magnetic resonance spectroscopy, NMR,...  \\\n",
      "1    [polymer-chemistry, cationic polymerization, r...   \n",
      "2    [antibiotic, distribution, pharmacokinetics, r...   \n",
      "3    [natural product synthesis, biochemistry, requ...   \n",
      "4    [electrochemistry, hydrogen evolution, hydroge...   \n",
      "..                                                 ...   \n",
      "231  [inorganic-chemistry, general-chemistry, pH ca...   \n",
      "232  [polymer-chemistry, poly(lactic acid), monomer...   \n",
      "233  [bond angle, requires-knowledge, group 15 elem...   \n",
      "234  [technical-chemistry, requires-reasoning, batc...   \n",
      "235  [reactivity, molecules, amines, phosphines, py...   \n",
      "\n",
      "     llm_extraction_count_0  metrics_correct_classes  metrics_extra_classes   \n",
      "0                         0                      1.0                    0.0  \\\n",
      "1                         0                      0.0                    1.0   \n",
      "2                         0                      0.0                    1.0   \n",
      "3                         0                      0.0                    1.0   \n",
      "4                         0                      1.0                    1.0   \n",
      "..                      ...                      ...                    ...   \n",
      "231                       0                      0.0                    1.0   \n",
      "232                       0                      NaN                    NaN   \n",
      "233                       0                      0.0                    1.0   \n",
      "234                       0                      1.0                    0.0   \n",
      "235                       0                      1.0                    0.0   \n",
      "\n",
      "     metrics_f1  metrics_hamming  metrics_incorrect_classes   \n",
      "0           1.0              0.0                        0.0  \\\n",
      "1           0.0              2.0                        1.0   \n",
      "2           0.0              1.5                        1.0   \n",
      "3           0.0              2.0                        1.0   \n",
      "4           0.5              1.0                        1.0   \n",
      "..          ...              ...                        ...   \n",
      "231         0.0              2.0                        1.0   \n",
      "232         NaN              NaN                        NaN   \n",
      "233         0.0              2.0                        1.0   \n",
      "234         1.0              0.0                        0.0   \n",
      "235         1.0              0.0                        0.0   \n",
      "\n",
      "     metrics_missed_classes  ...  is_analytical_chemistry  is_periodic_table   \n",
      "0                       0.0  ...                    False              False  \\\n",
      "1                       1.0  ...                    False              False   \n",
      "2                       2.0  ...                    False              False   \n",
      "3                       1.0  ...                    False              False   \n",
      "4                       1.0  ...                    False              False   \n",
      "..                      ...  ...                      ...                ...   \n",
      "231                     1.0  ...                    False              False   \n",
      "232                     NaN  ...                    False              False   \n",
      "233                     1.0  ...                    False               True   \n",
      "234                     0.0  ...                    False              False   \n",
      "235                     0.0  ...                    False              False   \n",
      "\n",
      "     is_general_chemistry_exam is_biomolecular is_xray is_materials_science   \n",
      "0                        False           False   False                False  \\\n",
      "1                        False           False   False                False   \n",
      "2                        False           False   False                False   \n",
      "3                        False           False   False                False   \n",
      "4                        False           False   False                False   \n",
      "..                         ...             ...     ...                  ...   \n",
      "231                      False           False   False                False   \n",
      "232                      False           False   False                False   \n",
      "233                      False           False   False                False   \n",
      "234                      False           False   False                False   \n",
      "235                      False           False   False                False   \n",
      "\n",
      "    is_molsim requires_calculation is_preference  is_name  \n",
      "0       False                  NaN         False    False  \n",
      "1       False                  NaN         False    False  \n",
      "2       False                  NaN         False    False  \n",
      "3       False                  NaN         False    False  \n",
      "4       False                  NaN         False    False  \n",
      "..        ...                  ...           ...      ...  \n",
      "231     False                  NaN         False    False  \n",
      "232     False                  NaN         False    False  \n",
      "233     False                  NaN         False    False  \n",
      "234     False                  NaN         False    False  \n",
      "235     False                  NaN         False    False  \n",
      "\n",
      "[236 rows x 78 columns], 'cm15b5wsh0000lb0ckv8uhpjf':                                               canary_0   \n",
      "0    BENCHMARK DATA SHOULD NEVER APPEAR IN TRAINING...  \\\n",
      "1    BENCHMARK DATA SHOULD NEVER APPEAR IN TRAINING...   \n",
      "2    BENCHMARK DATA SHOULD NEVER APPEAR IN TRAINING...   \n",
      "3    BENCHMARK DATA SHOULD NEVER APPEAR IN TRAINING...   \n",
      "4    BENCHMARK DATA SHOULD NEVER APPEAR IN TRAINING...   \n",
      "..                                                 ...   \n",
      "231  BENCHMARK DATA SHOULD NEVER APPEAR IN TRAINING...   \n",
      "232  BENCHMARK DATA SHOULD NEVER APPEAR IN TRAINING...   \n",
      "233  BENCHMARK DATA SHOULD NEVER APPEAR IN TRAINING...   \n",
      "234  BENCHMARK DATA SHOULD NEVER APPEAR IN TRAINING...   \n",
      "235  BENCHMARK DATA SHOULD NEVER APPEAR IN TRAINING...   \n",
      "\n",
      "                                         description_0   \n",
      "0    Question bank for the text, Duckett, Gilbert &...  \\\n",
      "1    Reactivity of monomers in cationic polymerization   \n",
      "2                          Distribution of antibiotics   \n",
      "3                            natural product synthesis   \n",
      "4    Electrochemistry questions related to redox re...   \n",
      "..                                                 ...   \n",
      "231         The pH calculation of amphoteric solutions   \n",
      "232  Average number of monomer units in each polyme...   \n",
      "233                   Comparasion of similar compounds   \n",
      "234               Question on isothermal batch reactor   \n",
      "235  Amines, Phosphines, and Pyridines characterist...   \n",
      "\n",
      "                                            keywords_0   \n",
      "0    [nuclear magnetic resonance spectroscopy, NMR,...  \\\n",
      "1    [polymer-chemistry, cationic polymerization, r...   \n",
      "2    [antibiotic, distribution, pharmacokinetics, r...   \n",
      "3    [natural product synthesis, biochemistry, requ...   \n",
      "4    [electrochemistry, hydrogen evolution, hydroge...   \n",
      "..                                                 ...   \n",
      "231  [inorganic-chemistry, general-chemistry, pH ca...   \n",
      "232  [polymer-chemistry, poly(lactic acid), monomer...   \n",
      "233  [bond angle, requires-knowledge, group 15 elem...   \n",
      "234  [technical-chemistry, requires-reasoning, batc...   \n",
      "235  [reactivity, molecules, amines, phosphines, py...   \n",
      "\n",
      "     llm_extraction_count_0  metrics_correct_classes  metrics_extra_classes   \n",
      "0                         0                      0.0                    1.0  \\\n",
      "1                         0                      0.0                    1.0   \n",
      "2                         0                      1.0                    0.0   \n",
      "3                         0                      1.0                    0.0   \n",
      "4                         0                      0.0                    1.0   \n",
      "..                      ...                      ...                    ...   \n",
      "231                       0                      0.0                    1.0   \n",
      "232                       0                      NaN                    NaN   \n",
      "233                       0                      1.0                    0.0   \n",
      "234                       0                      0.0                    1.0   \n",
      "235                       0                      1.0                    0.0   \n",
      "\n",
      "     metrics_f1  metrics_hamming  metrics_incorrect_classes   \n",
      "0      0.000000              2.0                        1.0  \\\n",
      "1      0.000000              2.0                        1.0   \n",
      "2      0.666667              0.5                        0.0   \n",
      "3      1.000000              0.0                        0.0   \n",
      "4      0.000000              1.5                        1.0   \n",
      "..          ...              ...                        ...   \n",
      "231    0.000000              2.0                        1.0   \n",
      "232         NaN              NaN                        NaN   \n",
      "233    1.000000              0.0                        0.0   \n",
      "234    0.000000              2.0                        1.0   \n",
      "235    1.000000              0.0                        0.0   \n",
      "\n",
      "     metrics_missed_classes  ...  is_analytical_chemistry  is_periodic_table   \n",
      "0                       1.0  ...                    False              False  \\\n",
      "1                       1.0  ...                    False              False   \n",
      "2                       1.0  ...                    False              False   \n",
      "3                       0.0  ...                    False              False   \n",
      "4                       2.0  ...                    False              False   \n",
      "..                      ...  ...                      ...                ...   \n",
      "231                     1.0  ...                    False              False   \n",
      "232                     NaN  ...                    False              False   \n",
      "233                     0.0  ...                    False               True   \n",
      "234                     1.0  ...                    False              False   \n",
      "235                     0.0  ...                    False              False   \n",
      "\n",
      "     is_general_chemistry_exam is_biomolecular is_xray is_materials_science   \n",
      "0                        False           False   False                False  \\\n",
      "1                        False           False   False                False   \n",
      "2                        False           False   False                False   \n",
      "3                        False           False   False                False   \n",
      "4                        False           False   False                False   \n",
      "..                         ...             ...     ...                  ...   \n",
      "231                      False           False   False                False   \n",
      "232                      False           False   False                False   \n",
      "233                      False           False   False                False   \n",
      "234                      False           False   False                False   \n",
      "235                      False           False   False                False   \n",
      "\n",
      "    is_molsim requires_calculation is_preference  is_name  \n",
      "0       False                  NaN         False    False  \n",
      "1       False                  NaN         False    False  \n",
      "2       False                  NaN         False    False  \n",
      "3       False                  NaN         False    False  \n",
      "4       False                  NaN         False    False  \n",
      "..        ...                  ...           ...      ...  \n",
      "231     False                  NaN         False    False  \n",
      "232     False                  NaN         False    False  \n",
      "233     False                  NaN         False    False  \n",
      "234     False                  NaN         False    False  \n",
      "235     False                  NaN         False    False  \n",
      "\n",
      "[236 rows x 78 columns], 'cm0l3ge7w0000k30cv1s2obzi':                                               canary_0   \n",
      "0    BENCHMARK DATA SHOULD NEVER APPEAR IN TRAINING...  \\\n",
      "1    BENCHMARK DATA SHOULD NEVER APPEAR IN TRAINING...   \n",
      "2    BENCHMARK DATA SHOULD NEVER APPEAR IN TRAINING...   \n",
      "3    BENCHMARK DATA SHOULD NEVER APPEAR IN TRAINING...   \n",
      "4    BENCHMARK DATA SHOULD NEVER APPEAR IN TRAINING...   \n",
      "..                                                 ...   \n",
      "231  BENCHMARK DATA SHOULD NEVER APPEAR IN TRAINING...   \n",
      "232  BENCHMARK DATA SHOULD NEVER APPEAR IN TRAINING...   \n",
      "233  BENCHMARK DATA SHOULD NEVER APPEAR IN TRAINING...   \n",
      "234  BENCHMARK DATA SHOULD NEVER APPEAR IN TRAINING...   \n",
      "235  BENCHMARK DATA SHOULD NEVER APPEAR IN TRAINING...   \n",
      "\n",
      "                                         description_0   \n",
      "0    Question bank for the text, Duckett, Gilbert &...  \\\n",
      "1    Reactivity of monomers in cationic polymerization   \n",
      "2                          Distribution of antibiotics   \n",
      "3                            natural product synthesis   \n",
      "4    Electrochemistry questions related to redox re...   \n",
      "..                                                 ...   \n",
      "231         The pH calculation of amphoteric solutions   \n",
      "232  Average number of monomer units in each polyme...   \n",
      "233                   Comparasion of similar compounds   \n",
      "234               Question on isothermal batch reactor   \n",
      "235  Amines, Phosphines, and Pyridines characterist...   \n",
      "\n",
      "                                            keywords_0   \n",
      "0    [nuclear magnetic resonance spectroscopy, NMR,...  \\\n",
      "1    [polymer-chemistry, cationic polymerization, r...   \n",
      "2    [antibiotic, distribution, pharmacokinetics, r...   \n",
      "3    [natural product synthesis, biochemistry, requ...   \n",
      "4    [electrochemistry, hydrogen evolution, hydroge...   \n",
      "..                                                 ...   \n",
      "231  [inorganic-chemistry, general-chemistry, pH ca...   \n",
      "232  [polymer-chemistry, poly(lactic acid), monomer...   \n",
      "233  [bond angle, requires-knowledge, group 15 elem...   \n",
      "234  [technical-chemistry, requires-reasoning, batc...   \n",
      "235  [reactivity, molecules, amines, phosphines, py...   \n",
      "\n",
      "     llm_extraction_count_0  metrics_correct_classes  metrics_extra_classes   \n",
      "0                         0                      0.0                    1.0  \\\n",
      "1                         0                      0.0                    1.0   \n",
      "2                         0                      1.0                    1.0   \n",
      "3                         0                      0.0                    1.0   \n",
      "4                         0                      1.0                    1.0   \n",
      "..                      ...                      ...                    ...   \n",
      "231                       0                      1.0                    0.0   \n",
      "232                       0                      NaN                    NaN   \n",
      "233                       0                      1.0                    0.0   \n",
      "234                       0                      0.0                    1.0   \n",
      "235                       0                      1.0                    1.0   \n",
      "\n",
      "     metrics_f1  metrics_hamming  metrics_incorrect_classes   \n",
      "0      0.000000              2.0                        1.0  \\\n",
      "1      0.000000              2.0                        1.0   \n",
      "2      0.500000              1.0                        1.0   \n",
      "3      0.000000              2.0                        1.0   \n",
      "4      0.500000              1.0                        1.0   \n",
      "..          ...              ...                        ...   \n",
      "231    1.000000              0.0                        0.0   \n",
      "232         NaN              NaN                        NaN   \n",
      "233    1.000000              0.0                        0.0   \n",
      "234    0.000000              2.0                        1.0   \n",
      "235    0.666667              1.0                        1.0   \n",
      "\n",
      "     metrics_missed_classes  ...  is_analytical_chemistry  is_periodic_table   \n",
      "0                       1.0  ...                    False              False  \\\n",
      "1                       1.0  ...                    False              False   \n",
      "2                       1.0  ...                    False              False   \n",
      "3                       1.0  ...                    False              False   \n",
      "4                       1.0  ...                    False              False   \n",
      "..                      ...  ...                      ...                ...   \n",
      "231                     0.0  ...                    False              False   \n",
      "232                     NaN  ...                    False              False   \n",
      "233                     0.0  ...                    False               True   \n",
      "234                     1.0  ...                    False              False   \n",
      "235                     0.0  ...                    False              False   \n",
      "\n",
      "     is_general_chemistry_exam is_biomolecular is_xray is_materials_science   \n",
      "0                        False           False   False                False  \\\n",
      "1                        False           False   False                False   \n",
      "2                        False           False   False                False   \n",
      "3                        False           False   False                False   \n",
      "4                        False           False   False                False   \n",
      "..                         ...             ...     ...                  ...   \n",
      "231                      False           False   False                False   \n",
      "232                      False           False   False                False   \n",
      "233                      False           False   False                False   \n",
      "234                      False           False   False                False   \n",
      "235                      False           False   False                False   \n",
      "\n",
      "    is_molsim requires_calculation is_preference  is_name  \n",
      "0       False                  NaN         False    False  \n",
      "1       False                  NaN         False    False  \n",
      "2       False                  NaN         False    False  \n",
      "3       False                  NaN         False    False  \n",
      "4       False                  NaN         False    False  \n",
      "..        ...                  ...           ...      ...  \n",
      "231     False                  NaN         False    False  \n",
      "232     False                  NaN         False    False  \n",
      "233     False                  NaN         False    False  \n",
      "234     False                  NaN         False    False  \n",
      "235     False                  NaN         False    False  \n",
      "\n",
      "[236 rows x 78 columns]}, 'topic_mean':                       all_correct_\n",
      "topic                             \n",
      "Analytical Chemistry      0.293860\n",
      "General Chemistry         0.408907\n",
      "Inorganic Chemistry       0.289474\n",
      "Materials Science         0.236842\n",
      "Organic Chemistry         0.300915\n",
      "Physical Chemistry        0.218501\n",
      "Technical Chemistry       0.196796\n",
      "Toxicity/Safety           0.221053}\n"
     ]
    }
   ],
   "source": [
    "with open('../data/humans_as_models_scores_combined.pkl', 'rb') as f:\n",
    "    human_score = pickle.load(f)\n",
    "    \n",
    "print(human_score)"
   ]
  },
  {
   "cell_type": "code",
   "execution_count": 212,
   "outputs": [
    {
     "name": "stdout",
     "output_type": "stream",
     "text": [
      "Topic 'Toxicity/Safety': Matrix shape (460, 22)\n",
      "Topic 'Organic Chemistry': Matrix shape (288, 22)\n",
      "Topic 'Inorganic Chemistry': Matrix shape (39, 22)\n",
      "Topic 'Materials Science': Matrix shape (62, 22)\n",
      "Topic 'Physical Chemistry': Matrix shape (71, 22)\n",
      "Topic 'Analytical Chemistry': Matrix shape (82, 22)\n",
      "Topic 'General Chemistry': Matrix shape (86, 22)\n",
      "Topic 'Technical Chemistry': Matrix shape (28, 22)\n"
     ]
    }
   ],
   "source": [
    "# Get list of all models and extract unique topics from first model\n",
    "models = list(model_score_dicts['overall'].keys())\n",
    "sample_model = models[0]  # Use first model to get topics\n",
    "unique_topics = model_score_dicts['overall'][sample_model]['topic'].unique()\n",
    "\n",
    "# Dictionary to store binary matrices for each topic\n",
    "topic_binary_matrices = {}\n",
    "\n",
    "for topic in unique_topics:\n",
    "    # Filter data for current topic\n",
    "    topic_indices = model_score_dicts['overall'][sample_model]['topic'] == topic\n",
    "    \n",
    "    # Create binary matrix for this topic\n",
    "    # Rows: number of questions in topic, Columns: number of models\n",
    "    topic_matrix = np.zeros((topic_indices.sum(), len(models)))\n",
    "    \n",
    "    for i, model in enumerate(models):\n",
    "        # Get 'all_correct_' values for current topic and model\n",
    "        topic_correct_values = model_score_dicts['overall'][model]['all_correct_'][topic_indices]\n",
    "        topic_matrix[:,i] = topic_correct_values.values\n",
    "    \n",
    "    # Convert to DataFrame with model names as columns and store in dictionary\n",
    "    topic_binary_matrices[topic] = pd.DataFrame(topic_matrix, columns=models)\n",
    "    print(f\"Topic '{topic}': Matrix shape {topic_binary_matrices[topic].shape}\")\n"
   ],
   "metadata": {
    "collapsed": false,
    "ExecuteTime": {
     "end_time": "2025-01-30T12:39:37.117129Z",
     "start_time": "2025-01-30T12:39:37.079926Z"
    }
   }
  },
  {
   "cell_type": "code",
   "execution_count": 218,
   "outputs": [
    {
     "name": "stdout",
     "output_type": "stream",
     "text": [
      "Fitting 2PL model for topic: Toxicity/Safety\n",
      "Array shape: (22, 460)\n"
     ]
    },
    {
     "name": "stderr",
     "output_type": "stream",
     "text": [
      "Initializing NUTS using jitter+adapt_diag...\n",
      "Sequential sampling (4 chains in 1 job)\n",
      "NUTS: [abilities, discriminations, difficulties]\n"
     ]
    },
    {
     "data": {
      "text/plain": "Output()",
      "application/vnd.jupyter.widget-view+json": {
       "version_major": 2,
       "version_minor": 0,
       "model_id": "b0c52405c77a46c5ba411a8c8e2f0279"
      }
     },
     "metadata": {},
     "output_type": "display_data"
    },
    {
     "data": {
      "text/plain": "",
      "text/html": "<pre style=\"white-space:pre;overflow-x:auto;line-height:normal;font-family:Menlo,'DejaVu Sans Mono',consolas,'Courier New',monospace\"></pre>\n"
     },
     "metadata": {},
     "output_type": "display_data"
    },
    {
     "data": {
      "text/plain": "\n",
      "text/html": "<pre style=\"white-space:pre;overflow-x:auto;line-height:normal;font-family:Menlo,'DejaVu Sans Mono',consolas,'Courier New',monospace\">\n</pre>\n"
     },
     "metadata": {},
     "output_type": "display_data"
    },
    {
     "data": {
      "text/plain": "Output()",
      "application/vnd.jupyter.widget-view+json": {
       "version_major": 2,
       "version_minor": 0,
       "model_id": "31ff3862d339420db53706feae1e35ff"
      }
     },
     "metadata": {},
     "output_type": "display_data"
    },
    {
     "data": {
      "text/plain": "",
      "text/html": "<pre style=\"white-space:pre;overflow-x:auto;line-height:normal;font-family:Menlo,'DejaVu Sans Mono',consolas,'Courier New',monospace\"></pre>\n"
     },
     "metadata": {},
     "output_type": "display_data"
    },
    {
     "data": {
      "text/plain": "\n",
      "text/html": "<pre style=\"white-space:pre;overflow-x:auto;line-height:normal;font-family:Menlo,'DejaVu Sans Mono',consolas,'Courier New',monospace\">\n</pre>\n"
     },
     "metadata": {},
     "output_type": "display_data"
    },
    {
     "data": {
      "text/plain": "Output()",
      "application/vnd.jupyter.widget-view+json": {
       "version_major": 2,
       "version_minor": 0,
       "model_id": "3ad80c1da7db40749ce42b412cb9bf32"
      }
     },
     "metadata": {},
     "output_type": "display_data"
    },
    {
     "data": {
      "text/plain": "",
      "text/html": "<pre style=\"white-space:pre;overflow-x:auto;line-height:normal;font-family:Menlo,'DejaVu Sans Mono',consolas,'Courier New',monospace\"></pre>\n"
     },
     "metadata": {},
     "output_type": "display_data"
    },
    {
     "data": {
      "text/plain": "\n",
      "text/html": "<pre style=\"white-space:pre;overflow-x:auto;line-height:normal;font-family:Menlo,'DejaVu Sans Mono',consolas,'Courier New',monospace\">\n</pre>\n"
     },
     "metadata": {},
     "output_type": "display_data"
    },
    {
     "data": {
      "text/plain": "Output()",
      "application/vnd.jupyter.widget-view+json": {
       "version_major": 2,
       "version_minor": 0,
       "model_id": "732eabe95b5e4685b66b838454ea635e"
      }
     },
     "metadata": {},
     "output_type": "display_data"
    },
    {
     "data": {
      "text/plain": "",
      "text/html": "<pre style=\"white-space:pre;overflow-x:auto;line-height:normal;font-family:Menlo,'DejaVu Sans Mono',consolas,'Courier New',monospace\"></pre>\n"
     },
     "metadata": {},
     "output_type": "display_data"
    },
    {
     "data": {
      "text/plain": "\n",
      "text/html": "<pre style=\"white-space:pre;overflow-x:auto;line-height:normal;font-family:Menlo,'DejaVu Sans Mono',consolas,'Courier New',monospace\">\n</pre>\n"
     },
     "metadata": {},
     "output_type": "display_data"
    },
    {
     "name": "stderr",
     "output_type": "stream",
     "text": [
      "Sampling 4 chains for 2_000 tune and 2_000 draw iterations (8_000 + 8_000 draws total) took 466 seconds.\n"
     ]
    },
    {
     "name": "stdout",
     "output_type": "stream",
     "text": [
      "Completed fitting for topic: Toxicity/Safety\n",
      "\n",
      "Fitting 2PL model for topic: Organic Chemistry\n",
      "Array shape: (22, 288)\n"
     ]
    },
    {
     "name": "stderr",
     "output_type": "stream",
     "text": [
      "Initializing NUTS using jitter+adapt_diag...\n",
      "Sequential sampling (4 chains in 1 job)\n",
      "NUTS: [abilities, discriminations, difficulties]\n"
     ]
    },
    {
     "data": {
      "text/plain": "Output()",
      "application/vnd.jupyter.widget-view+json": {
       "version_major": 2,
       "version_minor": 0,
       "model_id": "15b4f7deb6c1459581f35a38ecd9954b"
      }
     },
     "metadata": {},
     "output_type": "display_data"
    },
    {
     "data": {
      "text/plain": "",
      "text/html": "<pre style=\"white-space:pre;overflow-x:auto;line-height:normal;font-family:Menlo,'DejaVu Sans Mono',consolas,'Courier New',monospace\"></pre>\n"
     },
     "metadata": {},
     "output_type": "display_data"
    },
    {
     "data": {
      "text/plain": "\n",
      "text/html": "<pre style=\"white-space:pre;overflow-x:auto;line-height:normal;font-family:Menlo,'DejaVu Sans Mono',consolas,'Courier New',monospace\">\n</pre>\n"
     },
     "metadata": {},
     "output_type": "display_data"
    },
    {
     "data": {
      "text/plain": "Output()",
      "application/vnd.jupyter.widget-view+json": {
       "version_major": 2,
       "version_minor": 0,
       "model_id": "fa16a9a41ff04130a35543e13bd54a9a"
      }
     },
     "metadata": {},
     "output_type": "display_data"
    },
    {
     "data": {
      "text/plain": "",
      "text/html": "<pre style=\"white-space:pre;overflow-x:auto;line-height:normal;font-family:Menlo,'DejaVu Sans Mono',consolas,'Courier New',monospace\"></pre>\n"
     },
     "metadata": {},
     "output_type": "display_data"
    },
    {
     "data": {
      "text/plain": "\n",
      "text/html": "<pre style=\"white-space:pre;overflow-x:auto;line-height:normal;font-family:Menlo,'DejaVu Sans Mono',consolas,'Courier New',monospace\">\n</pre>\n"
     },
     "metadata": {},
     "output_type": "display_data"
    },
    {
     "data": {
      "text/plain": "Output()",
      "application/vnd.jupyter.widget-view+json": {
       "version_major": 2,
       "version_minor": 0,
       "model_id": "0c9a51efbbe043348ae3d38fc03b77d5"
      }
     },
     "metadata": {},
     "output_type": "display_data"
    },
    {
     "data": {
      "text/plain": "",
      "text/html": "<pre style=\"white-space:pre;overflow-x:auto;line-height:normal;font-family:Menlo,'DejaVu Sans Mono',consolas,'Courier New',monospace\"></pre>\n"
     },
     "metadata": {},
     "output_type": "display_data"
    },
    {
     "data": {
      "text/plain": "\n",
      "text/html": "<pre style=\"white-space:pre;overflow-x:auto;line-height:normal;font-family:Menlo,'DejaVu Sans Mono',consolas,'Courier New',monospace\">\n</pre>\n"
     },
     "metadata": {},
     "output_type": "display_data"
    },
    {
     "data": {
      "text/plain": "Output()",
      "application/vnd.jupyter.widget-view+json": {
       "version_major": 2,
       "version_minor": 0,
       "model_id": "7940a8cc1ad24c139b6a863221d09544"
      }
     },
     "metadata": {},
     "output_type": "display_data"
    },
    {
     "data": {
      "text/plain": "",
      "text/html": "<pre style=\"white-space:pre;overflow-x:auto;line-height:normal;font-family:Menlo,'DejaVu Sans Mono',consolas,'Courier New',monospace\"></pre>\n"
     },
     "metadata": {},
     "output_type": "display_data"
    },
    {
     "data": {
      "text/plain": "\n",
      "text/html": "<pre style=\"white-space:pre;overflow-x:auto;line-height:normal;font-family:Menlo,'DejaVu Sans Mono',consolas,'Courier New',monospace\">\n</pre>\n"
     },
     "metadata": {},
     "output_type": "display_data"
    },
    {
     "name": "stderr",
     "output_type": "stream",
     "text": [
      "Sampling 3 chains for 2_000 tune and 2_000 draw iterations (6_000 + 6_000 draws total) took 258 seconds.\n",
      "We recommend running at least 4 chains for robust computation of convergence diagnostics\n"
     ]
    },
    {
     "name": "stdout",
     "output_type": "stream",
     "text": [
      "Completed fitting for topic: Organic Chemistry\n",
      "\n",
      "Fitting 2PL model for topic: Inorganic Chemistry\n",
      "Array shape: (22, 39)\n"
     ]
    },
    {
     "name": "stderr",
     "output_type": "stream",
     "text": [
      "Initializing NUTS using jitter+adapt_diag...\n",
      "Sequential sampling (4 chains in 1 job)\n",
      "NUTS: [abilities, discriminations, difficulties]\n"
     ]
    },
    {
     "data": {
      "text/plain": "Output()",
      "application/vnd.jupyter.widget-view+json": {
       "version_major": 2,
       "version_minor": 0,
       "model_id": "e5a4daf185ca4551abdf911e8b53b980"
      }
     },
     "metadata": {},
     "output_type": "display_data"
    },
    {
     "data": {
      "text/plain": "",
      "text/html": "<pre style=\"white-space:pre;overflow-x:auto;line-height:normal;font-family:Menlo,'DejaVu Sans Mono',consolas,'Courier New',monospace\"></pre>\n"
     },
     "metadata": {},
     "output_type": "display_data"
    },
    {
     "data": {
      "text/plain": "\n",
      "text/html": "<pre style=\"white-space:pre;overflow-x:auto;line-height:normal;font-family:Menlo,'DejaVu Sans Mono',consolas,'Courier New',monospace\">\n</pre>\n"
     },
     "metadata": {},
     "output_type": "display_data"
    },
    {
     "data": {
      "text/plain": "Output()",
      "application/vnd.jupyter.widget-view+json": {
       "version_major": 2,
       "version_minor": 0,
       "model_id": "8cda6c4f01e24b24b75838af4dddd371"
      }
     },
     "metadata": {},
     "output_type": "display_data"
    },
    {
     "data": {
      "text/plain": "",
      "text/html": "<pre style=\"white-space:pre;overflow-x:auto;line-height:normal;font-family:Menlo,'DejaVu Sans Mono',consolas,'Courier New',monospace\"></pre>\n"
     },
     "metadata": {},
     "output_type": "display_data"
    },
    {
     "data": {
      "text/plain": "\n",
      "text/html": "<pre style=\"white-space:pre;overflow-x:auto;line-height:normal;font-family:Menlo,'DejaVu Sans Mono',consolas,'Courier New',monospace\">\n</pre>\n"
     },
     "metadata": {},
     "output_type": "display_data"
    },
    {
     "data": {
      "text/plain": "Output()",
      "application/vnd.jupyter.widget-view+json": {
       "version_major": 2,
       "version_minor": 0,
       "model_id": "a5fe5c0257184dec8b229baed923aba6"
      }
     },
     "metadata": {},
     "output_type": "display_data"
    },
    {
     "data": {
      "text/plain": "",
      "text/html": "<pre style=\"white-space:pre;overflow-x:auto;line-height:normal;font-family:Menlo,'DejaVu Sans Mono',consolas,'Courier New',monospace\"></pre>\n"
     },
     "metadata": {},
     "output_type": "display_data"
    },
    {
     "data": {
      "text/plain": "\n",
      "text/html": "<pre style=\"white-space:pre;overflow-x:auto;line-height:normal;font-family:Menlo,'DejaVu Sans Mono',consolas,'Courier New',monospace\">\n</pre>\n"
     },
     "metadata": {},
     "output_type": "display_data"
    },
    {
     "data": {
      "text/plain": "Output()",
      "application/vnd.jupyter.widget-view+json": {
       "version_major": 2,
       "version_minor": 0,
       "model_id": "e2cf311b28c3487c8ce136d60f703794"
      }
     },
     "metadata": {},
     "output_type": "display_data"
    },
    {
     "data": {
      "text/plain": "",
      "text/html": "<pre style=\"white-space:pre;overflow-x:auto;line-height:normal;font-family:Menlo,'DejaVu Sans Mono',consolas,'Courier New',monospace\"></pre>\n"
     },
     "metadata": {},
     "output_type": "display_data"
    },
    {
     "data": {
      "text/plain": "\n",
      "text/html": "<pre style=\"white-space:pre;overflow-x:auto;line-height:normal;font-family:Menlo,'DejaVu Sans Mono',consolas,'Courier New',monospace\">\n</pre>\n"
     },
     "metadata": {},
     "output_type": "display_data"
    },
    {
     "name": "stderr",
     "output_type": "stream",
     "text": [
      "Sampling 4 chains for 2_000 tune and 2_000 draw iterations (8_000 + 8_000 draws total) took 29 seconds.\n",
      "Initializing NUTS using jitter+adapt_diag...\n"
     ]
    },
    {
     "name": "stdout",
     "output_type": "stream",
     "text": [
      "Completed fitting for topic: Inorganic Chemistry\n",
      "\n",
      "Fitting 2PL model for topic: Materials Science\n",
      "Array shape: (22, 62)\n"
     ]
    },
    {
     "name": "stderr",
     "output_type": "stream",
     "text": [
      "Sequential sampling (4 chains in 1 job)\n",
      "NUTS: [abilities, discriminations, difficulties]\n"
     ]
    },
    {
     "data": {
      "text/plain": "Output()",
      "application/vnd.jupyter.widget-view+json": {
       "version_major": 2,
       "version_minor": 0,
       "model_id": "36f6d44e58eb4fc09641a4f6fa5a03b3"
      }
     },
     "metadata": {},
     "output_type": "display_data"
    },
    {
     "data": {
      "text/plain": "",
      "text/html": "<pre style=\"white-space:pre;overflow-x:auto;line-height:normal;font-family:Menlo,'DejaVu Sans Mono',consolas,'Courier New',monospace\"></pre>\n"
     },
     "metadata": {},
     "output_type": "display_data"
    },
    {
     "data": {
      "text/plain": "\n",
      "text/html": "<pre style=\"white-space:pre;overflow-x:auto;line-height:normal;font-family:Menlo,'DejaVu Sans Mono',consolas,'Courier New',monospace\">\n</pre>\n"
     },
     "metadata": {},
     "output_type": "display_data"
    },
    {
     "data": {
      "text/plain": "Output()",
      "application/vnd.jupyter.widget-view+json": {
       "version_major": 2,
       "version_minor": 0,
       "model_id": "595aafbec26940f6b177727c850b39f5"
      }
     },
     "metadata": {},
     "output_type": "display_data"
    },
    {
     "data": {
      "text/plain": "",
      "text/html": "<pre style=\"white-space:pre;overflow-x:auto;line-height:normal;font-family:Menlo,'DejaVu Sans Mono',consolas,'Courier New',monospace\"></pre>\n"
     },
     "metadata": {},
     "output_type": "display_data"
    },
    {
     "data": {
      "text/plain": "\n",
      "text/html": "<pre style=\"white-space:pre;overflow-x:auto;line-height:normal;font-family:Menlo,'DejaVu Sans Mono',consolas,'Courier New',monospace\">\n</pre>\n"
     },
     "metadata": {},
     "output_type": "display_data"
    },
    {
     "data": {
      "text/plain": "Output()",
      "application/vnd.jupyter.widget-view+json": {
       "version_major": 2,
       "version_minor": 0,
       "model_id": "40ad1dd6d81e4f6881fe9035615e3f41"
      }
     },
     "metadata": {},
     "output_type": "display_data"
    },
    {
     "data": {
      "text/plain": "",
      "text/html": "<pre style=\"white-space:pre;overflow-x:auto;line-height:normal;font-family:Menlo,'DejaVu Sans Mono',consolas,'Courier New',monospace\"></pre>\n"
     },
     "metadata": {},
     "output_type": "display_data"
    },
    {
     "data": {
      "text/plain": "\n",
      "text/html": "<pre style=\"white-space:pre;overflow-x:auto;line-height:normal;font-family:Menlo,'DejaVu Sans Mono',consolas,'Courier New',monospace\">\n</pre>\n"
     },
     "metadata": {},
     "output_type": "display_data"
    },
    {
     "data": {
      "text/plain": "Output()",
      "application/vnd.jupyter.widget-view+json": {
       "version_major": 2,
       "version_minor": 0,
       "model_id": "3b75cb5e465d4ec1b017b23268a61244"
      }
     },
     "metadata": {},
     "output_type": "display_data"
    },
    {
     "data": {
      "text/plain": "",
      "text/html": "<pre style=\"white-space:pre;overflow-x:auto;line-height:normal;font-family:Menlo,'DejaVu Sans Mono',consolas,'Courier New',monospace\"></pre>\n"
     },
     "metadata": {},
     "output_type": "display_data"
    },
    {
     "data": {
      "text/plain": "\n",
      "text/html": "<pre style=\"white-space:pre;overflow-x:auto;line-height:normal;font-family:Menlo,'DejaVu Sans Mono',consolas,'Courier New',monospace\">\n</pre>\n"
     },
     "metadata": {},
     "output_type": "display_data"
    },
    {
     "name": "stderr",
     "output_type": "stream",
     "text": [
      "Sampling 4 chains for 2_000 tune and 2_000 draw iterations (8_000 + 8_000 draws total) took 53 seconds.\n",
      "Initializing NUTS using jitter+adapt_diag...\n"
     ]
    },
    {
     "name": "stdout",
     "output_type": "stream",
     "text": [
      "Completed fitting for topic: Materials Science\n",
      "\n",
      "Fitting 2PL model for topic: Physical Chemistry\n",
      "Array shape: (22, 71)\n"
     ]
    },
    {
     "name": "stderr",
     "output_type": "stream",
     "text": [
      "Sequential sampling (4 chains in 1 job)\n",
      "NUTS: [abilities, discriminations, difficulties]\n"
     ]
    },
    {
     "data": {
      "text/plain": "Output()",
      "application/vnd.jupyter.widget-view+json": {
       "version_major": 2,
       "version_minor": 0,
       "model_id": "88e71fe0d39c493f8d647968af8db0e0"
      }
     },
     "metadata": {},
     "output_type": "display_data"
    },
    {
     "data": {
      "text/plain": "",
      "text/html": "<pre style=\"white-space:pre;overflow-x:auto;line-height:normal;font-family:Menlo,'DejaVu Sans Mono',consolas,'Courier New',monospace\"></pre>\n"
     },
     "metadata": {},
     "output_type": "display_data"
    },
    {
     "data": {
      "text/plain": "\n",
      "text/html": "<pre style=\"white-space:pre;overflow-x:auto;line-height:normal;font-family:Menlo,'DejaVu Sans Mono',consolas,'Courier New',monospace\">\n</pre>\n"
     },
     "metadata": {},
     "output_type": "display_data"
    },
    {
     "data": {
      "text/plain": "Output()",
      "application/vnd.jupyter.widget-view+json": {
       "version_major": 2,
       "version_minor": 0,
       "model_id": "b200ec21a7da450b9059568331318240"
      }
     },
     "metadata": {},
     "output_type": "display_data"
    },
    {
     "data": {
      "text/plain": "",
      "text/html": "<pre style=\"white-space:pre;overflow-x:auto;line-height:normal;font-family:Menlo,'DejaVu Sans Mono',consolas,'Courier New',monospace\"></pre>\n"
     },
     "metadata": {},
     "output_type": "display_data"
    },
    {
     "data": {
      "text/plain": "\n",
      "text/html": "<pre style=\"white-space:pre;overflow-x:auto;line-height:normal;font-family:Menlo,'DejaVu Sans Mono',consolas,'Courier New',monospace\">\n</pre>\n"
     },
     "metadata": {},
     "output_type": "display_data"
    },
    {
     "data": {
      "text/plain": "Output()",
      "application/vnd.jupyter.widget-view+json": {
       "version_major": 2,
       "version_minor": 0,
       "model_id": "5da80cb35dfe4617b9f0ac2f896d390e"
      }
     },
     "metadata": {},
     "output_type": "display_data"
    },
    {
     "data": {
      "text/plain": "",
      "text/html": "<pre style=\"white-space:pre;overflow-x:auto;line-height:normal;font-family:Menlo,'DejaVu Sans Mono',consolas,'Courier New',monospace\"></pre>\n"
     },
     "metadata": {},
     "output_type": "display_data"
    },
    {
     "data": {
      "text/plain": "\n",
      "text/html": "<pre style=\"white-space:pre;overflow-x:auto;line-height:normal;font-family:Menlo,'DejaVu Sans Mono',consolas,'Courier New',monospace\">\n</pre>\n"
     },
     "metadata": {},
     "output_type": "display_data"
    },
    {
     "data": {
      "text/plain": "Output()",
      "application/vnd.jupyter.widget-view+json": {
       "version_major": 2,
       "version_minor": 0,
       "model_id": "2323d585f16c4af79b1a786227bad697"
      }
     },
     "metadata": {},
     "output_type": "display_data"
    },
    {
     "data": {
      "text/plain": "",
      "text/html": "<pre style=\"white-space:pre;overflow-x:auto;line-height:normal;font-family:Menlo,'DejaVu Sans Mono',consolas,'Courier New',monospace\"></pre>\n"
     },
     "metadata": {},
     "output_type": "display_data"
    },
    {
     "data": {
      "text/plain": "\n",
      "text/html": "<pre style=\"white-space:pre;overflow-x:auto;line-height:normal;font-family:Menlo,'DejaVu Sans Mono',consolas,'Courier New',monospace\">\n</pre>\n"
     },
     "metadata": {},
     "output_type": "display_data"
    },
    {
     "name": "stderr",
     "output_type": "stream",
     "text": [
      "Sampling 4 chains for 2_000 tune and 2_000 draw iterations (8_000 + 8_000 draws total) took 67 seconds.\n",
      "Initializing NUTS using jitter+adapt_diag...\n"
     ]
    },
    {
     "name": "stdout",
     "output_type": "stream",
     "text": [
      "Completed fitting for topic: Physical Chemistry\n",
      "\n",
      "Fitting 2PL model for topic: Analytical Chemistry\n",
      "Array shape: (22, 82)\n"
     ]
    },
    {
     "name": "stderr",
     "output_type": "stream",
     "text": [
      "Sequential sampling (4 chains in 1 job)\n",
      "NUTS: [abilities, discriminations, difficulties]\n"
     ]
    },
    {
     "data": {
      "text/plain": "Output()",
      "application/vnd.jupyter.widget-view+json": {
       "version_major": 2,
       "version_minor": 0,
       "model_id": "c552ded150ca4d129e1e3e9774cca29e"
      }
     },
     "metadata": {},
     "output_type": "display_data"
    },
    {
     "data": {
      "text/plain": "",
      "text/html": "<pre style=\"white-space:pre;overflow-x:auto;line-height:normal;font-family:Menlo,'DejaVu Sans Mono',consolas,'Courier New',monospace\"></pre>\n"
     },
     "metadata": {},
     "output_type": "display_data"
    },
    {
     "data": {
      "text/plain": "\n",
      "text/html": "<pre style=\"white-space:pre;overflow-x:auto;line-height:normal;font-family:Menlo,'DejaVu Sans Mono',consolas,'Courier New',monospace\">\n</pre>\n"
     },
     "metadata": {},
     "output_type": "display_data"
    },
    {
     "data": {
      "text/plain": "Output()",
      "application/vnd.jupyter.widget-view+json": {
       "version_major": 2,
       "version_minor": 0,
       "model_id": "a3110f967f4f454584f5f1da895b6f11"
      }
     },
     "metadata": {},
     "output_type": "display_data"
    },
    {
     "data": {
      "text/plain": "",
      "text/html": "<pre style=\"white-space:pre;overflow-x:auto;line-height:normal;font-family:Menlo,'DejaVu Sans Mono',consolas,'Courier New',monospace\"></pre>\n"
     },
     "metadata": {},
     "output_type": "display_data"
    },
    {
     "data": {
      "text/plain": "\n",
      "text/html": "<pre style=\"white-space:pre;overflow-x:auto;line-height:normal;font-family:Menlo,'DejaVu Sans Mono',consolas,'Courier New',monospace\">\n</pre>\n"
     },
     "metadata": {},
     "output_type": "display_data"
    },
    {
     "data": {
      "text/plain": "Output()",
      "application/vnd.jupyter.widget-view+json": {
       "version_major": 2,
       "version_minor": 0,
       "model_id": "4d4b92c6f26e4266881a2eea20ce8a68"
      }
     },
     "metadata": {},
     "output_type": "display_data"
    },
    {
     "data": {
      "text/plain": "",
      "text/html": "<pre style=\"white-space:pre;overflow-x:auto;line-height:normal;font-family:Menlo,'DejaVu Sans Mono',consolas,'Courier New',monospace\"></pre>\n"
     },
     "metadata": {},
     "output_type": "display_data"
    },
    {
     "data": {
      "text/plain": "\n",
      "text/html": "<pre style=\"white-space:pre;overflow-x:auto;line-height:normal;font-family:Menlo,'DejaVu Sans Mono',consolas,'Courier New',monospace\">\n</pre>\n"
     },
     "metadata": {},
     "output_type": "display_data"
    },
    {
     "data": {
      "text/plain": "Output()",
      "application/vnd.jupyter.widget-view+json": {
       "version_major": 2,
       "version_minor": 0,
       "model_id": "2d8ed328ce7f4bad81853ff7aa33e9b0"
      }
     },
     "metadata": {},
     "output_type": "display_data"
    },
    {
     "data": {
      "text/plain": "",
      "text/html": "<pre style=\"white-space:pre;overflow-x:auto;line-height:normal;font-family:Menlo,'DejaVu Sans Mono',consolas,'Courier New',monospace\"></pre>\n"
     },
     "metadata": {},
     "output_type": "display_data"
    },
    {
     "data": {
      "text/plain": "\n",
      "text/html": "<pre style=\"white-space:pre;overflow-x:auto;line-height:normal;font-family:Menlo,'DejaVu Sans Mono',consolas,'Courier New',monospace\">\n</pre>\n"
     },
     "metadata": {},
     "output_type": "display_data"
    },
    {
     "name": "stderr",
     "output_type": "stream",
     "text": [
      "Sampling 4 chains for 2_000 tune and 2_000 draw iterations (8_000 + 8_000 draws total) took 101 seconds.\n"
     ]
    },
    {
     "name": "stdout",
     "output_type": "stream",
     "text": [
      "Completed fitting for topic: Analytical Chemistry\n",
      "\n",
      "Fitting 2PL model for topic: General Chemistry\n",
      "Array shape: (22, 86)\n"
     ]
    },
    {
     "name": "stderr",
     "output_type": "stream",
     "text": [
      "Initializing NUTS using jitter+adapt_diag...\n",
      "Sequential sampling (4 chains in 1 job)\n",
      "NUTS: [abilities, discriminations, difficulties]\n"
     ]
    },
    {
     "data": {
      "text/plain": "Output()",
      "application/vnd.jupyter.widget-view+json": {
       "version_major": 2,
       "version_minor": 0,
       "model_id": "76cb692768754d6c8edf20b57439fe76"
      }
     },
     "metadata": {},
     "output_type": "display_data"
    },
    {
     "data": {
      "text/plain": "",
      "text/html": "<pre style=\"white-space:pre;overflow-x:auto;line-height:normal;font-family:Menlo,'DejaVu Sans Mono',consolas,'Courier New',monospace\"></pre>\n"
     },
     "metadata": {},
     "output_type": "display_data"
    },
    {
     "data": {
      "text/plain": "\n",
      "text/html": "<pre style=\"white-space:pre;overflow-x:auto;line-height:normal;font-family:Menlo,'DejaVu Sans Mono',consolas,'Courier New',monospace\">\n</pre>\n"
     },
     "metadata": {},
     "output_type": "display_data"
    },
    {
     "data": {
      "text/plain": "Output()",
      "application/vnd.jupyter.widget-view+json": {
       "version_major": 2,
       "version_minor": 0,
       "model_id": "7274588ec2204b0fa984152aa5950d72"
      }
     },
     "metadata": {},
     "output_type": "display_data"
    },
    {
     "data": {
      "text/plain": "",
      "text/html": "<pre style=\"white-space:pre;overflow-x:auto;line-height:normal;font-family:Menlo,'DejaVu Sans Mono',consolas,'Courier New',monospace\"></pre>\n"
     },
     "metadata": {},
     "output_type": "display_data"
    },
    {
     "data": {
      "text/plain": "\n",
      "text/html": "<pre style=\"white-space:pre;overflow-x:auto;line-height:normal;font-family:Menlo,'DejaVu Sans Mono',consolas,'Courier New',monospace\">\n</pre>\n"
     },
     "metadata": {},
     "output_type": "display_data"
    },
    {
     "data": {
      "text/plain": "Output()",
      "application/vnd.jupyter.widget-view+json": {
       "version_major": 2,
       "version_minor": 0,
       "model_id": "024f8c86886044a28495e22865834329"
      }
     },
     "metadata": {},
     "output_type": "display_data"
    },
    {
     "data": {
      "text/plain": "",
      "text/html": "<pre style=\"white-space:pre;overflow-x:auto;line-height:normal;font-family:Menlo,'DejaVu Sans Mono',consolas,'Courier New',monospace\"></pre>\n"
     },
     "metadata": {},
     "output_type": "display_data"
    },
    {
     "data": {
      "text/plain": "\n",
      "text/html": "<pre style=\"white-space:pre;overflow-x:auto;line-height:normal;font-family:Menlo,'DejaVu Sans Mono',consolas,'Courier New',monospace\">\n</pre>\n"
     },
     "metadata": {},
     "output_type": "display_data"
    },
    {
     "data": {
      "text/plain": "Output()",
      "application/vnd.jupyter.widget-view+json": {
       "version_major": 2,
       "version_minor": 0,
       "model_id": "a034afd9491346f691d5f9fc6d32b7ec"
      }
     },
     "metadata": {},
     "output_type": "display_data"
    },
    {
     "data": {
      "text/plain": "",
      "text/html": "<pre style=\"white-space:pre;overflow-x:auto;line-height:normal;font-family:Menlo,'DejaVu Sans Mono',consolas,'Courier New',monospace\"></pre>\n"
     },
     "metadata": {},
     "output_type": "display_data"
    },
    {
     "data": {
      "text/plain": "\n",
      "text/html": "<pre style=\"white-space:pre;overflow-x:auto;line-height:normal;font-family:Menlo,'DejaVu Sans Mono',consolas,'Courier New',monospace\">\n</pre>\n"
     },
     "metadata": {},
     "output_type": "display_data"
    },
    {
     "name": "stderr",
     "output_type": "stream",
     "text": [
      "Sampling 4 chains for 2_000 tune and 2_000 draw iterations (8_000 + 8_000 draws total) took 92 seconds.\n"
     ]
    },
    {
     "name": "stdout",
     "output_type": "stream",
     "text": [
      "Completed fitting for topic: General Chemistry\n",
      "\n",
      "Fitting 2PL model for topic: Technical Chemistry\n",
      "Array shape: (22, 28)\n"
     ]
    },
    {
     "name": "stderr",
     "output_type": "stream",
     "text": [
      "Initializing NUTS using jitter+adapt_diag...\n",
      "Sequential sampling (4 chains in 1 job)\n",
      "NUTS: [abilities, discriminations, difficulties]\n"
     ]
    },
    {
     "data": {
      "text/plain": "Output()",
      "application/vnd.jupyter.widget-view+json": {
       "version_major": 2,
       "version_minor": 0,
       "model_id": "e99d20e074804c17987dc0dbee353813"
      }
     },
     "metadata": {},
     "output_type": "display_data"
    },
    {
     "data": {
      "text/plain": "",
      "text/html": "<pre style=\"white-space:pre;overflow-x:auto;line-height:normal;font-family:Menlo,'DejaVu Sans Mono',consolas,'Courier New',monospace\"></pre>\n"
     },
     "metadata": {},
     "output_type": "display_data"
    },
    {
     "data": {
      "text/plain": "\n",
      "text/html": "<pre style=\"white-space:pre;overflow-x:auto;line-height:normal;font-family:Menlo,'DejaVu Sans Mono',consolas,'Courier New',monospace\">\n</pre>\n"
     },
     "metadata": {},
     "output_type": "display_data"
    },
    {
     "data": {
      "text/plain": "Output()",
      "application/vnd.jupyter.widget-view+json": {
       "version_major": 2,
       "version_minor": 0,
       "model_id": "a523119390e14a98aecf724019da2501"
      }
     },
     "metadata": {},
     "output_type": "display_data"
    },
    {
     "data": {
      "text/plain": "",
      "text/html": "<pre style=\"white-space:pre;overflow-x:auto;line-height:normal;font-family:Menlo,'DejaVu Sans Mono',consolas,'Courier New',monospace\"></pre>\n"
     },
     "metadata": {},
     "output_type": "display_data"
    },
    {
     "data": {
      "text/plain": "\n",
      "text/html": "<pre style=\"white-space:pre;overflow-x:auto;line-height:normal;font-family:Menlo,'DejaVu Sans Mono',consolas,'Courier New',monospace\">\n</pre>\n"
     },
     "metadata": {},
     "output_type": "display_data"
    },
    {
     "data": {
      "text/plain": "Output()",
      "application/vnd.jupyter.widget-view+json": {
       "version_major": 2,
       "version_minor": 0,
       "model_id": "793d56594a9045d88fe38be8e4afe1be"
      }
     },
     "metadata": {},
     "output_type": "display_data"
    },
    {
     "data": {
      "text/plain": "",
      "text/html": "<pre style=\"white-space:pre;overflow-x:auto;line-height:normal;font-family:Menlo,'DejaVu Sans Mono',consolas,'Courier New',monospace\"></pre>\n"
     },
     "metadata": {},
     "output_type": "display_data"
    },
    {
     "data": {
      "text/plain": "\n",
      "text/html": "<pre style=\"white-space:pre;overflow-x:auto;line-height:normal;font-family:Menlo,'DejaVu Sans Mono',consolas,'Courier New',monospace\">\n</pre>\n"
     },
     "metadata": {},
     "output_type": "display_data"
    },
    {
     "data": {
      "text/plain": "Output()",
      "application/vnd.jupyter.widget-view+json": {
       "version_major": 2,
       "version_minor": 0,
       "model_id": "b5529ac6945747fcab742cc31666eb79"
      }
     },
     "metadata": {},
     "output_type": "display_data"
    },
    {
     "data": {
      "text/plain": "",
      "text/html": "<pre style=\"white-space:pre;overflow-x:auto;line-height:normal;font-family:Menlo,'DejaVu Sans Mono',consolas,'Courier New',monospace\"></pre>\n"
     },
     "metadata": {},
     "output_type": "display_data"
    },
    {
     "data": {
      "text/plain": "\n",
      "text/html": "<pre style=\"white-space:pre;overflow-x:auto;line-height:normal;font-family:Menlo,'DejaVu Sans Mono',consolas,'Courier New',monospace\">\n</pre>\n"
     },
     "metadata": {},
     "output_type": "display_data"
    },
    {
     "name": "stderr",
     "output_type": "stream",
     "text": [
      "Sampling 4 chains for 2_000 tune and 2_000 draw iterations (8_000 + 8_000 draws total) took 26 seconds.\n"
     ]
    },
    {
     "name": "stdout",
     "output_type": "stream",
     "text": [
      "Completed fitting for topic: Technical Chemistry\n"
     ]
    }
   ],
   "source": [
    "# Dictionary to store traces for each topic\n",
    "topic_traces = {}\n",
    "\n",
    "for topic, topic_df in topic_binary_matrices.items():\n",
    "    topic_binary_array = topic_df.to_numpy().T\n",
    "    \n",
    "    print(f\"Fitting 2PL model for topic: {topic}\")\n",
    "    print(f\"Array shape: {topic_binary_array.shape}\")\n",
    "    \n",
    "    # Fit 2PL model for each topic using PyMC\n",
    "    with pm.Model() as model:\n",
    "        # Get trace from 2PL model fitting\n",
    "        trace = fit_2pl_pymc(topic_binary_array)\n",
    "        topic_traces[topic] = trace\n",
    "        \n",
    "        # Save traces to pickle file after each topic\n",
    "        with open('all_topic_traces.pkl', 'wb') as f:\n",
    "            pickle.dump(topic_traces, f)\n",
    "    \n",
    "    print(f\"Successfully completed model fitting for topic: {topic}\\n\")\n"
   ],
   "metadata": {
    "collapsed": false,
    "ExecuteTime": {
     "end_time": "2025-01-30T13:31:53.232219Z",
     "start_time": "2025-01-30T13:13:17.623963Z"
    }
   }
  },
  {
   "cell_type": "code",
   "execution_count": 222,
   "outputs": [
    {
     "name": "stdout",
     "output_type": "stream",
     "text": [
      "[ 0.24444904  0.16855133  0.23783436 -0.12253324 -0.12037244  0.24337049\n",
      " -0.2392606   0.28493602  0.11745375  0.2351993  -0.40447586 -0.12159662\n",
      " -0.71278672 -0.82340096  0.11113325 -0.12004882  0.40969438  0.29245741\n",
      " -0.00241601  0.23367449 -0.36057898  0.11879534]\n",
      "[0.47251514 0.47369063 0.47260641 0.47674667 0.47333871 0.47430765\n",
      " 0.4677925  0.46399264 0.47915174 0.47469022 0.48155318 0.47044144\n",
      " 0.48556355 0.47701093 0.46707633 0.46704526 0.46917261 0.467812\n",
      " 0.46738175 0.47209426 0.46556582 0.46598803]\n"
     ]
    },
    {
     "data": {
      "text/plain": "<Figure size 487.5x200.861 with 1 Axes>",
      "image/png": "[encoded data removed]"
     },
     "metadata": {},
     "output_type": "display_data"
    }
   ],
   "source": [
    " #with open('all_topic_traces.pkl', 'rb') as f:\n",
    "            #topic_traces = pickle.load(f)\n",
    "\n",
    "models_to_plot = ['o1', 'Claude-3.5 (Sonnet)', 'Mistral-Large-2', 'GPT-4', 'Claude-2-Zero-T', 'Gemini-Pro',\n",
    "                 'GPT-3.5 Turbo Zero-T', 'Galatica-120b']\n",
    "\n",
    "# Get the estimates first\n",
    "estimates = get_parameter_estimates(topic_traces['Technical Chemistry'])\n",
    "abilities_mean = estimates['abilities']['mean']\n",
    "abilities_std = estimates['abilities']['std']\n",
    "\n",
    "print(abilities_mean)\n",
    "print(abilities_std)\n",
    "\n",
    "# plot model comparison with error bars\n",
    "plot_model_comparison2(model_score_df, abilities_mean, abilities_std, models_to_plot)"
   ],
   "metadata": {
    "collapsed": false,
    "ExecuteTime": {
     "end_time": "2025-01-30T13:34:38.671457Z",
     "start_time": "2025-01-30T13:34:38.432663Z"
    }
   }
  },
  {
   "cell_type": "code",
   "execution_count": 256,
   "outputs": [
    {
     "data": {
      "text/plain": "<Figure size 975x1004.31 with 10 Axes>",
      "image/png": "[encoded data removed]"
     },
     "metadata": {},
     "output_type": "display_data"
    }
   ],
   "source": [
    "def plot_model_comparison_by_topic(df, topic_traces, topics, models_to_plot=None, colors=None):\n",
    "    # Create figure with subplots using 2 columns\n",
    "    n_topics = len(topics)\n",
    "    n_cols = 2\n",
    "    n_rows = ((n_topics)) // 2 + 1  \n",
    "    \n",
    "    fig, axes = plt.subplots(n_rows, n_cols,\n",
    "                            figsize=(3*ONE_COL_WIDTH_INCH, n_rows*ONE_COL_GOLDEN_RATIO_HEIGHT_INCH))\n",
    "    if n_rows == 1:\n",
    "        axes = np.array([axes])  # Ensure axes is always 2D\n",
    "    axes = axes.reshape(n_rows, n_cols)\n",
    "    \n",
    "    if models_to_plot is None:\n",
    "        models_to_plot = df.index\n",
    "        \n",
    "    if colors is None:\n",
    "        colors = ['#03071E', '#3A3B73', '#6A040F', '#B20404', '#D63909', '#E27F07', '#F9BB0B', '#FFDA00']\n",
    "    \n",
    "    # Create dummy lines for legend (außerhalb der Schleife)\n",
    "    legend_lines = []\n",
    "    legend_labels = []\n",
    "    for i, model in enumerate(models_to_plot):\n",
    "        line = plt.Line2D([0], [0], color=colors[i % len(colors)], linewidth=1.5)\n",
    "        legend_lines.append(line)\n",
    "    \n",
    "        if model == 'o1':\n",
    "            legend_labels.append('o1-preview')\n",
    "        elif model == 'Claude-2-Zero-T':\n",
    "            legend_labels.append('Claude-2')\n",
    "        elif model == 'GPT-3.5 Turbo Zero-T':\n",
    "            legend_labels.append('GPT-3.5 Turbo')\n",
    "        else:\n",
    "            legend_labels.append(model)\n",
    "    \n",
    "    # Create subplot for each topic\n",
    "    for topic_idx, topic in enumerate(topics):\n",
    "        row = topic_idx // 2\n",
    "        col = topic_idx % 2\n",
    "        ax = axes[row, col]\n",
    "        \n",
    "        # Get topic-specific estimates\n",
    "        estimates = get_parameter_estimates(topic_traces[topic])\n",
    "        abilities_mean = estimates['abilities']['mean']\n",
    "        abilities_std = estimates['abilities']['std']\n",
    "        \n",
    "        # Extract topic-specific data\n",
    "        topic_scores = []\n",
    "        for model in models_to_plot:\n",
    "            topic_data = model_score_dicts['overall'][model]\n",
    "            topic_mask = topic_data['topic'] == topic\n",
    "            correct_answers = topic_data['all_correct_'][topic_mask]\n",
    "            topic_score = correct_answers.mean()\n",
    "            topic_scores.append(topic_score)\n",
    "            \n",
    "        topic_df = pd.DataFrame(topic_scores, index=models_to_plot, columns=['score'])\n",
    "        \n",
    "        # Normalize scores\n",
    "        df_norm = (topic_df - topic_df.min()) / (topic_df.max() - topic_df.min())\n",
    "        abilities_norm = (abilities_mean - abilities_mean.min()) / (abilities_mean.max() - abilities_mean.min())\n",
    "        \n",
    "        x = np.array([0.1, 0.9])\n",
    "        y_values = []\n",
    "        \n",
    "        for i, model in enumerate(models_to_plot):\n",
    "            idx = df.index.get_loc(model)\n",
    "            y = np.array([df_norm.loc[model, 'score'], abilities_norm[idx]])\n",
    "            y_values.extend([y[0], y[1]])\n",
    "            \n",
    "            # Plot lines\n",
    "            ax.plot(x, y, '-', label=model, color=colors[i % len(colors)], linewidth=1.5)\n",
    "        \n",
    "        ax.set_xticks([0.1, 0.9])\n",
    "        \n",
    "        # Nur für die unterste Reihe X-Achsen-Labels anzeigen\n",
    "        if row == (n_rows - 2):  # -2 weil die letzte Reihe für die Legende ist\n",
    "            ax.set_xticklabels(['Current\\nimplementation', 'IRT'], fontsize=10)\n",
    "        else:\n",
    "            ax.set_xticklabels([])\n",
    "        \n",
    "        if col == 0:\n",
    "            ax.set_ylabel('Normalized Score', fontsize=11)\n",
    "        \n",
    "        # Set axis limits with padding\n",
    "        ymin = min(y_values) - 0.05\n",
    "        ymax = max(y_values) + 0.05\n",
    "        ax.set_ylim(ymin, ymax)\n",
    "        ax.set_xlim(0, 1)\n",
    "        \n",
    "        # Set title with larger font size\n",
    "        ax.set_title(topic, pad=10, fontsize=12)\n",
    "        ax.set_facecolor('white')\n",
    "        \n",
    "        # Set tick label font sizes\n",
    "        ax.tick_params(axis='both', which='major', labelsize=10)\n",
    "        \n",
    "        range_frame(ax, x, np.concatenate([df_norm.loc[models_to_plot, 'score'],\n",
    "                                         abilities_norm[[df.index.get_loc(m) for m in models_to_plot]]]))\n",
    "    \n",
    "    # Create legend in the last row \n",
    "    for ax in axes[-1]:\n",
    "        ax.axis('off')\n",
    "    legend = fig.legend(legend_lines, legend_labels,\n",
    "               loc='center',\n",
    "               bbox_to_anchor=(0.5, 0.15),  \n",
    "               ncol=len(models_to_plot) // 2,\n",
    "               fontsize=12,\n",
    "               frameon=False,\n",
    "               handlelength=1.5)\n",
    "\n",
    "    fig.patch.set_facecolor('white')\n",
    "\n",
    "    # Adjust spacing between subplots\n",
    "    plt.subplots_adjust(hspace=0.5, wspace=0.3)\n",
    "    \n",
    "    plt.savefig(\"model_comparison_by_topic.pdf\", format='pdf', bbox_inches='tight', dpi=300)\n",
    "    plt.show()\n",
    "\n",
    "# Call the plotting function with all topics and topic_traces\n",
    "plot_model_comparison_by_topic(\n",
    "    df=model_score_df,\n",
    "    topic_traces=topic_traces,\n",
    "    topics=unique_topics,\n",
    "    models_to_plot=models_to_plot\n",
    ")"
   ],
   "metadata": {
    "collapsed": false,
    "ExecuteTime": {
     "end_time": "2025-01-31T09:52:32.301266Z",
     "start_time": "2025-01-31T09:52:29.012482Z"
    }
   }
  },
  {
   "cell_type": "code",
   "execution_count": null,
   "outputs": [],
   "source": [
    "# Define models to plot\n",
    "models_to_plot = ['o1', 'Claude-3.5 (Sonnet)', 'Mistral-Large-2', 'GPT-4', 'Claude-2-Zero-T', 'Gemini-Pro',\n",
    "                 'GPT-3.5 Turbo Zero-T', 'Galatica-120b']\n",
    "\n",
    "# Get a list of all topics\n",
    "sample_model = list(model_score_dicts['overall'].keys())[0]\n",
    "unique_topics = model_score_dicts['overall'][sample_model]['topic'].unique()\n",
    "\n",
    "# Get estimates for the first topic (needed for the function call)\n",
    "initial_estimates = get_parameter_estimates(topic_traces[unique_topics[0]])\n",
    "abilities_mean = initial_estimates['abilities']['mean']\n",
    "abilities_std = initial_estimates['abilities']['std']\n",
    "\n",
    "# Call the plotting function with all topics\n",
    "plot_model_comparison_by_topic(\n",
    "    df=model_score_df,\n",
    "    abilities_mean=abilities_mean,\n",
    "    abilities_std=abilities_std,\n",
    "    topics=unique_topics,\n",
    "    models_to_plot=models_to_plot\n",
    ")"
   ],
   "metadata": {
    "collapsed": false
   }
  },
  {
   "cell_type": "code",
   "execution_count": 257,
   "outputs": [],
   "source": [
    "def plot_model_comparison_by_topic(df, topic_traces, topics, models_to_plot=None, colors=None):\n",
    "    # Create figure with subplots using 2 columns\n",
    "    n_topics = len(topics)\n",
    "    n_cols = 2\n",
    "    n_rows = ((n_topics)) // 2 + 1  # +1 für die Legende\n",
    "    \n",
    "    fig, axes = plt.subplots(n_rows, n_cols,\n",
    "                            figsize=(3*ONE_COL_WIDTH_INCH, n_rows*ONE_COL_GOLDEN_RATIO_HEIGHT_INCH))\n",
    "    if n_rows == 1:\n",
    "        axes = np.array([axes])  # Ensure axes is always 2D\n",
    "    axes = axes.reshape(n_rows, n_cols)\n",
    "    \n",
    "    if models_to_plot is None:\n",
    "        models_to_plot = df.index\n",
    "        \n",
    "    if colors is None:\n",
    "        colors = ['#03071E', '#3A3B73', '#6A040F', '#B20404', '#D63909', '#E27F07', '#F9BB0B', '#FFDA00']\n",
    "    \n",
    "    # Create dummy lines for legend\n",
    "    legend_lines = []\n",
    "    legend_labels = []\n",
    "    for i, model in enumerate(models_to_plot):\n",
    "        line = plt.Line2D([0], [0], color=colors[i % len(colors)], linewidth=1.5)\n",
    "        legend_lines.append(line)\n",
    "        legend_labels.append(model)\n",
    "    \n",
    "    # Create subplot for each topic\n",
    "    for topic_idx, topic in enumerate(topics):\n",
    "        row = topic_idx // 2\n",
    "        col = topic_idx % 2\n",
    "        ax = axes[row, col]\n",
    "        \n",
    "        # Get topic-specific estimates\n",
    "        estimates = get_parameter_estimates(topic_traces[topic])\n",
    "        abilities_mean = estimates['abilities']['mean']\n",
    "        abilities_std = estimates['abilities']['std']\n",
    "        \n",
    "        # Extract topic-specific data\n",
    "        topic_scores = []\n",
    "        for model in models_to_plot:\n",
    "            topic_data = model_score_dicts['overall'][model]\n",
    "            topic_mask = topic_data['topic'] == topic\n",
    "            correct_answers = topic_data['all_correct_'][topic_mask]\n",
    "            topic_score = correct_answers.mean()\n",
    "            topic_scores.append(topic_score)\n",
    "            \n",
    "        topic_df = pd.DataFrame(topic_scores, index=models_to_plot, columns=['score'])\n",
    "        \n",
    "        # Normalize scores\n",
    "        df_norm = (topic_df - topic_df.min()) / (topic_df.max() - topic_df.min())\n",
    "        abilities_norm = (abilities_mean - abilities_mean.min()) / (abilities_mean.max() - abilities_mean.min())\n",
    "        \n",
    "        # Normalize standard deviations\n",
    "        scale_factor = 1 / (abilities_mean.max() - abilities_mean.min())\n",
    "        abilities_std_norm = abilities_std * scale_factor\n",
    "        \n",
    "        x = np.array([0.1, 0.9])\n",
    "        y_values = []\n",
    "        \n",
    "        for i, model in enumerate(models_to_plot):\n",
    "            idx = df.index.get_loc(model)\n",
    "            y = np.array([df_norm.loc[model, 'score'], abilities_norm[idx]])\n",
    "            y_values.extend([y[0], y[1]])\n",
    "            \n",
    "            # Plot lines\n",
    "            ax.plot(x, y, '-', label=model, color=colors[i % len(colors)], linewidth=1.5)\n",
    "            \n",
    "            # Add error bars\n",
    "            y_err = abilities_std_norm[idx]\n",
    "            y_values.extend([abilities_norm[idx] - y_err, abilities_norm[idx] + y_err])\n",
    "            ax.errorbar(0.9, abilities_norm[idx], yerr=y_err,\n",
    "                       fmt='none', color=colors[i % len(colors)], capsize=0,\n",
    "                       linewidth=1)\n",
    "        \n",
    "        ax.set_xticks([0.1, 0.9])\n",
    "        \n",
    "        # Nur für die unterste Reihe X-Achsen-Labels anzeigen\n",
    "        if row == (n_rows - 2):  # -2 weil die letzte Reihe für die Legende ist\n",
    "            ax.set_xticklabels(['Current\\nimplementation', 'IRT'], fontsize=10)\n",
    "        else:\n",
    "            ax.set_xticklabels([])\n",
    "        \n",
    "        if col == 0:\n",
    "            ax.set_ylabel('Normalized Score', fontsize=11)\n",
    "        \n",
    "        # Set axis limits with padding\n",
    "        ymin = min(y_values) - 0.05\n",
    "        ymax = max(y_values) + 0.05\n",
    "        ax.set_ylim(ymin, ymax)\n",
    "        ax.set_xlim(0, 1)\n",
    "        \n",
    "        # Set title with larger font size\n",
    "        ax.set_title(topic, pad=10, fontsize=12)\n",
    "        ax.set_facecolor('white')\n",
    "        \n",
    "        # Set tick label font sizes\n",
    "        ax.tick_params(axis='both', which='major', labelsize=10)\n",
    "        \n",
    "        range_frame(ax, x, np.concatenate([df_norm.loc[models_to_plot, 'score'],\n",
    "                                         abilities_norm[[df.index.get_loc(m) for m in models_to_plot]]]))\n",
    "        \n",
    "        # Create dummy lines for legend (außerhalb der Schleife)\n",
    "        legend_lines = []\n",
    "        legend_labels = []\n",
    "        for i, model in enumerate(models_to_plot):\n",
    "            line = plt.Line2D([0], [0], color=colors[i % len(colors)], linewidth=1.5)\n",
    "            legend_lines.append(line)\n",
    "    \n",
    "            if model == 'o1':\n",
    "                legend_labels.append('o1-preview')\n",
    "            elif model == 'Claude-2-Zero-T':\n",
    "                legend_labels.append('Claude-2')\n",
    "            elif model == 'GPT-3.5 Turbo Zero-T':\n",
    "                legend_labels.append('GPT-3.5 Turbo')\n",
    "            else:\n",
    "                legend_labels.append(model)\n",
    "        \n",
    "        # Create legend in the last row\n",
    "        for ax in axes[-1]:\n",
    "            ax.axis('off')\n",
    "        legend = fig.legend(legend_lines, legend_labels,\n",
    "                   loc='center',\n",
    "                   bbox_to_anchor=(0.5, 0.15),  \n",
    "                   ncol=len(models_to_plot) // 2,\n",
    "                   fontsize=12,\n",
    "                   frameon=False,\n",
    "                   handlelength=1.5)\n",
    "\n",
    "        fig.patch.set_facecolor('white')\n",
    "\n",
    "        # Adjust spacing between subplots\n",
    "        plt.subplots_adjust(hspace=0.5, wspace=0.3)\n",
    "    \n",
    "    plt.savefig(\"model_comparison_by_topic_with_errors.pdf\", format='pdf', bbox_inches='tight', dpi=300)\n",
    "    plt.show()"
   ],
   "metadata": {
    "collapsed": false,
    "ExecuteTime": {
     "end_time": "2025-01-31T09:52:55.533201Z",
     "start_time": "2025-01-31T09:52:55.508593Z"
    }
   }
  },
  {
   "cell_type": "code",
   "execution_count": 258,
   "outputs": [
    {
     "data": {
      "text/plain": "<Figure size 975x1004.31 with 10 Axes>",
      "image/png": "[encoded data removed]"
     },
     "metadata": {},
     "output_type": "display_data"
    }
   ],
   "source": [
    "\n",
    "# Define models to plot\n",
    "models_to_plot = ['o1', 'Claude-3.5 (Sonnet)', 'Mistral-Large-2', 'GPT-4', 'Claude-2-Zero-T', 'Gemini-Pro',\n",
    "                 'GPT-3.5 Turbo Zero-T', 'Galatica-120b']\n",
    "\n",
    "# Get a list of all topics\n",
    "sample_model = list(model_score_dicts['overall'].keys())[0]\n",
    "unique_topics = model_score_dicts['overall'][sample_model]['topic'].unique()\n",
    "\n",
    "# Call the plotting function with all topics and topic_traces\n",
    "plot_model_comparison_by_topic(\n",
    "    df=model_score_df,\n",
    "    topic_traces=topic_traces,\n",
    "    topics=unique_topics,\n",
    "    models_to_plot=models_to_plot\n",
    ")"
   ],
   "metadata": {
    "collapsed": false,
    "ExecuteTime": {
     "end_time": "2025-01-31T09:53:03.645671Z",
     "start_time": "2025-01-31T09:52:56.278857Z"
    }
   }
  },
  {
   "cell_type": "code",
   "execution_count": 230,
   "outputs": [],
   "source": [
    "with open('all_topic_traces.pkl', 'wb') as f:\n",
    "            pickle.dump(topic_traces, f)"
   ],
   "metadata": {
    "collapsed": false,
    "ExecuteTime": {
     "end_time": "2025-01-30T13:54:51.059268Z",
     "start_time": "2025-01-30T13:54:49.101207Z"
    }
   }
  },
  {
   "cell_type": "code",
   "execution_count": null,
   "outputs": [],
   "source": [],
   "metadata": {
    "collapsed": false
   }
  }
 ],
 "metadata": {
  "kernelspec": {
   "display_name": "irt",
   "language": "python",
   "name": "python3"
  },
  "language_info": {
   "codemirror_mode": {
    "name": "ipython",
    "version": 3
   },
   "file_extension": ".py",
   "mimetype": "text/x-python",
   "name": "python",
   "nbconvert_exporter": "python",
   "pygments_lexer": "ipython3",
   "version": "3.11.11"
  }
 },
 "nbformat": 4,
 "nbformat_minor": 4
}
